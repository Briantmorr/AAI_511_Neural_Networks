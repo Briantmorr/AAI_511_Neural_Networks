{
 "cells": [
  {
   "cell_type": "code",
   "execution_count": 10,
   "metadata": {},
   "outputs": [],
   "source": [
    "import numpy as np \n",
    "import os \n",
    "import pandas as pd "
   ]
  },
  {
   "cell_type": "code",
   "execution_count": 11,
   "metadata": {},
   "outputs": [],
   "source": [
    "path = './data'\n",
    "filename = 'preprocessed_data_with_piano_rolls.csv'"
   ]
  },
  {
   "cell_type": "code",
   "execution_count": 12,
   "metadata": {},
   "outputs": [
    {
     "data": {
      "text/html": [
       "<div>\n",
       "<style scoped>\n",
       "    .dataframe tbody tr th:only-of-type {\n",
       "        vertical-align: middle;\n",
       "    }\n",
       "\n",
       "    .dataframe tbody tr th {\n",
       "        vertical-align: top;\n",
       "    }\n",
       "\n",
       "    .dataframe thead th {\n",
       "        text-align: right;\n",
       "    }\n",
       "</style>\n",
       "<table border=\"1\" class=\"dataframe\">\n",
       "  <thead>\n",
       "    <tr style=\"text-align: right;\">\n",
       "      <th></th>\n",
       "      <th>midi_file</th>\n",
       "      <th>path</th>\n",
       "      <th>composer</th>\n",
       "      <th>piano_roll_file</th>\n",
       "    </tr>\n",
       "  </thead>\n",
       "  <tbody>\n",
       "    <tr>\n",
       "      <th>0</th>\n",
       "      <td>Bwv0997 Partita for Lute 1mov.mid</td>\n",
       "      <td>./data/Bach/</td>\n",
       "      <td>Bach</td>\n",
       "      <td>Bwv0997 Partita for Lute 1mov.npy</td>\n",
       "    </tr>\n",
       "    <tr>\n",
       "      <th>1</th>\n",
       "      <td>Bwv0535 Prelude and Fugue.mid</td>\n",
       "      <td>./data/Bach/</td>\n",
       "      <td>Bach</td>\n",
       "      <td>Bwv0535 Prelude and Fugue.npy</td>\n",
       "    </tr>\n",
       "    <tr>\n",
       "      <th>2</th>\n",
       "      <td>Bwv0806 English Suite n1 05mov.mid</td>\n",
       "      <td>./data/Bach/</td>\n",
       "      <td>Bach</td>\n",
       "      <td>Bwv0806 English Suite n1 05mov.npy</td>\n",
       "    </tr>\n",
       "    <tr>\n",
       "      <th>3</th>\n",
       "      <td>Bwv0998 Prelude Fugue Allegro for Lute 3mov.mid</td>\n",
       "      <td>./data/Bach/</td>\n",
       "      <td>Bach</td>\n",
       "      <td>Bwv0998 Prelude Fugue Allegro for Lute 3mov.npy</td>\n",
       "    </tr>\n",
       "    <tr>\n",
       "      <th>4</th>\n",
       "      <td>Jesu Joy of Man Desiring.mid</td>\n",
       "      <td>./data/Bach/</td>\n",
       "      <td>Bach</td>\n",
       "      <td>Jesu Joy of Man Desiring.npy</td>\n",
       "    </tr>\n",
       "  </tbody>\n",
       "</table>\n",
       "</div>"
      ],
      "text/plain": [
       "                                         midi_file          path composer  \\\n",
       "0                Bwv0997 Partita for Lute 1mov.mid  ./data/Bach/     Bach   \n",
       "1                    Bwv0535 Prelude and Fugue.mid  ./data/Bach/     Bach   \n",
       "2               Bwv0806 English Suite n1 05mov.mid  ./data/Bach/     Bach   \n",
       "3  Bwv0998 Prelude Fugue Allegro for Lute 3mov.mid  ./data/Bach/     Bach   \n",
       "4                     Jesu Joy of Man Desiring.mid  ./data/Bach/     Bach   \n",
       "\n",
       "                                   piano_roll_file  \n",
       "0                Bwv0997 Partita for Lute 1mov.npy  \n",
       "1                    Bwv0535 Prelude and Fugue.npy  \n",
       "2               Bwv0806 English Suite n1 05mov.npy  \n",
       "3  Bwv0998 Prelude Fugue Allegro for Lute 3mov.npy  \n",
       "4                     Jesu Joy of Man Desiring.npy  "
      ]
     },
     "execution_count": 12,
     "metadata": {},
     "output_type": "execute_result"
    }
   ],
   "source": [
    "df = pd.read_csv(os.path.join(path, filename))\n",
    "df.head()"
   ]
  },
  {
   "cell_type": "markdown",
   "metadata": {},
   "source": [
    "### Train CNN Model"
   ]
  },
  {
   "cell_type": "code",
   "execution_count": 13,
   "metadata": {},
   "outputs": [],
   "source": [
    "def load_piano_rolls(df):\n",
    "    piano_rolls = []\n",
    "    for _, row in df.iterrows():\n",
    "        piano_roll_path = os.path.join(row['path'], row['piano_roll_file'])\n",
    "        piano_roll = np.load(piano_roll_path)\n",
    "        piano_roll = piano_roll / np.max(piano_roll)  # Normalize to [0, 1]\n",
    "        piano_rolls.append(piano_roll)\n",
    "    return np.array(piano_rolls)"
   ]
  },
  {
   "cell_type": "code",
   "execution_count": 14,
   "metadata": {},
   "outputs": [
    {
     "ename": "ValueError",
     "evalue": "setting an array element with a sequence. The requested array has an inhomogeneous shape after 2 dimensions. The detected shape was (1528, 128) + inhomogeneous part.",
     "output_type": "error",
     "traceback": [
      "\u001b[0;31m---------------------------------------------------------------------------\u001b[0m",
      "\u001b[0;31mValueError\u001b[0m                                Traceback (most recent call last)",
      "Cell \u001b[0;32mIn[14], line 1\u001b[0m\n\u001b[0;32m----> 1\u001b[0m piano_rolls \u001b[38;5;241m=\u001b[39m load_piano_rolls(df)\n\u001b[1;32m      2\u001b[0m labels \u001b[38;5;241m=\u001b[39m df[\u001b[38;5;124m'\u001b[39m\u001b[38;5;124mcomposer\u001b[39m\u001b[38;5;124m'\u001b[39m]\u001b[38;5;241m.\u001b[39mastype(\u001b[38;5;124m'\u001b[39m\u001b[38;5;124mcategory\u001b[39m\u001b[38;5;124m'\u001b[39m)\u001b[38;5;241m.\u001b[39mcat\u001b[38;5;241m.\u001b[39mcodes\n\u001b[1;32m      3\u001b[0m num_classes \u001b[38;5;241m=\u001b[39m \u001b[38;5;28mlen\u001b[39m(df[\u001b[38;5;124m'\u001b[39m\u001b[38;5;124mcomposer\u001b[39m\u001b[38;5;124m'\u001b[39m]\u001b[38;5;241m.\u001b[39munique())\n",
      "Cell \u001b[0;32mIn[13], line 8\u001b[0m, in \u001b[0;36mload_piano_rolls\u001b[0;34m(df)\u001b[0m\n\u001b[1;32m      6\u001b[0m     piano_roll \u001b[38;5;241m=\u001b[39m piano_roll \u001b[38;5;241m/\u001b[39m np\u001b[38;5;241m.\u001b[39mmax(piano_roll)  \u001b[38;5;66;03m# Normalize to [0, 1]\u001b[39;00m\n\u001b[1;32m      7\u001b[0m     piano_rolls\u001b[38;5;241m.\u001b[39mappend(piano_roll)\n\u001b[0;32m----> 8\u001b[0m \u001b[38;5;28;01mreturn\u001b[39;00m np\u001b[38;5;241m.\u001b[39marray(piano_rolls)\n",
      "\u001b[0;31mValueError\u001b[0m: setting an array element with a sequence. The requested array has an inhomogeneous shape after 2 dimensions. The detected shape was (1528, 128) + inhomogeneous part."
     ]
    }
   ],
   "source": [
    "piano_rolls = load_piano_rolls(df)\n",
    "labels = df['composer'].astype('category').cat.codes\n",
    "num_classes = len(df['composer'].unique())"
   ]
  },
  {
   "cell_type": "code",
   "execution_count": null,
   "metadata": {},
   "outputs": [],
   "source": []
  }
 ],
 "metadata": {
  "kernelspec": {
   "display_name": "Python 3 (ipykernel)",
   "language": "python",
   "name": "python3"
  },
  "language_info": {
   "codemirror_mode": {
    "name": "ipython",
    "version": 3
   },
   "file_extension": ".py",
   "mimetype": "text/x-python",
   "name": "python",
   "nbconvert_exporter": "python",
   "pygments_lexer": "ipython3",
   "version": "3.11.4"
  }
 },
 "nbformat": 4,
 "nbformat_minor": 2
}
