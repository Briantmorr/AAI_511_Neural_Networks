{
 "cells": [
  {
   "cell_type": "code",
   "execution_count": 35,
   "metadata": {},
   "outputs": [
    {
     "name": "stdout",
     "output_type": "stream",
     "text": [
      "Requirement already satisfied: music21 in /Users/I523193/anaconda3/lib/python3.11/site-packages (9.1.0)\n",
      "Requirement already satisfied: chardet in /Users/I523193/anaconda3/lib/python3.11/site-packages (from music21) (4.0.0)\n",
      "Requirement already satisfied: joblib in /Users/I523193/anaconda3/lib/python3.11/site-packages (from music21) (1.2.0)\n",
      "Requirement already satisfied: jsonpickle in /Users/I523193/anaconda3/lib/python3.11/site-packages (from music21) (3.2.2)\n",
      "Requirement already satisfied: matplotlib in /Users/I523193/anaconda3/lib/python3.11/site-packages (from music21) (3.7.1)\n",
      "Requirement already satisfied: more-itertools in /Users/I523193/anaconda3/lib/python3.11/site-packages (from music21) (8.12.0)\n",
      "Requirement already satisfied: numpy in /Users/I523193/anaconda3/lib/python3.11/site-packages (from music21) (1.24.3)\n",
      "Requirement already satisfied: requests in /Users/I523193/anaconda3/lib/python3.11/site-packages (from music21) (2.31.0)\n",
      "Requirement already satisfied: webcolors>=1.5 in /Users/I523193/anaconda3/lib/python3.11/site-packages (from music21) (1.13)\n",
      "Requirement already satisfied: contourpy>=1.0.1 in /Users/I523193/anaconda3/lib/python3.11/site-packages (from matplotlib->music21) (1.0.5)\n",
      "Requirement already satisfied: cycler>=0.10 in /Users/I523193/anaconda3/lib/python3.11/site-packages (from matplotlib->music21) (0.11.0)\n",
      "Requirement already satisfied: fonttools>=4.22.0 in /Users/I523193/anaconda3/lib/python3.11/site-packages (from matplotlib->music21) (4.25.0)\n",
      "Requirement already satisfied: kiwisolver>=1.0.1 in /Users/I523193/anaconda3/lib/python3.11/site-packages (from matplotlib->music21) (1.4.4)\n",
      "Requirement already satisfied: packaging>=20.0 in /Users/I523193/anaconda3/lib/python3.11/site-packages (from matplotlib->music21) (23.2)\n",
      "Requirement already satisfied: pillow>=6.2.0 in /Users/I523193/anaconda3/lib/python3.11/site-packages (from matplotlib->music21) (9.4.0)\n",
      "Requirement already satisfied: pyparsing>=2.3.1 in /Users/I523193/anaconda3/lib/python3.11/site-packages (from matplotlib->music21) (3.0.9)\n",
      "Requirement already satisfied: python-dateutil>=2.7 in /Users/I523193/anaconda3/lib/python3.11/site-packages (from matplotlib->music21) (2.8.2)\n",
      "Requirement already satisfied: charset-normalizer<4,>=2 in /Users/I523193/anaconda3/lib/python3.11/site-packages (from requests->music21) (2.0.4)\n",
      "Requirement already satisfied: idna<4,>=2.5 in /Users/I523193/anaconda3/lib/python3.11/site-packages (from requests->music21) (3.4)\n",
      "Requirement already satisfied: urllib3<3,>=1.21.1 in /Users/I523193/anaconda3/lib/python3.11/site-packages (from requests->music21) (1.26.16)\n",
      "Requirement already satisfied: certifi>=2017.4.17 in /Users/I523193/anaconda3/lib/python3.11/site-packages (from requests->music21) (2023.7.22)\n",
      "Requirement already satisfied: six>=1.5 in /Users/I523193/anaconda3/lib/python3.11/site-packages (from python-dateutil>=2.7->matplotlib->music21) (1.16.0)\n",
      "Note: you may need to restart the kernel to use updated packages.\n"
     ]
    }
   ],
   "source": [
    "pip install music21"
   ]
  },
  {
   "cell_type": "code",
   "execution_count": 110,
   "metadata": {},
   "outputs": [],
   "source": [
    "import numpy as np\n",
    "import pandas as pd\n",
    "from sklearn.model_selection import train_test_split\n",
    "from tensorflow.keras.utils import to_categorical\n",
    "from tensorflow.keras.preprocessing.sequence import pad_sequences\n",
    "from sklearn.preprocessing import LabelEncoder\n",
    "\n",
    "from tensorflow.keras.models import Sequential\n",
    "from tensorflow.keras.layers import Conv1D, MaxPooling1D, Flatten, Dense, Dropout\n",
    "from sklearn.metrics import classification_report\n"
   ]
  },
  {
   "cell_type": "code",
   "execution_count": 42,
   "metadata": {},
   "outputs": [],
   "source": [
    "df = pd.read_csv('./data/preprocessed_data_with_midi.csv')"
   ]
  },
  {
   "cell_type": "code",
   "execution_count": 57,
   "metadata": {},
   "outputs": [
    {
     "data": {
      "text/plain": [
       "42"
      ]
     },
     "execution_count": 57,
     "metadata": {},
     "output_type": "execute_result"
    }
   ],
   "source": [
    "len(df['tempos'].head(1).values[0])"
   ]
  },
  {
   "cell_type": "markdown",
   "metadata": {},
   "source": [
    "## More preprocessing. Zero pad arrays"
   ]
  },
  {
   "cell_type": "code",
   "execution_count": 58,
   "metadata": {},
   "outputs": [],
   "source": [
    "MAX_LEN = 500  "
   ]
  },
  {
   "cell_type": "code",
   "execution_count": 63,
   "metadata": {},
   "outputs": [
    {
     "data": {
      "text/html": [
       "<div>\n",
       "<style scoped>\n",
       "    .dataframe tbody tr th:only-of-type {\n",
       "        vertical-align: middle;\n",
       "    }\n",
       "\n",
       "    .dataframe tbody tr th {\n",
       "        vertical-align: top;\n",
       "    }\n",
       "\n",
       "    .dataframe thead th {\n",
       "        text-align: right;\n",
       "    }\n",
       "</style>\n",
       "<table border=\"1\" class=\"dataframe\">\n",
       "  <thead>\n",
       "    <tr style=\"text-align: right;\">\n",
       "      <th></th>\n",
       "      <th>midi_file</th>\n",
       "      <th>composer</th>\n",
       "      <th>path</th>\n",
       "      <th>notes</th>\n",
       "      <th>chords</th>\n",
       "      <th>tempos</th>\n",
       "      <th>encoded_notes</th>\n",
       "      <th>encoded_chords</th>\n",
       "    </tr>\n",
       "  </thead>\n",
       "  <tbody>\n",
       "    <tr>\n",
       "      <th>0</th>\n",
       "      <td>Bwv0997 Partita for Lute 1mov.mid</td>\n",
       "      <td>Bach</td>\n",
       "      <td>./data/Bach/</td>\n",
       "      <td>['C3', 'C5', 'D5', 'E-5', 'G5', 'B5', 'C6', 'B...</td>\n",
       "      <td>['9.10', '7.8', '6.9', '0.3', '0.6', '2', '7.1...</td>\n",
       "      <td>[80, 80, 60, 60, 120, 120, 60, 60, 80, 80]</td>\n",
       "      <td>[0, 0, 60, 0, 0, 0, 0, 0, 60, 0, 0, 0, 0, 0, 6...</td>\n",
       "      <td>[0, 0, 9, 0, 1, 0, 0, 0, 0, 0, 7, 0, 8, 0, 0, ...</td>\n",
       "    </tr>\n",
       "    <tr>\n",
       "      <th>1</th>\n",
       "      <td>Bwv0535 Prelude and Fugue.mid</td>\n",
       "      <td>Bach</td>\n",
       "      <td>./data/Bach/</td>\n",
       "      <td>['G3', 'D3', 'B-2', 'D3', 'G2', 'A3', 'B-3', '...</td>\n",
       "      <td>['2.7', '0.6', '7.10', '9', '7.10', '7.11', '7...</td>\n",
       "      <td>[80, 80, 80, 50, 50, 50, 65, 65, 65, 60, 60, 6...</td>\n",
       "      <td>[0, 0, 67, 0, 0, 0, 0, 0, 62, 0, 0, 0, 0, 0, 7...</td>\n",
       "      <td>[0, 0, 2, 0, 7, 0, 0, 0, 0, 0, 0, 6, 0, 0, 0, ...</td>\n",
       "    </tr>\n",
       "    <tr>\n",
       "      <th>2</th>\n",
       "      <td>Bwv0806 English Suite n1 05mov.mid</td>\n",
       "      <td>Bach</td>\n",
       "      <td>./data/Bach/</td>\n",
       "      <td>['A4', 'A4', 'A2', 'E4', 'C#4', 'A3', 'G#3', '...</td>\n",
       "      <td>['5.6', '1.2', '11.4', '1.2', '4.6', '2.4', '4...</td>\n",
       "      <td>[144, 144]</td>\n",
       "      <td>[0, 0, 69, 0, 0, 0, 0, 0, 69, 0, 0, 0, 0, 0, 6...</td>\n",
       "      <td>[0, 0, 5, 0, 6, 0, 0, 0, 0, 1, 0, 2, 0, 0, 0, ...</td>\n",
       "    </tr>\n",
       "    <tr>\n",
       "      <th>3</th>\n",
       "      <td>Bwv0998 Prelude Fugue Allegro for Lute 3mov.mid</td>\n",
       "      <td>Bach</td>\n",
       "      <td>./data/Bach/</td>\n",
       "      <td>['E-2', 'E-4', 'D4', 'C4', 'B-3', 'G#3', 'G3',...</td>\n",
       "      <td>['2.5', '7.8', '7.10', '4.7', '5.8']</td>\n",
       "      <td>[100, 100, 100, 8, 8, 8]</td>\n",
       "      <td>[0, 0, 64, 0, 0, 0, 0, 0, 0, 64, 0, 0, 0, 0, 0...</td>\n",
       "      <td>[0, 0, 2, 0, 5, 0, 0, 0, 0, 7, 0, 8, 0, 0, 0, ...</td>\n",
       "    </tr>\n",
       "    <tr>\n",
       "      <th>4</th>\n",
       "      <td>Jesu Joy of Man Desiring.mid</td>\n",
       "      <td>Bach</td>\n",
       "      <td>./data/Bach/</td>\n",
       "      <td>['G2', 'G1', 'G1', 'G4', 'G4', 'A4', 'A4', 'B4...</td>\n",
       "      <td>['11.0', '11.0', '11.0', '11.0', '11.0', '11.0...</td>\n",
       "      <td>[65, 65, 65, 65, 65, 65, 65, 65, 65, 65, 65, 6...</td>\n",
       "      <td>[0, 0, 67, 0, 0, 0, 0, 0, 67, 0, 0, 0, 0, 0, 6...</td>\n",
       "      <td>[0, 0, 1, 1, 0, 0, 0, 0, 0, 0, 1, 1, 0, 0, 0, ...</td>\n",
       "    </tr>\n",
       "  </tbody>\n",
       "</table>\n",
       "</div>"
      ],
      "text/plain": [
       "                                         midi_file composer          path  \\\n",
       "0                Bwv0997 Partita for Lute 1mov.mid     Bach  ./data/Bach/   \n",
       "1                    Bwv0535 Prelude and Fugue.mid     Bach  ./data/Bach/   \n",
       "2               Bwv0806 English Suite n1 05mov.mid     Bach  ./data/Bach/   \n",
       "3  Bwv0998 Prelude Fugue Allegro for Lute 3mov.mid     Bach  ./data/Bach/   \n",
       "4                     Jesu Joy of Man Desiring.mid     Bach  ./data/Bach/   \n",
       "\n",
       "                                               notes  \\\n",
       "0  ['C3', 'C5', 'D5', 'E-5', 'G5', 'B5', 'C6', 'B...   \n",
       "1  ['G3', 'D3', 'B-2', 'D3', 'G2', 'A3', 'B-3', '...   \n",
       "2  ['A4', 'A4', 'A2', 'E4', 'C#4', 'A3', 'G#3', '...   \n",
       "3  ['E-2', 'E-4', 'D4', 'C4', 'B-3', 'G#3', 'G3',...   \n",
       "4  ['G2', 'G1', 'G1', 'G4', 'G4', 'A4', 'A4', 'B4...   \n",
       "\n",
       "                                              chords  \\\n",
       "0  ['9.10', '7.8', '6.9', '0.3', '0.6', '2', '7.1...   \n",
       "1  ['2.7', '0.6', '7.10', '9', '7.10', '7.11', '7...   \n",
       "2  ['5.6', '1.2', '11.4', '1.2', '4.6', '2.4', '4...   \n",
       "3               ['2.5', '7.8', '7.10', '4.7', '5.8']   \n",
       "4  ['11.0', '11.0', '11.0', '11.0', '11.0', '11.0...   \n",
       "\n",
       "                                              tempos  \\\n",
       "0         [80, 80, 60, 60, 120, 120, 60, 60, 80, 80]   \n",
       "1  [80, 80, 80, 50, 50, 50, 65, 65, 65, 60, 60, 6...   \n",
       "2                                         [144, 144]   \n",
       "3                           [100, 100, 100, 8, 8, 8]   \n",
       "4  [65, 65, 65, 65, 65, 65, 65, 65, 65, 65, 65, 6...   \n",
       "\n",
       "                                       encoded_notes  \\\n",
       "0  [0, 0, 60, 0, 0, 0, 0, 0, 60, 0, 0, 0, 0, 0, 6...   \n",
       "1  [0, 0, 67, 0, 0, 0, 0, 0, 62, 0, 0, 0, 0, 0, 7...   \n",
       "2  [0, 0, 69, 0, 0, 0, 0, 0, 69, 0, 0, 0, 0, 0, 6...   \n",
       "3  [0, 0, 64, 0, 0, 0, 0, 0, 0, 64, 0, 0, 0, 0, 0...   \n",
       "4  [0, 0, 67, 0, 0, 0, 0, 0, 67, 0, 0, 0, 0, 0, 6...   \n",
       "\n",
       "                                      encoded_chords  \n",
       "0  [0, 0, 9, 0, 1, 0, 0, 0, 0, 0, 7, 0, 8, 0, 0, ...  \n",
       "1  [0, 0, 2, 0, 7, 0, 0, 0, 0, 0, 0, 6, 0, 0, 0, ...  \n",
       "2  [0, 0, 5, 0, 6, 0, 0, 0, 0, 1, 0, 2, 0, 0, 0, ...  \n",
       "3  [0, 0, 2, 0, 5, 0, 0, 0, 0, 7, 0, 8, 0, 0, 0, ...  \n",
       "4  [0, 0, 1, 1, 0, 0, 0, 0, 0, 0, 1, 1, 0, 0, 0, ...  "
      ]
     },
     "execution_count": 63,
     "metadata": {},
     "output_type": "execute_result"
    }
   ],
   "source": [
    "df.head()"
   ]
  },
  {
   "cell_type": "code",
   "execution_count": 68,
   "metadata": {},
   "outputs": [
    {
     "name": "stdout",
     "output_type": "stream",
     "text": [
      "6024\n"
     ]
    }
   ],
   "source": [
    "print(len(df['notes'].values[0]))"
   ]
  },
  {
   "cell_type": "code",
   "execution_count": 76,
   "metadata": {},
   "outputs": [
    {
     "name": "stdout",
     "output_type": "stream",
     "text": [
      "for notes, top_lengths: 186381    1\n",
      "179790    1\n",
      "178186    1\n",
      "155545    1\n",
      "117069    1\n",
      "113611    1\n",
      "112641    1\n",
      "109857    1\n",
      "105973    1\n",
      "105425    1\n",
      "Name: notes, dtype: int64\n",
      "for chords, top_lengths: 71207    1\n",
      "63651    1\n",
      "59707    1\n",
      "57630    1\n",
      "55964    1\n",
      "50682    1\n",
      "49945    1\n",
      "46977    1\n",
      "46138    1\n",
      "42725    1\n",
      "Name: chords, dtype: int64\n",
      "for tempos, top_lengths: 247395    1\n",
      "232080    1\n",
      "202202    1\n",
      "156143    1\n",
      "140998    1\n",
      "134680    1\n",
      "129366    1\n",
      "116160    1\n",
      "115121    1\n",
      "104706    1\n",
      "Name: tempos, dtype: int64\n"
     ]
    }
   ],
   "source": [
    "counts = ['notes', 'chords', 'tempos']\n",
    "for item in counts:\n",
    "    lengths = df[item].apply(len)\n",
    "    top_lengths = lengths.value_counts().sort_index(ascending=False).head(10)\n",
    "    print(f\"for {item}, top_lengths: {top_lengths}\")"
   ]
  },
  {
   "cell_type": "code",
   "execution_count": 46,
   "metadata": {},
   "outputs": [],
   "source": [
    "def encode_notes(notes):\n",
    "    encoded = []\n",
    "    for note in notes:\n",
    "        try:\n",
    "            pitch = music21.note.Note(note).pitch.midi\n",
    "            encoded.append(pitch)\n",
    "        except:\n",
    "            encoded.append(0) \n",
    "    return encoded\n",
    "\n",
    "def encode_chords(chords):\n",
    "    encoded = []\n",
    "    for chord in chords:\n",
    "        try:\n",
    "            chord_pitches = [int(p) for p in chord.split('.')]\n",
    "            root = chord_pitches[0]\n",
    "            encoded.append(root)\n",
    "        except:\n",
    "            encoded.append(0)  \n",
    "    return encoded\n"
   ]
  },
  {
   "cell_type": "code",
   "execution_count": 47,
   "metadata": {},
   "outputs": [],
   "source": [
    "df['encoded_notes'] = df['notes'].apply(encode_notes)\n",
    "df['encoded_chords'] = df['chords'].apply(encode_chords)"
   ]
  },
  {
   "cell_type": "code",
   "execution_count": 80,
   "metadata": {},
   "outputs": [],
   "source": [
    "def pad_truncate_sequences(sequences, max_len=MAX_LEN):\n",
    "    return pad_sequences(sequences, maxlen=max_len, padding='post', truncating='post')\n"
   ]
  },
  {
   "cell_type": "code",
   "execution_count": 82,
   "metadata": {},
   "outputs": [],
   "source": [
    "df['tempos'] = df['tempos'].apply(eval)\n"
   ]
  },
  {
   "cell_type": "code",
   "execution_count": 83,
   "metadata": {},
   "outputs": [],
   "source": [
    "X_notes = pad_truncate_sequences(df['encoded_notes'])\n",
    "X_chords = pad_truncate_sequences(df['encoded_chords'])\n",
    "X_tempos = pad_truncate_sequences(df['tempos'])\n"
   ]
  },
  {
   "cell_type": "code",
   "execution_count": 84,
   "metadata": {},
   "outputs": [],
   "source": [
    "X = np.stack((X_notes, X_chords, X_tempos), axis=-1)\n"
   ]
  },
  {
   "cell_type": "code",
   "execution_count": 101,
   "metadata": {},
   "outputs": [
    {
     "data": {
      "text/plain": [
       "(1530, 500, 3)"
      ]
     },
     "execution_count": 101,
     "metadata": {},
     "output_type": "execute_result"
    }
   ],
   "source": [
    "X.shape"
   ]
  },
  {
   "cell_type": "code",
   "execution_count": 102,
   "metadata": {},
   "outputs": [],
   "source": [
    "label_encoder = LabelEncoder()\n",
    "y = label_encoder.fit_transform(df['composer'])\n",
    "num_classes = len(label_encoder.classes_)\n",
    "y = to_categorical(y, num_classes=num_classes)"
   ]
  },
  {
   "cell_type": "code",
   "execution_count": 103,
   "metadata": {},
   "outputs": [],
   "source": [
    "X_train, X_temp, y_train, y_temp = train_test_split(X, y, test_size=0.3, random_state=42)\n",
    "X_val, X_test, y_val, y_test = train_test_split(X_temp, y_temp, test_size=0.5, random_state=42)\n"
   ]
  },
  {
   "cell_type": "code",
   "execution_count": 92,
   "metadata": {},
   "outputs": [],
   "source": [
    "def build_cnn_model(input_shape, num_classes):\n",
    "    model = Sequential([\n",
    "        Conv1D(32, 3, activation='relu', input_shape=input_shape),\n",
    "        MaxPooling1D(2),\n",
    "        Dropout(0.3),\n",
    "        Conv1D(64, 3, activation='relu'),\n",
    "        MaxPooling1D(2),\n",
    "        Dropout(0.3),\n",
    "        Conv1D(128, 3, activation='relu'),\n",
    "        MaxPooling1D(2),\n",
    "        Dropout(0.3),\n",
    "        Flatten(),\n",
    "        Dense(128, activation='relu'),\n",
    "        Dropout(0.3),\n",
    "        Dense(num_classes, activation='softmax')\n",
    "    ])\n",
    "    \n",
    "    model.compile(optimizer='adam', loss='categorical_crossentropy', metrics=['accuracy'])\n",
    "    return model"
   ]
  },
  {
   "cell_type": "code",
   "execution_count": 107,
   "metadata": {},
   "outputs": [
    {
     "name": "stdout",
     "output_type": "stream",
     "text": [
      "Model: \"sequential_3\"\n",
      "_________________________________________________________________\n",
      " Layer (type)                Output Shape              Param #   \n",
      "=================================================================\n",
      " conv1d_6 (Conv1D)           (None, 498, 32)           320       \n",
      "                                                                 \n",
      " max_pooling1d_6 (MaxPoolin  (None, 249, 32)           0         \n",
      " g1D)                                                            \n",
      "                                                                 \n",
      " dropout_12 (Dropout)        (None, 249, 32)           0         \n",
      "                                                                 \n",
      " conv1d_7 (Conv1D)           (None, 247, 64)           6208      \n",
      "                                                                 \n",
      " max_pooling1d_7 (MaxPoolin  (None, 123, 64)           0         \n",
      " g1D)                                                            \n",
      "                                                                 \n",
      " dropout_13 (Dropout)        (None, 123, 64)           0         \n",
      "                                                                 \n",
      " conv1d_8 (Conv1D)           (None, 121, 128)          24704     \n",
      "                                                                 \n",
      " max_pooling1d_8 (MaxPoolin  (None, 60, 128)           0         \n",
      " g1D)                                                            \n",
      "                                                                 \n",
      " dropout_14 (Dropout)        (None, 60, 128)           0         \n",
      "                                                                 \n",
      " flatten_3 (Flatten)         (None, 7680)              0         \n",
      "                                                                 \n",
      " dense_6 (Dense)             (None, 128)               983168    \n",
      "                                                                 \n",
      " dropout_15 (Dropout)        (None, 128)               0         \n",
      "                                                                 \n",
      " dense_7 (Dense)             (None, 4)                 516       \n",
      "                                                                 \n",
      "=================================================================\n",
      "Total params: 1014916 (3.87 MB)\n",
      "Trainable params: 1014916 (3.87 MB)\n",
      "Non-trainable params: 0 (0.00 Byte)\n",
      "_________________________________________________________________\n"
     ]
    }
   ],
   "source": [
    "input_shape = (MAX_LEN, 3)\n",
    "cnn_model = build_cnn_model(input_shape, num_classes)\n",
    "cnn_model.summary()\n"
   ]
  },
  {
   "cell_type": "code",
   "execution_count": 108,
   "metadata": {},
   "outputs": [
    {
     "name": "stdout",
     "output_type": "stream",
     "text": [
      "Epoch 1/20\n",
      "34/34 [==============================] - 1s 30ms/step - loss: 7.6845 - accuracy: 0.5621 - val_loss: 1.1104 - val_accuracy: 0.5721\n",
      "Epoch 2/20\n",
      "34/34 [==============================] - 1s 23ms/step - loss: 0.9855 - accuracy: 0.6256 - val_loss: 1.0540 - val_accuracy: 0.5633\n",
      "Epoch 3/20\n",
      "34/34 [==============================] - 1s 33ms/step - loss: 0.9561 - accuracy: 0.6312 - val_loss: 1.0786 - val_accuracy: 0.5590\n",
      "Epoch 4/20\n",
      "34/34 [==============================] - 1s 27ms/step - loss: 0.9093 - accuracy: 0.6443 - val_loss: 1.0424 - val_accuracy: 0.5677\n",
      "Epoch 5/20\n",
      "34/34 [==============================] - 1s 32ms/step - loss: 0.9205 - accuracy: 0.6583 - val_loss: 0.9275 - val_accuracy: 0.5633\n",
      "Epoch 6/20\n",
      "34/34 [==============================] - 1s 26ms/step - loss: 0.9239 - accuracy: 0.6461 - val_loss: 1.0122 - val_accuracy: 0.5677\n",
      "Epoch 7/20\n",
      "34/34 [==============================] - 1s 34ms/step - loss: 0.8543 - accuracy: 0.6396 - val_loss: 1.0066 - val_accuracy: 0.5983\n",
      "Epoch 8/20\n",
      "34/34 [==============================] - 1s 36ms/step - loss: 0.8409 - accuracy: 0.6508 - val_loss: 0.9437 - val_accuracy: 0.5633\n",
      "Epoch 9/20\n",
      "34/34 [==============================] - 1s 27ms/step - loss: 0.8256 - accuracy: 0.6480 - val_loss: 0.8875 - val_accuracy: 0.5546\n",
      "Epoch 10/20\n",
      "34/34 [==============================] - 1s 25ms/step - loss: 0.8296 - accuracy: 0.6545 - val_loss: 0.8911 - val_accuracy: 0.5590\n",
      "Epoch 11/20\n",
      "34/34 [==============================] - 1s 26ms/step - loss: 0.8063 - accuracy: 0.6461 - val_loss: 0.9062 - val_accuracy: 0.5633\n",
      "Epoch 12/20\n",
      "34/34 [==============================] - 1s 23ms/step - loss: 0.8010 - accuracy: 0.6489 - val_loss: 0.8918 - val_accuracy: 0.5590\n",
      "Epoch 13/20\n",
      "34/34 [==============================] - 1s 22ms/step - loss: 0.8136 - accuracy: 0.6489 - val_loss: 0.8910 - val_accuracy: 0.5633\n",
      "Epoch 14/20\n",
      "34/34 [==============================] - 1s 25ms/step - loss: 0.8021 - accuracy: 0.6480 - val_loss: 0.8880 - val_accuracy: 0.5677\n",
      "Epoch 15/20\n",
      "34/34 [==============================] - 1s 22ms/step - loss: 0.8041 - accuracy: 0.6499 - val_loss: 0.9085 - val_accuracy: 0.5546\n",
      "Epoch 16/20\n",
      "34/34 [==============================] - 1s 29ms/step - loss: 0.8051 - accuracy: 0.6359 - val_loss: 0.8920 - val_accuracy: 0.5546\n",
      "Epoch 17/20\n",
      "34/34 [==============================] - 1s 22ms/step - loss: 0.7934 - accuracy: 0.6508 - val_loss: 0.9041 - val_accuracy: 0.5502\n",
      "Epoch 18/20\n",
      "34/34 [==============================] - 1s 26ms/step - loss: 0.7917 - accuracy: 0.6508 - val_loss: 0.9306 - val_accuracy: 0.5590\n",
      "Epoch 19/20\n",
      "34/34 [==============================] - 1s 25ms/step - loss: 0.7961 - accuracy: 0.6527 - val_loss: 0.8838 - val_accuracy: 0.5502\n",
      "Epoch 20/20\n",
      "34/34 [==============================] - 1s 22ms/step - loss: 0.7948 - accuracy: 0.6405 - val_loss: 0.8920 - val_accuracy: 0.5502\n"
     ]
    }
   ],
   "source": [
    "history = cnn_model.fit(X_train, y_train, validation_data=(X_val, y_val), epochs=20, batch_size=32)\n"
   ]
  },
  {
   "cell_type": "code",
   "execution_count": 109,
   "metadata": {},
   "outputs": [
    {
     "name": "stdout",
     "output_type": "stream",
     "text": [
      "8/8 - 0s - loss: 0.7810 - accuracy: 0.6304 - 52ms/epoch - 6ms/step\n",
      "Test accuracy: 0.6304348111152649\n"
     ]
    }
   ],
   "source": [
    "test_loss, test_acc = cnn_model.evaluate(X_test, y_test, verbose=2)\n",
    "print(f'Test accuracy: {test_acc}')"
   ]
  },
  {
   "cell_type": "code",
   "execution_count": 111,
   "metadata": {},
   "outputs": [
    {
     "name": "stdout",
     "output_type": "stream",
     "text": [
      "8/8 [==============================] - 0s 5ms/step\n",
      "              precision    recall  f1-score   support\n",
      "\n",
      "        Bach       0.71      0.98      0.83       140\n",
      "   Beethoven       0.00      0.00      0.00        33\n",
      "      Chopin       0.00      0.00      0.00        24\n",
      "      Mozart       0.21      0.24      0.23        33\n",
      "\n",
      "    accuracy                           0.63       230\n",
      "   macro avg       0.23      0.31      0.26       230\n",
      "weighted avg       0.46      0.63      0.53       230\n",
      "\n"
     ]
    },
    {
     "name": "stderr",
     "output_type": "stream",
     "text": [
      "/Users/I523193/anaconda3/lib/python3.11/site-packages/sklearn/metrics/_classification.py:1517: UndefinedMetricWarning: Precision is ill-defined and being set to 0.0 in labels with no predicted samples. Use `zero_division` parameter to control this behavior.\n",
      "  _warn_prf(average, modifier, f\"{metric.capitalize()} is\", len(result))\n",
      "/Users/I523193/anaconda3/lib/python3.11/site-packages/sklearn/metrics/_classification.py:1517: UndefinedMetricWarning: Precision is ill-defined and being set to 0.0 in labels with no predicted samples. Use `zero_division` parameter to control this behavior.\n",
      "  _warn_prf(average, modifier, f\"{metric.capitalize()} is\", len(result))\n",
      "/Users/I523193/anaconda3/lib/python3.11/site-packages/sklearn/metrics/_classification.py:1517: UndefinedMetricWarning: Precision is ill-defined and being set to 0.0 in labels with no predicted samples. Use `zero_division` parameter to control this behavior.\n",
      "  _warn_prf(average, modifier, f\"{metric.capitalize()} is\", len(result))\n"
     ]
    }
   ],
   "source": [
    "y_pred = cnn_model.predict(X_test)\n",
    "y_pred_classes = np.argmax(y_pred, axis=1)\n",
    "y_true = np.argmax(y_test, axis=1)\n",
    "\n",
    "print(classification_report(y_true, y_pred_classes, target_names=label_encoder.classes_))"
   ]
  },
  {
   "cell_type": "code",
   "execution_count": null,
   "metadata": {},
   "outputs": [],
   "source": []
  }
 ],
 "metadata": {
  "kernelspec": {
   "display_name": "Python 3 (ipykernel)",
   "language": "python",
   "name": "python3"
  },
  "language_info": {
   "codemirror_mode": {
    "name": "ipython",
    "version": 3
   },
   "file_extension": ".py",
   "mimetype": "text/x-python",
   "name": "python",
   "nbconvert_exporter": "python",
   "pygments_lexer": "ipython3",
   "version": "3.11.4"
  }
 },
 "nbformat": 4,
 "nbformat_minor": 2
}
