{
 "cells": [
  {
   "cell_type": "code",
   "execution_count": 112,
   "metadata": {},
   "outputs": [
    {
     "name": "stdout",
     "output_type": "stream",
     "text": [
      "Requirement already satisfied: music21 in /Users/I523193/anaconda3/lib/python3.11/site-packages (9.1.0)\n",
      "Requirement already satisfied: chardet in /Users/I523193/anaconda3/lib/python3.11/site-packages (from music21) (4.0.0)\n",
      "Requirement already satisfied: joblib in /Users/I523193/anaconda3/lib/python3.11/site-packages (from music21) (1.2.0)\n",
      "Requirement already satisfied: jsonpickle in /Users/I523193/anaconda3/lib/python3.11/site-packages (from music21) (3.2.2)\n",
      "Requirement already satisfied: matplotlib in /Users/I523193/anaconda3/lib/python3.11/site-packages (from music21) (3.7.1)\n",
      "Requirement already satisfied: more-itertools in /Users/I523193/anaconda3/lib/python3.11/site-packages (from music21) (8.12.0)\n",
      "Requirement already satisfied: numpy in /Users/I523193/anaconda3/lib/python3.11/site-packages (from music21) (1.24.3)\n",
      "Requirement already satisfied: requests in /Users/I523193/anaconda3/lib/python3.11/site-packages (from music21) (2.31.0)\n",
      "Requirement already satisfied: webcolors>=1.5 in /Users/I523193/anaconda3/lib/python3.11/site-packages (from music21) (1.13)\n",
      "Requirement already satisfied: contourpy>=1.0.1 in /Users/I523193/anaconda3/lib/python3.11/site-packages (from matplotlib->music21) (1.0.5)\n",
      "Requirement already satisfied: cycler>=0.10 in /Users/I523193/anaconda3/lib/python3.11/site-packages (from matplotlib->music21) (0.11.0)\n",
      "Requirement already satisfied: fonttools>=4.22.0 in /Users/I523193/anaconda3/lib/python3.11/site-packages (from matplotlib->music21) (4.25.0)\n",
      "Requirement already satisfied: kiwisolver>=1.0.1 in /Users/I523193/anaconda3/lib/python3.11/site-packages (from matplotlib->music21) (1.4.4)\n",
      "Requirement already satisfied: packaging>=20.0 in /Users/I523193/anaconda3/lib/python3.11/site-packages (from matplotlib->music21) (23.2)\n",
      "Requirement already satisfied: pillow>=6.2.0 in /Users/I523193/anaconda3/lib/python3.11/site-packages (from matplotlib->music21) (9.4.0)\n",
      "Requirement already satisfied: pyparsing>=2.3.1 in /Users/I523193/anaconda3/lib/python3.11/site-packages (from matplotlib->music21) (3.0.9)\n",
      "Requirement already satisfied: python-dateutil>=2.7 in /Users/I523193/anaconda3/lib/python3.11/site-packages (from matplotlib->music21) (2.8.2)\n",
      "Requirement already satisfied: charset-normalizer<4,>=2 in /Users/I523193/anaconda3/lib/python3.11/site-packages (from requests->music21) (2.0.4)\n",
      "Requirement already satisfied: idna<4,>=2.5 in /Users/I523193/anaconda3/lib/python3.11/site-packages (from requests->music21) (3.4)\n",
      "Requirement already satisfied: urllib3<3,>=1.21.1 in /Users/I523193/anaconda3/lib/python3.11/site-packages (from requests->music21) (1.26.16)\n",
      "Requirement already satisfied: certifi>=2017.4.17 in /Users/I523193/anaconda3/lib/python3.11/site-packages (from requests->music21) (2023.7.22)\n",
      "Requirement already satisfied: six>=1.5 in /Users/I523193/anaconda3/lib/python3.11/site-packages (from python-dateutil>=2.7->matplotlib->music21) (1.16.0)\n",
      "Note: you may need to restart the kernel to use updated packages.\n"
     ]
    }
   ],
   "source": [
    "%pip install music21 "
   ]
  },
  {
   "cell_type": "code",
   "execution_count": 113,
   "metadata": {},
   "outputs": [],
   "source": [
    "import numpy as np\n",
    "import pandas as pd\n",
    "from sklearn.model_selection import train_test_split\n",
    "from tensorflow.keras.utils import to_categorical\n",
    "from tensorflow.keras.preprocessing.sequence import pad_sequences\n",
    "from sklearn.preprocessing import LabelEncoder\n",
    "\n",
    "from tensorflow.keras.models import Sequential\n",
    "from tensorflow.keras.layers import Conv1D, MaxPooling1D, Flatten, Dense, Dropout\n",
    "from sklearn.metrics import classification_report\n"
   ]
  },
  {
   "cell_type": "code",
   "execution_count": 114,
   "metadata": {},
   "outputs": [],
   "source": [
    "\n",
    "from imblearn.over_sampling import SMOTE"
   ]
  },
  {
   "cell_type": "code",
   "execution_count": 115,
   "metadata": {},
   "outputs": [],
   "source": [
    "df = pd.read_csv('./data/preprocessed_data_with_midi.csv')"
   ]
  },
  {
   "cell_type": "code",
   "execution_count": 116,
   "metadata": {},
   "outputs": [
    {
     "data": {
      "text/plain": [
       "42"
      ]
     },
     "execution_count": 116,
     "metadata": {},
     "output_type": "execute_result"
    }
   ],
   "source": [
    "len(df['tempos'].head(1).values[0])"
   ]
  },
  {
   "cell_type": "markdown",
   "metadata": {},
   "source": [
    "## More preprocessing. Zero pad arrays"
   ]
  },
  {
   "cell_type": "code",
   "execution_count": 117,
   "metadata": {},
   "outputs": [],
   "source": [
    "MAX_LEN = 500  "
   ]
  },
  {
   "cell_type": "code",
   "execution_count": 118,
   "metadata": {},
   "outputs": [
    {
     "data": {
      "text/html": [
       "<div>\n",
       "<style scoped>\n",
       "    .dataframe tbody tr th:only-of-type {\n",
       "        vertical-align: middle;\n",
       "    }\n",
       "\n",
       "    .dataframe tbody tr th {\n",
       "        vertical-align: top;\n",
       "    }\n",
       "\n",
       "    .dataframe thead th {\n",
       "        text-align: right;\n",
       "    }\n",
       "</style>\n",
       "<table border=\"1\" class=\"dataframe\">\n",
       "  <thead>\n",
       "    <tr style=\"text-align: right;\">\n",
       "      <th></th>\n",
       "      <th>midi_file</th>\n",
       "      <th>composer</th>\n",
       "      <th>path</th>\n",
       "      <th>notes</th>\n",
       "      <th>chords</th>\n",
       "      <th>tempos</th>\n",
       "    </tr>\n",
       "  </thead>\n",
       "  <tbody>\n",
       "    <tr>\n",
       "      <th>0</th>\n",
       "      <td>Bwv0997 Partita for Lute 1mov.mid</td>\n",
       "      <td>Bach</td>\n",
       "      <td>./data/Bach/</td>\n",
       "      <td>['C3', 'C5', 'D5', 'E-5', 'G5', 'B5', 'C6', 'B...</td>\n",
       "      <td>['9.10', '7.8', '6.9', '0.3', '0.6', '2', '7.1...</td>\n",
       "      <td>[80, 80, 60, 60, 120, 120, 60, 60, 80, 80]</td>\n",
       "    </tr>\n",
       "    <tr>\n",
       "      <th>1</th>\n",
       "      <td>Bwv0535 Prelude and Fugue.mid</td>\n",
       "      <td>Bach</td>\n",
       "      <td>./data/Bach/</td>\n",
       "      <td>['G3', 'D3', 'B-2', 'D3', 'G2', 'A3', 'B-3', '...</td>\n",
       "      <td>['2.7', '0.6', '7.10', '9', '7.10', '7.11', '7...</td>\n",
       "      <td>[80, 80, 80, 50, 50, 50, 65, 65, 65, 60, 60, 6...</td>\n",
       "    </tr>\n",
       "    <tr>\n",
       "      <th>2</th>\n",
       "      <td>Bwv0806 English Suite n1 05mov.mid</td>\n",
       "      <td>Bach</td>\n",
       "      <td>./data/Bach/</td>\n",
       "      <td>['A4', 'A4', 'A2', 'E4', 'C#4', 'A3', 'G#3', '...</td>\n",
       "      <td>['5.6', '1.2', '11.4', '1.2', '4.6', '2.4', '4...</td>\n",
       "      <td>[144, 144]</td>\n",
       "    </tr>\n",
       "    <tr>\n",
       "      <th>3</th>\n",
       "      <td>Bwv0998 Prelude Fugue Allegro for Lute 3mov.mid</td>\n",
       "      <td>Bach</td>\n",
       "      <td>./data/Bach/</td>\n",
       "      <td>['E-2', 'E-4', 'D4', 'C4', 'B-3', 'G#3', 'G3',...</td>\n",
       "      <td>['2.5', '7.8', '7.10', '4.7', '5.8']</td>\n",
       "      <td>[100, 100, 100, 8, 8, 8]</td>\n",
       "    </tr>\n",
       "    <tr>\n",
       "      <th>4</th>\n",
       "      <td>Jesu Joy of Man Desiring.mid</td>\n",
       "      <td>Bach</td>\n",
       "      <td>./data/Bach/</td>\n",
       "      <td>['G2', 'G1', 'G1', 'G4', 'G4', 'A4', 'A4', 'B4...</td>\n",
       "      <td>['11.0', '11.0', '11.0', '11.0', '11.0', '11.0...</td>\n",
       "      <td>[65, 65, 65, 65, 65, 65, 65, 65, 65, 65, 65, 6...</td>\n",
       "    </tr>\n",
       "  </tbody>\n",
       "</table>\n",
       "</div>"
      ],
      "text/plain": [
       "                                         midi_file composer          path  \\\n",
       "0                Bwv0997 Partita for Lute 1mov.mid     Bach  ./data/Bach/   \n",
       "1                    Bwv0535 Prelude and Fugue.mid     Bach  ./data/Bach/   \n",
       "2               Bwv0806 English Suite n1 05mov.mid     Bach  ./data/Bach/   \n",
       "3  Bwv0998 Prelude Fugue Allegro for Lute 3mov.mid     Bach  ./data/Bach/   \n",
       "4                     Jesu Joy of Man Desiring.mid     Bach  ./data/Bach/   \n",
       "\n",
       "                                               notes  \\\n",
       "0  ['C3', 'C5', 'D5', 'E-5', 'G5', 'B5', 'C6', 'B...   \n",
       "1  ['G3', 'D3', 'B-2', 'D3', 'G2', 'A3', 'B-3', '...   \n",
       "2  ['A4', 'A4', 'A2', 'E4', 'C#4', 'A3', 'G#3', '...   \n",
       "3  ['E-2', 'E-4', 'D4', 'C4', 'B-3', 'G#3', 'G3',...   \n",
       "4  ['G2', 'G1', 'G1', 'G4', 'G4', 'A4', 'A4', 'B4...   \n",
       "\n",
       "                                              chords  \\\n",
       "0  ['9.10', '7.8', '6.9', '0.3', '0.6', '2', '7.1...   \n",
       "1  ['2.7', '0.6', '7.10', '9', '7.10', '7.11', '7...   \n",
       "2  ['5.6', '1.2', '11.4', '1.2', '4.6', '2.4', '4...   \n",
       "3               ['2.5', '7.8', '7.10', '4.7', '5.8']   \n",
       "4  ['11.0', '11.0', '11.0', '11.0', '11.0', '11.0...   \n",
       "\n",
       "                                              tempos  \n",
       "0         [80, 80, 60, 60, 120, 120, 60, 60, 80, 80]  \n",
       "1  [80, 80, 80, 50, 50, 50, 65, 65, 65, 60, 60, 6...  \n",
       "2                                         [144, 144]  \n",
       "3                           [100, 100, 100, 8, 8, 8]  \n",
       "4  [65, 65, 65, 65, 65, 65, 65, 65, 65, 65, 65, 6...  "
      ]
     },
     "execution_count": 118,
     "metadata": {},
     "output_type": "execute_result"
    }
   ],
   "source": [
    "df.head()"
   ]
  },
  {
   "cell_type": "code",
   "execution_count": 119,
   "metadata": {},
   "outputs": [
    {
     "name": "stdout",
     "output_type": "stream",
     "text": [
      "6024\n"
     ]
    }
   ],
   "source": [
    "print(len(df['notes'].values[0]))"
   ]
  },
  {
   "cell_type": "code",
   "execution_count": 120,
   "metadata": {},
   "outputs": [
    {
     "data": {
      "text/plain": [
       "Bach         925\n",
       "Mozart       257\n",
       "Beethoven    212\n",
       "Chopin       136\n",
       "Name: composer, dtype: int64"
      ]
     },
     "execution_count": 120,
     "metadata": {},
     "output_type": "execute_result"
    }
   ],
   "source": [
    "df['composer'].value_counts()"
   ]
  },
  {
   "cell_type": "code",
   "execution_count": 121,
   "metadata": {},
   "outputs": [
    {
     "name": "stdout",
     "output_type": "stream",
     "text": [
      "for notes, top_lengths: 186381    1\n",
      "179790    1\n",
      "178186    1\n",
      "155545    1\n",
      "117069    1\n",
      "113611    1\n",
      "112641    1\n",
      "109857    1\n",
      "105973    1\n",
      "105425    1\n",
      "Name: notes, dtype: int64\n",
      "for chords, top_lengths: 71207    1\n",
      "63651    1\n",
      "59707    1\n",
      "57630    1\n",
      "55964    1\n",
      "50682    1\n",
      "49945    1\n",
      "46977    1\n",
      "46138    1\n",
      "42725    1\n",
      "Name: chords, dtype: int64\n",
      "for tempos, top_lengths: 247395    1\n",
      "232080    1\n",
      "202202    1\n",
      "156143    1\n",
      "140998    1\n",
      "134680    1\n",
      "129366    1\n",
      "116160    1\n",
      "115121    1\n",
      "104706    1\n",
      "Name: tempos, dtype: int64\n"
     ]
    }
   ],
   "source": [
    "counts = ['notes', 'chords', 'tempos']\n",
    "for item in counts:\n",
    "    lengths = df[item].apply(len)\n",
    "    top_lengths = lengths.value_counts().sort_index(ascending=False).head(10)\n",
    "    print(f\"for {item}, top_lengths: {top_lengths}\")"
   ]
  },
  {
   "cell_type": "code",
   "execution_count": 122,
   "metadata": {},
   "outputs": [],
   "source": [
    "def encode_notes(notes):\n",
    "    encoded = []\n",
    "    for note in notes:\n",
    "        try:\n",
    "            pitch = music21.note.Note(note).pitch.midi\n",
    "            encoded.append(pitch)\n",
    "        except:\n",
    "            encoded.append(0) \n",
    "    return encoded\n",
    "\n",
    "def encode_chords(chords):\n",
    "    encoded = []\n",
    "    for chord in chords:\n",
    "        try:\n",
    "            chord_pitches = [int(p) for p in chord.split('.')]\n",
    "            root = chord_pitches[0]\n",
    "            encoded.append(root)\n",
    "        except:\n",
    "            encoded.append(0)  \n",
    "    return encoded\n"
   ]
  },
  {
   "cell_type": "code",
   "execution_count": 104,
   "metadata": {},
   "outputs": [],
   "source": [
    "df['encoded_notes'] = df['notes'].apply(encode_notes)\n",
    "df['encoded_chords'] = df['chords'].apply(encode_chords)"
   ]
  },
  {
   "cell_type": "code",
   "execution_count": 105,
   "metadata": {},
   "outputs": [],
   "source": [
    "def pad_truncate_sequences(sequences, max_len=MAX_LEN):\n",
    "    return pad_sequences(sequences, maxlen=max_len, padding='post', truncating='post')\n"
   ]
  },
  {
   "cell_type": "code",
   "execution_count": 106,
   "metadata": {},
   "outputs": [],
   "source": [
    "df['tempos'] = df['tempos'].apply(eval)\n"
   ]
  },
  {
   "cell_type": "code",
   "execution_count": 107,
   "metadata": {},
   "outputs": [],
   "source": [
    "X_notes = pad_truncate_sequences(df['encoded_notes'])\n",
    "X_chords = pad_truncate_sequences(df['encoded_chords'])\n",
    "X_tempos = pad_truncate_sequences(df['tempos'])\n"
   ]
  },
  {
   "cell_type": "code",
   "execution_count": 108,
   "metadata": {},
   "outputs": [],
   "source": [
    "X = np.stack((X_notes, X_chords, X_tempos), axis=-1)\n"
   ]
  },
  {
   "cell_type": "code",
   "execution_count": 109,
   "metadata": {},
   "outputs": [
    {
     "name": "stdout",
     "output_type": "stream",
     "text": [
      "(1530, 500, 3)\n"
     ]
    }
   ],
   "source": [
    "print(X.shape)"
   ]
  },
  {
   "cell_type": "code",
   "execution_count": 110,
   "metadata": {},
   "outputs": [],
   "source": [
    "label_encoder = LabelEncoder()\n",
    "y = label_encoder.fit_transform(df['composer'])\n"
   ]
  },
  {
   "cell_type": "code",
   "execution_count": 111,
   "metadata": {},
   "outputs": [],
   "source": [
    "def apply_smote(X, y):\n",
    "    smote = SMOTE(random_state=42)  \n",
    "\n",
    "    num_samples, num_timesteps, num_features = X.shape\n",
    "    X_flatten = X.reshape(num_samples, -1)\n",
    "\n",
    "    smote = SMOTE(random_state=42)\n",
    "    X_smote, y_smote = smote.fit_resample(X_flatten, y)\n",
    "\n",
    "    print(pd.Series(y_smote).value_counts())\n",
    "    X_smote_reshaped = X_smote.reshape(X_smote.shape[0], num_timesteps, num_features)\n",
    "\n",
    "    return X_smote_reshaped, y_smote"
   ]
  },
  {
   "cell_type": "code",
   "execution_count": 133,
   "metadata": {},
   "outputs": [],
   "source": [
    "X_train, X_temp, y_train, y_temp = train_test_split(X, y, test_size=0.4, random_state=42)\n",
    "\n",
    "# Need to apply smote to training before we convert to categorical\n",
    "y_temp = to_categorical(y_temp, num_classes=num_classes)\n",
    "\n",
    "X_val, X_test, y_val, y_test = train_test_split(X_temp, y_temp, test_size=0.5, random_state=42)\n"
   ]
  },
  {
   "cell_type": "code",
   "execution_count": 134,
   "metadata": {},
   "outputs": [
    {
     "name": "stdout",
     "output_type": "stream",
     "text": [
      "0    561\n",
      "2    561\n",
      "3    561\n",
      "1    561\n",
      "dtype: int64\n"
     ]
    }
   ],
   "source": [
    "X_train, y_train = apply_smote(X_train, y_train)"
   ]
  },
  {
   "cell_type": "code",
   "execution_count": 135,
   "metadata": {},
   "outputs": [],
   "source": [
    "num_classes = len(label_encoder.classes_)\n",
    "y_train = to_categorical(y_train, num_classes=num_classes)"
   ]
  },
  {
   "cell_type": "code",
   "execution_count": 142,
   "metadata": {},
   "outputs": [],
   "source": [
    "def build_cnn_model(input_shape, num_classes):\n",
    "    model = Sequential([\n",
    "        Conv1D(128, 3, activation='relu', input_shape=input_shape),\n",
    "        MaxPooling1D(2),\n",
    "        Dropout(0.5),\n",
    "        Conv1D(128, 3, activation='relu'),\n",
    "        MaxPooling1D(2),\n",
    "        Dropout(0.5),\n",
    "        Flatten(),\n",
    "        Dense(128, activation='relu'),\n",
    "        Dropout(0.5),\n",
    "        Dense(num_classes, activation='softmax')\n",
    "    ])\n",
    "    \n",
    "    model.compile(optimizer='adam', loss='categorical_crossentropy', metrics=['accuracy'])\n",
    "    return model"
   ]
  },
  {
   "cell_type": "code",
   "execution_count": 143,
   "metadata": {},
   "outputs": [
    {
     "name": "stdout",
     "output_type": "stream",
     "text": [
      "Model: \"sequential_5\"\n",
      "_________________________________________________________________\n",
      " Layer (type)                Output Shape              Param #   \n",
      "=================================================================\n",
      " conv1d_10 (Conv1D)          (None, 498, 128)          1280      \n",
      "                                                                 \n",
      " max_pooling1d_10 (MaxPooli  (None, 249, 128)          0         \n",
      " ng1D)                                                           \n",
      "                                                                 \n",
      " dropout_15 (Dropout)        (None, 249, 128)          0         \n",
      "                                                                 \n",
      " conv1d_11 (Conv1D)          (None, 247, 128)          49280     \n",
      "                                                                 \n",
      " max_pooling1d_11 (MaxPooli  (None, 123, 128)          0         \n",
      " ng1D)                                                           \n",
      "                                                                 \n",
      " dropout_16 (Dropout)        (None, 123, 128)          0         \n",
      "                                                                 \n",
      " flatten_5 (Flatten)         (None, 15744)             0         \n",
      "                                                                 \n",
      " dense_10 (Dense)            (None, 128)               2015360   \n",
      "                                                                 \n",
      " dropout_17 (Dropout)        (None, 128)               0         \n",
      "                                                                 \n",
      " dense_11 (Dense)            (None, 4)                 516       \n",
      "                                                                 \n",
      "=================================================================\n",
      "Total params: 2066436 (7.88 MB)\n",
      "Trainable params: 2066436 (7.88 MB)\n",
      "Non-trainable params: 0 (0.00 Byte)\n",
      "_________________________________________________________________\n"
     ]
    }
   ],
   "source": [
    "input_shape = (MAX_LEN, 3)\n",
    "cnn_model = None\n",
    "cnn_model = build_cnn_model(input_shape, num_classes)\n",
    "cnn_model.summary()\n"
   ]
  },
  {
   "cell_type": "code",
   "execution_count": 144,
   "metadata": {},
   "outputs": [
    {
     "name": "stdout",
     "output_type": "stream",
     "text": [
      "Epoch 1/30\n",
      "71/71 [==============================] - 2s 30ms/step - loss: 6.0438 - accuracy: 0.3668 - val_loss: 0.8886 - val_accuracy: 0.5359\n",
      "Epoch 2/30\n",
      "71/71 [==============================] - 2s 26ms/step - loss: 1.1771 - accuracy: 0.4127 - val_loss: 0.8844 - val_accuracy: 0.5294\n",
      "Epoch 3/30\n",
      "71/71 [==============================] - 2s 28ms/step - loss: 1.1245 - accuracy: 0.4563 - val_loss: 0.8790 - val_accuracy: 0.5261\n",
      "Epoch 4/30\n",
      "71/71 [==============================] - 2s 27ms/step - loss: 1.0913 - accuracy: 0.4915 - val_loss: 0.8665 - val_accuracy: 0.5719\n",
      "Epoch 5/30\n",
      "71/71 [==============================] - 2s 29ms/step - loss: 0.9994 - accuracy: 0.5241 - val_loss: 0.8903 - val_accuracy: 0.5654\n",
      "Epoch 6/30\n",
      "71/71 [==============================] - 2s 27ms/step - loss: 0.9403 - accuracy: 0.5691 - val_loss: 0.9409 - val_accuracy: 0.5882\n",
      "Epoch 7/30\n",
      "71/71 [==============================] - 2s 27ms/step - loss: 0.8451 - accuracy: 0.6150 - val_loss: 0.9867 - val_accuracy: 0.6046\n",
      "Epoch 8/30\n",
      "71/71 [==============================] - 2s 32ms/step - loss: 0.7797 - accuracy: 0.6520 - val_loss: 0.9729 - val_accuracy: 0.6046\n",
      "Epoch 9/30\n",
      "71/71 [==============================] - 2s 25ms/step - loss: 0.7350 - accuracy: 0.6537 - val_loss: 1.0574 - val_accuracy: 0.6307\n",
      "Epoch 10/30\n",
      "71/71 [==============================] - 2s 27ms/step - loss: 0.6981 - accuracy: 0.6809 - val_loss: 1.1393 - val_accuracy: 0.6275\n",
      "Epoch 11/30\n",
      "71/71 [==============================] - 2s 26ms/step - loss: 0.6944 - accuracy: 0.6934 - val_loss: 1.2040 - val_accuracy: 0.6176\n",
      "Epoch 12/30\n",
      "71/71 [==============================] - 2s 26ms/step - loss: 0.6637 - accuracy: 0.6939 - val_loss: 1.2994 - val_accuracy: 0.5948\n",
      "Epoch 13/30\n",
      "71/71 [==============================] - 2s 26ms/step - loss: 0.6405 - accuracy: 0.6925 - val_loss: 1.2765 - val_accuracy: 0.6046\n",
      "Epoch 14/30\n",
      "71/71 [==============================] - 2s 27ms/step - loss: 0.5984 - accuracy: 0.7224 - val_loss: 1.4155 - val_accuracy: 0.6078\n",
      "Epoch 15/30\n",
      "71/71 [==============================] - 2s 25ms/step - loss: 0.5634 - accuracy: 0.7384 - val_loss: 1.3467 - val_accuracy: 0.6176\n",
      "Epoch 16/30\n",
      "71/71 [==============================] - 2s 27ms/step - loss: 0.5441 - accuracy: 0.7447 - val_loss: 1.5008 - val_accuracy: 0.6373\n",
      "Epoch 17/30\n",
      "71/71 [==============================] - 2s 24ms/step - loss: 0.5451 - accuracy: 0.7607 - val_loss: 1.6074 - val_accuracy: 0.6209\n",
      "Epoch 18/30\n",
      "71/71 [==============================] - 2s 26ms/step - loss: 0.5177 - accuracy: 0.7660 - val_loss: 1.7456 - val_accuracy: 0.6111\n",
      "Epoch 19/30\n",
      "71/71 [==============================] - 2s 26ms/step - loss: 0.4689 - accuracy: 0.7857 - val_loss: 1.7208 - val_accuracy: 0.6307\n",
      "Epoch 20/30\n",
      "71/71 [==============================] - 2s 27ms/step - loss: 0.4284 - accuracy: 0.8017 - val_loss: 1.9849 - val_accuracy: 0.6373\n",
      "Epoch 21/30\n",
      "71/71 [==============================] - 2s 26ms/step - loss: 0.4914 - accuracy: 0.7928 - val_loss: 1.8523 - val_accuracy: 0.6471\n",
      "Epoch 22/30\n",
      "71/71 [==============================] - 2s 27ms/step - loss: 0.4113 - accuracy: 0.8177 - val_loss: 2.1268 - val_accuracy: 0.6340\n",
      "Epoch 23/30\n",
      "71/71 [==============================] - 2s 28ms/step - loss: 0.4356 - accuracy: 0.8160 - val_loss: 1.7314 - val_accuracy: 0.6503\n",
      "Epoch 24/30\n",
      "71/71 [==============================] - 2s 25ms/step - loss: 0.3884 - accuracy: 0.8369 - val_loss: 1.9092 - val_accuracy: 0.5948\n",
      "Epoch 25/30\n",
      "71/71 [==============================] - 2s 26ms/step - loss: 0.4030 - accuracy: 0.8266 - val_loss: 2.1946 - val_accuracy: 0.6373\n",
      "Epoch 26/30\n",
      "71/71 [==============================] - 2s 25ms/step - loss: 0.3789 - accuracy: 0.8427 - val_loss: 1.9602 - val_accuracy: 0.6405\n",
      "Epoch 27/30\n",
      "71/71 [==============================] - 2s 26ms/step - loss: 0.3344 - accuracy: 0.8717 - val_loss: 2.1310 - val_accuracy: 0.6438\n",
      "Epoch 28/30\n",
      "71/71 [==============================] - 2s 25ms/step - loss: 0.3507 - accuracy: 0.8565 - val_loss: 2.2243 - val_accuracy: 0.6438\n",
      "Epoch 29/30\n",
      "71/71 [==============================] - 2s 28ms/step - loss: 0.3092 - accuracy: 0.8797 - val_loss: 2.0854 - val_accuracy: 0.6569\n",
      "Epoch 30/30\n",
      "71/71 [==============================] - 2s 27ms/step - loss: 0.2781 - accuracy: 0.8886 - val_loss: 2.1634 - val_accuracy: 0.6536\n"
     ]
    }
   ],
   "source": [
    "history = cnn_model.fit(X_train, y_train, validation_data=(X_val, y_val), epochs=30, batch_size=32)\n"
   ]
  },
  {
   "cell_type": "code",
   "execution_count": 145,
   "metadata": {},
   "outputs": [
    {
     "name": "stdout",
     "output_type": "stream",
     "text": [
      "10/10 - 0s - loss: 2.2490 - accuracy: 0.6634 - 67ms/epoch - 7ms/step\n",
      "Test accuracy: 0.6633986830711365\n"
     ]
    }
   ],
   "source": [
    "test_loss, test_acc = cnn_model.evaluate(X_test, y_test, verbose=2)\n",
    "print(f'Test accuracy: {test_acc}')"
   ]
  },
  {
   "cell_type": "code",
   "execution_count": 146,
   "metadata": {},
   "outputs": [
    {
     "name": "stdout",
     "output_type": "stream",
     "text": [
      "10/10 [==============================] - 0s 6ms/step\n",
      "              precision    recall  f1-score   support\n",
      "\n",
      "        Bach       0.83      0.85      0.84       186\n",
      "   Beethoven       0.51      0.55      0.53        38\n",
      "      Chopin       0.44      0.20      0.27        35\n",
      "      Mozart       0.29      0.36      0.32        47\n",
      "\n",
      "    accuracy                           0.66       306\n",
      "   macro avg       0.52      0.49      0.49       306\n",
      "weighted avg       0.66      0.66      0.66       306\n",
      "\n"
     ]
    }
   ],
   "source": [
    "y_pred = cnn_model.predict(X_test)\n",
    "y_pred_classes = np.argmax(y_pred, axis=1)\n",
    "y_true = np.argmax(y_test, axis=1)\n",
    "\n",
    "print(classification_report(y_true, y_pred_classes, target_names=label_encoder.classes_))"
   ]
  },
  {
   "cell_type": "code",
   "execution_count": null,
   "metadata": {},
   "outputs": [],
   "source": []
  }
 ],
 "metadata": {
  "kernelspec": {
   "display_name": "Python 3 (ipykernel)",
   "language": "python",
   "name": "python3"
  },
  "language_info": {
   "codemirror_mode": {
    "name": "ipython",
    "version": 3
   },
   "file_extension": ".py",
   "mimetype": "text/x-python",
   "name": "python",
   "nbconvert_exporter": "python",
   "pygments_lexer": "ipython3",
   "version": "3.11.4"
  }
 },
 "nbformat": 4,
 "nbformat_minor": 2
}
