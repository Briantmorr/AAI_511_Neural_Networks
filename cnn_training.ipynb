{
 "cells": [
  {
   "cell_type": "code",
   "execution_count": 2,
   "metadata": {},
   "outputs": [],
   "source": [
    "import numpy as np \n",
    "import os \n",
    "import pandas as pd "
   ]
  },
  {
   "cell_type": "code",
   "execution_count": 3,
   "metadata": {},
   "outputs": [],
   "source": [
    "path = './data'\n",
    "filename = 'preprocessed_data_with_piano_rolls.csv'"
   ]
  },
  {
   "cell_type": "code",
   "execution_count": 4,
   "metadata": {},
   "outputs": [
    {
     "data": {
      "text/html": [
       "<div>\n",
       "<style scoped>\n",
       "    .dataframe tbody tr th:only-of-type {\n",
       "        vertical-align: middle;\n",
       "    }\n",
       "\n",
       "    .dataframe tbody tr th {\n",
       "        vertical-align: top;\n",
       "    }\n",
       "\n",
       "    .dataframe thead th {\n",
       "        text-align: right;\n",
       "    }\n",
       "</style>\n",
       "<table border=\"1\" class=\"dataframe\">\n",
       "  <thead>\n",
       "    <tr style=\"text-align: right;\">\n",
       "      <th></th>\n",
       "      <th>midi_file</th>\n",
       "      <th>path</th>\n",
       "      <th>composer</th>\n",
       "      <th>piano_roll_file</th>\n",
       "    </tr>\n",
       "  </thead>\n",
       "  <tbody>\n",
       "    <tr>\n",
       "      <th>0</th>\n",
       "      <td>Bwv0997 Partita for Lute 1mov.mid</td>\n",
       "      <td>./data/Bach/</td>\n",
       "      <td>Bach</td>\n",
       "      <td>Bwv0997 Partita for Lute 1mov.npy</td>\n",
       "    </tr>\n",
       "    <tr>\n",
       "      <th>1</th>\n",
       "      <td>Bwv0535 Prelude and Fugue.mid</td>\n",
       "      <td>./data/Bach/</td>\n",
       "      <td>Bach</td>\n",
       "      <td>Bwv0535 Prelude and Fugue.npy</td>\n",
       "    </tr>\n",
       "    <tr>\n",
       "      <th>2</th>\n",
       "      <td>Bwv0806 English Suite n1 05mov.mid</td>\n",
       "      <td>./data/Bach/</td>\n",
       "      <td>Bach</td>\n",
       "      <td>Bwv0806 English Suite n1 05mov.npy</td>\n",
       "    </tr>\n",
       "    <tr>\n",
       "      <th>3</th>\n",
       "      <td>Bwv0998 Prelude Fugue Allegro for Lute 3mov.mid</td>\n",
       "      <td>./data/Bach/</td>\n",
       "      <td>Bach</td>\n",
       "      <td>Bwv0998 Prelude Fugue Allegro for Lute 3mov.npy</td>\n",
       "    </tr>\n",
       "    <tr>\n",
       "      <th>4</th>\n",
       "      <td>Jesu Joy of Man Desiring.mid</td>\n",
       "      <td>./data/Bach/</td>\n",
       "      <td>Bach</td>\n",
       "      <td>Jesu Joy of Man Desiring.npy</td>\n",
       "    </tr>\n",
       "  </tbody>\n",
       "</table>\n",
       "</div>"
      ],
      "text/plain": [
       "                                         midi_file          path composer  \\\n",
       "0                Bwv0997 Partita for Lute 1mov.mid  ./data/Bach/     Bach   \n",
       "1                    Bwv0535 Prelude and Fugue.mid  ./data/Bach/     Bach   \n",
       "2               Bwv0806 English Suite n1 05mov.mid  ./data/Bach/     Bach   \n",
       "3  Bwv0998 Prelude Fugue Allegro for Lute 3mov.mid  ./data/Bach/     Bach   \n",
       "4                     Jesu Joy of Man Desiring.mid  ./data/Bach/     Bach   \n",
       "\n",
       "                                   piano_roll_file  \n",
       "0                Bwv0997 Partita for Lute 1mov.npy  \n",
       "1                    Bwv0535 Prelude and Fugue.npy  \n",
       "2               Bwv0806 English Suite n1 05mov.npy  \n",
       "3  Bwv0998 Prelude Fugue Allegro for Lute 3mov.npy  \n",
       "4                     Jesu Joy of Man Desiring.npy  "
      ]
     },
     "execution_count": 4,
     "metadata": {},
     "output_type": "execute_result"
    }
   ],
   "source": [
    "df = pd.read_csv(os.path.join(path, filename))\n",
    "df.head()"
   ]
  },
  {
   "cell_type": "markdown",
   "metadata": {},
   "source": [
    "### Train CNN Model"
   ]
  },
  {
   "cell_type": "markdown",
   "metadata": {},
   "source": []
  }
 ],
 "metadata": {
  "kernelspec": {
   "display_name": "Python 3 (ipykernel)",
   "language": "python",
   "name": "python3"
  },
  "language_info": {
   "codemirror_mode": {
    "name": "ipython",
    "version": 3
   },
   "file_extension": ".py",
   "mimetype": "text/x-python",
   "name": "python",
   "nbconvert_exporter": "python",
   "pygments_lexer": "ipython3",
   "version": "3.11.4"
  }
 },
 "nbformat": 4,
 "nbformat_minor": 2
}
