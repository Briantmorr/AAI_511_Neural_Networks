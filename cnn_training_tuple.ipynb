{
 "cells": [
  {
   "cell_type": "code",
   "execution_count": 203,
   "metadata": {},
   "outputs": [],
   "source": [
    "import numpy as np\n",
    "import pandas as pd\n",
    "import keras_tuner as kt\n",
    "import tensorflow as tf\n",
    "import music21\n",
    "import ast\n",
    "from sklearn.model_selection import train_test_split\n",
    "from tensorflow.keras.utils import to_categorical\n",
    "from tensorflow.keras.preprocessing.sequence import pad_sequences\n",
    "from sklearn.preprocessing import LabelEncoder\n",
    "\n",
    "from tensorflow.keras.models import Sequential\n",
    "from tensorflow.keras.layers import Conv1D, MaxPooling1D, Flatten, Dense, Dropout\n",
    "from sklearn.metrics import classification_report\n",
    "\n",
    "from tensorflow.keras.regularizers import l2\n",
    "from imblearn.over_sampling import SMOTE\n"
   ]
  },
  {
   "cell_type": "code",
   "execution_count": 204,
   "metadata": {},
   "outputs": [],
   "source": [
    "df = pd.read_csv('./data/preprocessed_tuple_with_midi.csv')"
   ]
  },
  {
   "cell_type": "code",
   "execution_count": 205,
   "metadata": {},
   "outputs": [
    {
     "name": "stdout",
     "output_type": "stream",
     "text": [
      "[\n"
     ]
    }
   ],
   "source": [
    "print(df['note_tuple'][0][0])"
   ]
  },
  {
   "cell_type": "code",
   "execution_count": 206,
   "metadata": {},
   "outputs": [],
   "source": [
    "df['encoded_note_tuple'] = df['note_tuple'].apply(lambda x: ast.literal_eval(x))"
   ]
  },
  {
   "cell_type": "code",
   "execution_count": 207,
   "metadata": {},
   "outputs": [
    {
     "name": "stdout",
     "output_type": "stream",
     "text": [
      "(-1, 4.0, 2.0)\n"
     ]
    }
   ],
   "source": [
    "print(df['encoded_note_tuple'][0][0])"
   ]
  },
  {
   "cell_type": "markdown",
   "metadata": {},
   "source": [
    "## More preprocessing. Zero pad arrays"
   ]
  },
  {
   "cell_type": "code",
   "execution_count": 208,
   "metadata": {},
   "outputs": [],
   "source": [
    "MAX_LEN = 500"
   ]
  },
  {
   "cell_type": "code",
   "execution_count": 209,
   "metadata": {},
   "outputs": [
    {
     "name": "stdout",
     "output_type": "stream",
     "text": [
      "<class 'pandas.core.frame.DataFrame'>\n",
      "RangeIndex: 1530 entries, 0 to 1529\n",
      "Data columns (total 5 columns):\n",
      " #   Column              Non-Null Count  Dtype \n",
      "---  ------              --------------  ----- \n",
      " 0   midi_file           1530 non-null   object\n",
      " 1   composer            1530 non-null   object\n",
      " 2   path                1530 non-null   object\n",
      " 3   note_tuple          1530 non-null   object\n",
      " 4   encoded_note_tuple  1530 non-null   object\n",
      "dtypes: object(5)\n",
      "memory usage: 59.9+ KB\n"
     ]
    }
   ],
   "source": [
    "df.info()"
   ]
  },
  {
   "cell_type": "code",
   "execution_count": 210,
   "metadata": {},
   "outputs": [
    {
     "data": {
      "text/html": [
       "<div>\n",
       "<style scoped>\n",
       "    .dataframe tbody tr th:only-of-type {\n",
       "        vertical-align: middle;\n",
       "    }\n",
       "\n",
       "    .dataframe tbody tr th {\n",
       "        vertical-align: top;\n",
       "    }\n",
       "\n",
       "    .dataframe thead th {\n",
       "        text-align: right;\n",
       "    }\n",
       "</style>\n",
       "<table border=\"1\" class=\"dataframe\">\n",
       "  <thead>\n",
       "    <tr style=\"text-align: right;\">\n",
       "      <th></th>\n",
       "      <th>midi_file</th>\n",
       "      <th>composer</th>\n",
       "      <th>path</th>\n",
       "      <th>note_tuple</th>\n",
       "      <th>encoded_note_tuple</th>\n",
       "    </tr>\n",
       "  </thead>\n",
       "  <tbody>\n",
       "    <tr>\n",
       "      <th>0</th>\n",
       "      <td>Bwv0997 Partita for Lute 1mov.mid</td>\n",
       "      <td>Bach</td>\n",
       "      <td>./data/Bach/</td>\n",
       "      <td>[(-1, 4.0, 2.0), (48, 4.0, 4.0), (72, 6.0, 1.0...</td>\n",
       "      <td>[(-1, 4.0, 2.0), (48, 4.0, 4.0), (72, 6.0, 1.0...</td>\n",
       "    </tr>\n",
       "    <tr>\n",
       "      <th>1</th>\n",
       "      <td>Bwv0535 Prelude and Fugue.mid</td>\n",
       "      <td>Bach</td>\n",
       "      <td>./data/Bach/</td>\n",
       "      <td>[(-1, 4.0, 16.0), (55, 4.0, 1.0), (-1, 4.0, 16...</td>\n",
       "      <td>[(-1, 4.0, 16.0), (55, 4.0, 1.0), (-1, 4.0, 16...</td>\n",
       "    </tr>\n",
       "    <tr>\n",
       "      <th>2</th>\n",
       "      <td>Bwv0806 English Suite n1 05mov.mid</td>\n",
       "      <td>Bach</td>\n",
       "      <td>./data/Bach/</td>\n",
       "      <td>[(69, 4.0, 2.0), (-1, 4.0, 2.0), (69, 5.0, 9.3...</td>\n",
       "      <td>[(69, 4.0, 2.0), (-1, 4.0, 2.0), (69, 5.0, 9.3...</td>\n",
       "    </tr>\n",
       "    <tr>\n",
       "      <th>3</th>\n",
       "      <td>Bwv0998 Prelude Fugue Allegro for Lute 3mov.mid</td>\n",
       "      <td>Bach</td>\n",
       "      <td>./data/Bach/</td>\n",
       "      <td>[(-1, 4.0, 1.0), (39, 4.0, 4.0), (-1, 4.0, 6.0...</td>\n",
       "      <td>[(-1, 4.0, 1.0), (39, 4.0, 4.0), (-1, 4.0, 6.0...</td>\n",
       "    </tr>\n",
       "    <tr>\n",
       "      <th>4</th>\n",
       "      <td>Jesu Joy of Man Desiring.mid</td>\n",
       "      <td>Bach</td>\n",
       "      <td>./data/Bach/</td>\n",
       "      <td>[(-1, 4.0, 1.33), (-1, 4.0, 1.33), (-1, 4.0, 4...</td>\n",
       "      <td>[(-1, 4.0, 1.33), (-1, 4.0, 1.33), (-1, 4.0, 4...</td>\n",
       "    </tr>\n",
       "  </tbody>\n",
       "</table>\n",
       "</div>"
      ],
      "text/plain": [
       "                                         midi_file composer          path  \\\n",
       "0                Bwv0997 Partita for Lute 1mov.mid     Bach  ./data/Bach/   \n",
       "1                    Bwv0535 Prelude and Fugue.mid     Bach  ./data/Bach/   \n",
       "2               Bwv0806 English Suite n1 05mov.mid     Bach  ./data/Bach/   \n",
       "3  Bwv0998 Prelude Fugue Allegro for Lute 3mov.mid     Bach  ./data/Bach/   \n",
       "4                     Jesu Joy of Man Desiring.mid     Bach  ./data/Bach/   \n",
       "\n",
       "                                          note_tuple  \\\n",
       "0  [(-1, 4.0, 2.0), (48, 4.0, 4.0), (72, 6.0, 1.0...   \n",
       "1  [(-1, 4.0, 16.0), (55, 4.0, 1.0), (-1, 4.0, 16...   \n",
       "2  [(69, 4.0, 2.0), (-1, 4.0, 2.0), (69, 5.0, 9.3...   \n",
       "3  [(-1, 4.0, 1.0), (39, 4.0, 4.0), (-1, 4.0, 6.0...   \n",
       "4  [(-1, 4.0, 1.33), (-1, 4.0, 1.33), (-1, 4.0, 4...   \n",
       "\n",
       "                                  encoded_note_tuple  \n",
       "0  [(-1, 4.0, 2.0), (48, 4.0, 4.0), (72, 6.0, 1.0...  \n",
       "1  [(-1, 4.0, 16.0), (55, 4.0, 1.0), (-1, 4.0, 16...  \n",
       "2  [(69, 4.0, 2.0), (-1, 4.0, 2.0), (69, 5.0, 9.3...  \n",
       "3  [(-1, 4.0, 1.0), (39, 4.0, 4.0), (-1, 4.0, 6.0...  \n",
       "4  [(-1, 4.0, 1.33), (-1, 4.0, 1.33), (-1, 4.0, 4...  "
      ]
     },
     "execution_count": 210,
     "metadata": {},
     "output_type": "execute_result"
    }
   ],
   "source": [
    "df.head()"
   ]
  },
  {
   "cell_type": "code",
   "execution_count": 211,
   "metadata": {},
   "outputs": [],
   "source": [
    "def extract_first_last_tuples(sequences, total_len=MAX_LEN):\n",
    "    seq_len = len(sequences)\n",
    "    half_len = total_len // 2\n",
    "    if seq_len >= total_len:\n",
    "        # If the sequence is longer than or equal to total_len, take the first and last \n",
    "        first_half = sequences[:half_len]\n",
    "        last_half = sequences[-half_len:]\n",
    "        combined = first_half + last_half\n",
    "    else:\n",
    "        combined = sequences\n",
    "\n",
    "    # Pad to the total length\n",
    "    combined = pad_sequences([combined], maxlen=total_len, padding='post', truncating='post', dtype='float32')[0]\n",
    "    \n",
    "    return combined\n"
   ]
  },
  {
   "cell_type": "code",
   "execution_count": 212,
   "metadata": {},
   "outputs": [],
   "source": [
    "df['first_last_tuples'] = df['encoded_note_tuple'].apply(lambda x: extract_first_last_tuples(x))\n"
   ]
  },
  {
   "cell_type": "code",
   "execution_count": 213,
   "metadata": {},
   "outputs": [
    {
     "data": {
      "text/html": [
       "<div>\n",
       "<style scoped>\n",
       "    .dataframe tbody tr th:only-of-type {\n",
       "        vertical-align: middle;\n",
       "    }\n",
       "\n",
       "    .dataframe tbody tr th {\n",
       "        vertical-align: top;\n",
       "    }\n",
       "\n",
       "    .dataframe thead th {\n",
       "        text-align: right;\n",
       "    }\n",
       "</style>\n",
       "<table border=\"1\" class=\"dataframe\">\n",
       "  <thead>\n",
       "    <tr style=\"text-align: right;\">\n",
       "      <th></th>\n",
       "      <th>midi_file</th>\n",
       "      <th>composer</th>\n",
       "      <th>path</th>\n",
       "      <th>note_tuple</th>\n",
       "      <th>encoded_note_tuple</th>\n",
       "      <th>first_last_tuples</th>\n",
       "    </tr>\n",
       "  </thead>\n",
       "  <tbody>\n",
       "    <tr>\n",
       "      <th>0</th>\n",
       "      <td>Bwv0997 Partita for Lute 1mov.mid</td>\n",
       "      <td>Bach</td>\n",
       "      <td>./data/Bach/</td>\n",
       "      <td>[(-1, 4.0, 2.0), (48, 4.0, 4.0), (72, 6.0, 1.0...</td>\n",
       "      <td>[(-1, 4.0, 2.0), (48, 4.0, 4.0), (72, 6.0, 1.0...</td>\n",
       "      <td>[[-1.0, 4.0, 2.0], [48.0, 4.0, 4.0], [72.0, 6....</td>\n",
       "    </tr>\n",
       "    <tr>\n",
       "      <th>1</th>\n",
       "      <td>Bwv0535 Prelude and Fugue.mid</td>\n",
       "      <td>Bach</td>\n",
       "      <td>./data/Bach/</td>\n",
       "      <td>[(-1, 4.0, 16.0), (55, 4.0, 1.0), (-1, 4.0, 16...</td>\n",
       "      <td>[(-1, 4.0, 16.0), (55, 4.0, 1.0), (-1, 4.0, 16...</td>\n",
       "      <td>[[-1.0, 4.0, 16.0], [55.0, 4.0, 1.0], [-1.0, 4...</td>\n",
       "    </tr>\n",
       "    <tr>\n",
       "      <th>2</th>\n",
       "      <td>Bwv0806 English Suite n1 05mov.mid</td>\n",
       "      <td>Bach</td>\n",
       "      <td>./data/Bach/</td>\n",
       "      <td>[(69, 4.0, 2.0), (-1, 4.0, 2.0), (69, 5.0, 9.3...</td>\n",
       "      <td>[(69, 4.0, 2.0), (-1, 4.0, 2.0), (69, 5.0, 9.3...</td>\n",
       "      <td>[[69.0, 4.0, 2.0], [-1.0, 4.0, 2.0], [69.0, 5....</td>\n",
       "    </tr>\n",
       "    <tr>\n",
       "      <th>3</th>\n",
       "      <td>Bwv0998 Prelude Fugue Allegro for Lute 3mov.mid</td>\n",
       "      <td>Bach</td>\n",
       "      <td>./data/Bach/</td>\n",
       "      <td>[(-1, 4.0, 1.0), (39, 4.0, 4.0), (-1, 4.0, 6.0...</td>\n",
       "      <td>[(-1, 4.0, 1.0), (39, 4.0, 4.0), (-1, 4.0, 6.0...</td>\n",
       "      <td>[[-1.0, 4.0, 1.0], [39.0, 4.0, 4.0], [-1.0, 4....</td>\n",
       "    </tr>\n",
       "    <tr>\n",
       "      <th>4</th>\n",
       "      <td>Jesu Joy of Man Desiring.mid</td>\n",
       "      <td>Bach</td>\n",
       "      <td>./data/Bach/</td>\n",
       "      <td>[(-1, 4.0, 1.33), (-1, 4.0, 1.33), (-1, 4.0, 4...</td>\n",
       "      <td>[(-1, 4.0, 1.33), (-1, 4.0, 1.33), (-1, 4.0, 4...</td>\n",
       "      <td>[[-1.0, 4.0, 1.33], [-1.0, 4.0, 1.33], [-1.0, ...</td>\n",
       "    </tr>\n",
       "  </tbody>\n",
       "</table>\n",
       "</div>"
      ],
      "text/plain": [
       "                                         midi_file composer          path  \\\n",
       "0                Bwv0997 Partita for Lute 1mov.mid     Bach  ./data/Bach/   \n",
       "1                    Bwv0535 Prelude and Fugue.mid     Bach  ./data/Bach/   \n",
       "2               Bwv0806 English Suite n1 05mov.mid     Bach  ./data/Bach/   \n",
       "3  Bwv0998 Prelude Fugue Allegro for Lute 3mov.mid     Bach  ./data/Bach/   \n",
       "4                     Jesu Joy of Man Desiring.mid     Bach  ./data/Bach/   \n",
       "\n",
       "                                          note_tuple  \\\n",
       "0  [(-1, 4.0, 2.0), (48, 4.0, 4.0), (72, 6.0, 1.0...   \n",
       "1  [(-1, 4.0, 16.0), (55, 4.0, 1.0), (-1, 4.0, 16...   \n",
       "2  [(69, 4.0, 2.0), (-1, 4.0, 2.0), (69, 5.0, 9.3...   \n",
       "3  [(-1, 4.0, 1.0), (39, 4.0, 4.0), (-1, 4.0, 6.0...   \n",
       "4  [(-1, 4.0, 1.33), (-1, 4.0, 1.33), (-1, 4.0, 4...   \n",
       "\n",
       "                                  encoded_note_tuple  \\\n",
       "0  [(-1, 4.0, 2.0), (48, 4.0, 4.0), (72, 6.0, 1.0...   \n",
       "1  [(-1, 4.0, 16.0), (55, 4.0, 1.0), (-1, 4.0, 16...   \n",
       "2  [(69, 4.0, 2.0), (-1, 4.0, 2.0), (69, 5.0, 9.3...   \n",
       "3  [(-1, 4.0, 1.0), (39, 4.0, 4.0), (-1, 4.0, 6.0...   \n",
       "4  [(-1, 4.0, 1.33), (-1, 4.0, 1.33), (-1, 4.0, 4...   \n",
       "\n",
       "                                   first_last_tuples  \n",
       "0  [[-1.0, 4.0, 2.0], [48.0, 4.0, 4.0], [72.0, 6....  \n",
       "1  [[-1.0, 4.0, 16.0], [55.0, 4.0, 1.0], [-1.0, 4...  \n",
       "2  [[69.0, 4.0, 2.0], [-1.0, 4.0, 2.0], [69.0, 5....  \n",
       "3  [[-1.0, 4.0, 1.0], [39.0, 4.0, 4.0], [-1.0, 4....  \n",
       "4  [[-1.0, 4.0, 1.33], [-1.0, 4.0, 1.33], [-1.0, ...  "
      ]
     },
     "execution_count": 213,
     "metadata": {},
     "output_type": "execute_result"
    }
   ],
   "source": [
    "df.head()"
   ]
  },
  {
   "cell_type": "code",
   "execution_count": 235,
   "metadata": {},
   "outputs": [
    {
     "name": "stdout",
     "output_type": "stream",
     "text": [
      "0    [(0, 1.0, 0.5), (48.0, 1.0, 1.0), (72.0, 1.5, ...\n",
      "1    [(0, 1.0, 4.0), (55.0, 1.0, 0.25), (0, 1.0, 4....\n",
      "2    [(69.0, 1.0, 0.5), (0, 1.0, 0.5), (69.0, 1.25,...\n",
      "3    [(0, 1.0, 0.25), (39.0, 1.0, 1.0), (0, 1.0, 1....\n",
      "4    [(0, 1.0, 0.33250001072883606), (0, 1.0, 0.332...\n",
      "Name: scaled_tuples, dtype: object\n"
     ]
    }
   ],
   "source": [
    "# from sklearn.preprocessing import StandardScaler\n",
    "\n",
    "# Extract the first values from the tuples\n",
    "# first_values = np.array([t[0] for t in df['first_last_tuples'].apply(lambda x: x)])\n",
    "\n",
    "# Initialize the StandardScaler\n",
    "\n",
    "# Fit the scaler to the first values and transform them\n",
    "\n",
    "df['scaled_tuples'] = df['first_last_tuples'].apply(\n",
    "    lambda x: [(0 if t[0] < 0 else t[0], t[1] / 4, t[2] / 4) for i, t in enumerate(x)]\n",
    ")\n",
    "\n",
    "# Display the result\n",
    "print(df['scaled_tuples'].head())\n"
   ]
  },
  {
   "cell_type": "code",
   "execution_count": 236,
   "metadata": {},
   "outputs": [],
   "source": [
    "X = np.array(df['scaled_tuples'].tolist())\n"
   ]
  },
  {
   "cell_type": "code",
   "execution_count": 237,
   "metadata": {},
   "outputs": [
    {
     "data": {
      "text/html": [
       "<div>\n",
       "<style scoped>\n",
       "    .dataframe tbody tr th:only-of-type {\n",
       "        vertical-align: middle;\n",
       "    }\n",
       "\n",
       "    .dataframe tbody tr th {\n",
       "        vertical-align: top;\n",
       "    }\n",
       "\n",
       "    .dataframe thead th {\n",
       "        text-align: right;\n",
       "    }\n",
       "</style>\n",
       "<table border=\"1\" class=\"dataframe\">\n",
       "  <thead>\n",
       "    <tr style=\"text-align: right;\">\n",
       "      <th></th>\n",
       "      <th>midi_file</th>\n",
       "      <th>composer</th>\n",
       "      <th>path</th>\n",
       "      <th>note_tuple</th>\n",
       "      <th>encoded_note_tuple</th>\n",
       "      <th>first_last_tuples</th>\n",
       "      <th>scaled_tuples</th>\n",
       "    </tr>\n",
       "  </thead>\n",
       "  <tbody>\n",
       "    <tr>\n",
       "      <th>0</th>\n",
       "      <td>Bwv0997 Partita for Lute 1mov.mid</td>\n",
       "      <td>Bach</td>\n",
       "      <td>./data/Bach/</td>\n",
       "      <td>[(-1, 4.0, 2.0), (48, 4.0, 4.0), (72, 6.0, 1.0...</td>\n",
       "      <td>[(-1, 4.0, 2.0), (48, 4.0, 4.0), (72, 6.0, 1.0...</td>\n",
       "      <td>[[-1.0, 4.0, 2.0], [48.0, 4.0, 4.0], [72.0, 6....</td>\n",
       "      <td>[(0, 1.0, 0.5), (48.0, 1.0, 1.0), (72.0, 1.5, ...</td>\n",
       "    </tr>\n",
       "    <tr>\n",
       "      <th>1</th>\n",
       "      <td>Bwv0535 Prelude and Fugue.mid</td>\n",
       "      <td>Bach</td>\n",
       "      <td>./data/Bach/</td>\n",
       "      <td>[(-1, 4.0, 16.0), (55, 4.0, 1.0), (-1, 4.0, 16...</td>\n",
       "      <td>[(-1, 4.0, 16.0), (55, 4.0, 1.0), (-1, 4.0, 16...</td>\n",
       "      <td>[[-1.0, 4.0, 16.0], [55.0, 4.0, 1.0], [-1.0, 4...</td>\n",
       "      <td>[(0, 1.0, 4.0), (55.0, 1.0, 0.25), (0, 1.0, 4....</td>\n",
       "    </tr>\n",
       "    <tr>\n",
       "      <th>2</th>\n",
       "      <td>Bwv0806 English Suite n1 05mov.mid</td>\n",
       "      <td>Bach</td>\n",
       "      <td>./data/Bach/</td>\n",
       "      <td>[(69, 4.0, 2.0), (-1, 4.0, 2.0), (69, 5.0, 9.3...</td>\n",
       "      <td>[(69, 4.0, 2.0), (-1, 4.0, 2.0), (69, 5.0, 9.3...</td>\n",
       "      <td>[[69.0, 4.0, 2.0], [-1.0, 4.0, 2.0], [69.0, 5....</td>\n",
       "      <td>[(69.0, 1.0, 0.5), (0, 1.0, 0.5), (69.0, 1.25,...</td>\n",
       "    </tr>\n",
       "    <tr>\n",
       "      <th>3</th>\n",
       "      <td>Bwv0998 Prelude Fugue Allegro for Lute 3mov.mid</td>\n",
       "      <td>Bach</td>\n",
       "      <td>./data/Bach/</td>\n",
       "      <td>[(-1, 4.0, 1.0), (39, 4.0, 4.0), (-1, 4.0, 6.0...</td>\n",
       "      <td>[(-1, 4.0, 1.0), (39, 4.0, 4.0), (-1, 4.0, 6.0...</td>\n",
       "      <td>[[-1.0, 4.0, 1.0], [39.0, 4.0, 4.0], [-1.0, 4....</td>\n",
       "      <td>[(0, 1.0, 0.25), (39.0, 1.0, 1.0), (0, 1.0, 1....</td>\n",
       "    </tr>\n",
       "    <tr>\n",
       "      <th>4</th>\n",
       "      <td>Jesu Joy of Man Desiring.mid</td>\n",
       "      <td>Bach</td>\n",
       "      <td>./data/Bach/</td>\n",
       "      <td>[(-1, 4.0, 1.33), (-1, 4.0, 1.33), (-1, 4.0, 4...</td>\n",
       "      <td>[(-1, 4.0, 1.33), (-1, 4.0, 1.33), (-1, 4.0, 4...</td>\n",
       "      <td>[[-1.0, 4.0, 1.33], [-1.0, 4.0, 1.33], [-1.0, ...</td>\n",
       "      <td>[(0, 1.0, 0.33250001072883606), (0, 1.0, 0.332...</td>\n",
       "    </tr>\n",
       "  </tbody>\n",
       "</table>\n",
       "</div>"
      ],
      "text/plain": [
       "                                         midi_file composer          path  \\\n",
       "0                Bwv0997 Partita for Lute 1mov.mid     Bach  ./data/Bach/   \n",
       "1                    Bwv0535 Prelude and Fugue.mid     Bach  ./data/Bach/   \n",
       "2               Bwv0806 English Suite n1 05mov.mid     Bach  ./data/Bach/   \n",
       "3  Bwv0998 Prelude Fugue Allegro for Lute 3mov.mid     Bach  ./data/Bach/   \n",
       "4                     Jesu Joy of Man Desiring.mid     Bach  ./data/Bach/   \n",
       "\n",
       "                                          note_tuple  \\\n",
       "0  [(-1, 4.0, 2.0), (48, 4.0, 4.0), (72, 6.0, 1.0...   \n",
       "1  [(-1, 4.0, 16.0), (55, 4.0, 1.0), (-1, 4.0, 16...   \n",
       "2  [(69, 4.0, 2.0), (-1, 4.0, 2.0), (69, 5.0, 9.3...   \n",
       "3  [(-1, 4.0, 1.0), (39, 4.0, 4.0), (-1, 4.0, 6.0...   \n",
       "4  [(-1, 4.0, 1.33), (-1, 4.0, 1.33), (-1, 4.0, 4...   \n",
       "\n",
       "                                  encoded_note_tuple  \\\n",
       "0  [(-1, 4.0, 2.0), (48, 4.0, 4.0), (72, 6.0, 1.0...   \n",
       "1  [(-1, 4.0, 16.0), (55, 4.0, 1.0), (-1, 4.0, 16...   \n",
       "2  [(69, 4.0, 2.0), (-1, 4.0, 2.0), (69, 5.0, 9.3...   \n",
       "3  [(-1, 4.0, 1.0), (39, 4.0, 4.0), (-1, 4.0, 6.0...   \n",
       "4  [(-1, 4.0, 1.33), (-1, 4.0, 1.33), (-1, 4.0, 4...   \n",
       "\n",
       "                                   first_last_tuples  \\\n",
       "0  [[-1.0, 4.0, 2.0], [48.0, 4.0, 4.0], [72.0, 6....   \n",
       "1  [[-1.0, 4.0, 16.0], [55.0, 4.0, 1.0], [-1.0, 4...   \n",
       "2  [[69.0, 4.0, 2.0], [-1.0, 4.0, 2.0], [69.0, 5....   \n",
       "3  [[-1.0, 4.0, 1.0], [39.0, 4.0, 4.0], [-1.0, 4....   \n",
       "4  [[-1.0, 4.0, 1.33], [-1.0, 4.0, 1.33], [-1.0, ...   \n",
       "\n",
       "                                       scaled_tuples  \n",
       "0  [(0, 1.0, 0.5), (48.0, 1.0, 1.0), (72.0, 1.5, ...  \n",
       "1  [(0, 1.0, 4.0), (55.0, 1.0, 0.25), (0, 1.0, 4....  \n",
       "2  [(69.0, 1.0, 0.5), (0, 1.0, 0.5), (69.0, 1.25,...  \n",
       "3  [(0, 1.0, 0.25), (39.0, 1.0, 1.0), (0, 1.0, 1....  \n",
       "4  [(0, 1.0, 0.33250001072883606), (0, 1.0, 0.332...  "
      ]
     },
     "execution_count": 237,
     "metadata": {},
     "output_type": "execute_result"
    }
   ],
   "source": [
    "df.head()"
   ]
  },
  {
   "cell_type": "code",
   "execution_count": 238,
   "metadata": {},
   "outputs": [
    {
     "name": "stdout",
     "output_type": "stream",
     "text": [
      "(1530, 500, 3)\n"
     ]
    }
   ],
   "source": [
    "print(X.shape)"
   ]
  },
  {
   "cell_type": "code",
   "execution_count": 239,
   "metadata": {},
   "outputs": [],
   "source": [
    "label_encoder = LabelEncoder()\n",
    "y = label_encoder.fit_transform(df['composer'])\n"
   ]
  },
  {
   "cell_type": "code",
   "execution_count": 240,
   "metadata": {},
   "outputs": [],
   "source": [
    "def apply_smote(X, y):\n",
    "    smote = SMOTE(random_state=42)  \n",
    "\n",
    "    num_samples, num_timesteps, num_features = X.shape\n",
    "    X_flatten = X.reshape(num_samples, -1)\n",
    "\n",
    "    smote = SMOTE(random_state=42)\n",
    "    X_smote, y_smote = smote.fit_resample(X_flatten, y)\n",
    "\n",
    "    print(pd.Series(y_smote).value_counts())\n",
    "    X_smote_reshaped = X_smote.reshape(X_smote.shape[0], num_timesteps, num_features)\n",
    "\n",
    "    return X_smote_reshaped, y_smote"
   ]
  },
  {
   "cell_type": "code",
   "execution_count": 241,
   "metadata": {},
   "outputs": [],
   "source": [
    "X_temp, X_train, y_temp, y_train = train_test_split(X, y, test_size=0.8, random_state=42)\n",
    "\n",
    "# Need to apply smote to training before we convert to categorical\n",
    "num_classes = len(label_encoder.classes_)\n",
    "y_temp = to_categorical(y_temp, num_classes=num_classes)\n",
    "\n",
    "X_val, X_test, y_val, y_test = train_test_split(X_temp, y_temp, test_size=0.5, random_state=42)\n"
   ]
  },
  {
   "cell_type": "code",
   "execution_count": 242,
   "metadata": {},
   "outputs": [
    {
     "name": "stdout",
     "output_type": "stream",
     "text": [
      "(1224, 500, 3) (1224,)\n"
     ]
    }
   ],
   "source": [
    "print(X_train.shape, y_train.shape)"
   ]
  },
  {
   "cell_type": "code",
   "execution_count": 243,
   "metadata": {},
   "outputs": [
    {
     "name": "stdout",
     "output_type": "stream",
     "text": [
      "(1530, 7)\n"
     ]
    }
   ],
   "source": [
    "print(df.shape)"
   ]
  },
  {
   "cell_type": "code",
   "execution_count": 244,
   "metadata": {},
   "outputs": [],
   "source": [
    "# X_train, y_train = apply_smote(X_train, y_train)"
   ]
  },
  {
   "cell_type": "code",
   "execution_count": 245,
   "metadata": {},
   "outputs": [
    {
     "name": "stdout",
     "output_type": "stream",
     "text": [
      "(1224, 500, 3) (1224,)\n"
     ]
    }
   ],
   "source": [
    "print(X_train.shape, y_train.shape)"
   ]
  },
  {
   "cell_type": "code",
   "execution_count": 246,
   "metadata": {},
   "outputs": [],
   "source": [
    "y_train = to_categorical(y_train, num_classes=num_classes)"
   ]
  },
  {
   "cell_type": "code",
   "execution_count": 247,
   "metadata": {},
   "outputs": [],
   "source": [
    "input_shape = X_train.shape[1:]"
   ]
  },
  {
   "cell_type": "code",
   "execution_count": 248,
   "metadata": {},
   "outputs": [],
   "source": [
    "# y_pred = cnn_model.predict(X_test)\n",
    "# y_pred_classes = np.argmax(y_pred, axis=1)\n",
    "# y_true = np.argmax(y_test, axis=1)\n",
    "\n",
    "# print(classification_report(y_true, y_pred_classes, target_names=label_encoder.classes_))"
   ]
  },
  {
   "cell_type": "code",
   "execution_count": 249,
   "metadata": {},
   "outputs": [],
   "source": [
    "\n",
    "class CNNHyperModel(kt.HyperModel):\n",
    "    \"\"\"\n",
    "    CNN model for hyperparameter tuning using Keras Tuner.\n",
    "    The keras Tuner doesn't support epochs or batch_size as a parameter, so I overloaded the fit method to include them.\n",
    "    \"\"\"\n",
    "    def build(self, hp):\n",
    "        model = Sequential()\n",
    "        model.add(Conv1D(filters=hp.Int('filters_1', min_value=64, max_value=192, step=64),\n",
    "                        kernel_size=3,\n",
    "                        activation='relu',\n",
    "                        kernel_regularizer=l2(hp.Choice('l2', [0.001, 0.0001])),\n",
    "                        input_shape=input_shape))\n",
    "        model.add(MaxPooling1D(2))\n",
    "        model.add(Dropout(hp.Choice('dropout_1', [0.2, 0.3, 0.4])))\n",
    "        \n",
    "        if hp.Boolean('add_second_conv_layer'):\n",
    "            model.add(Conv1D(filters=hp.Int('filters_2', min_value=64, max_value=192, step=64),\n",
    "                            kernel_size=3,\n",
    "                            activation='relu',\n",
    "                            kernel_regularizer=l2(hp.Choice('l2', [0.001, 0.0001]))))\n",
    "            model.add(MaxPooling1D(2))\n",
    "            model.add(Dropout(hp.Choice('dropout_2', [0.2, 0.3, 0.4])))\n",
    "        \n",
    "        model.add(Flatten())\n",
    "        model.add(Dense(units=hp.Int('dense_units', min_value=32, max_value=128, step=32),\n",
    "                        activation='relu',\n",
    "                        kernel_regularizer=l2(hp.Choice('l2', [0.001, 0.0001]))))\n",
    "        model.add(Dropout(hp.Choice('dropout_3', [0.2, 0.3, 0.4])))\n",
    "        \n",
    "        model.add(Dense(num_classes, activation='softmax'))\n",
    "        \n",
    "        learning_rate = hp.Choice('learning_rate', [0.001, 0.0005, 0.0001])\n",
    "        optimizer = tf.keras.optimizers.Adam(learning_rate=learning_rate)\n",
    "\n",
    "        model.compile(optimizer=optimizer,\n",
    "                    loss='categorical_crossentropy',\n",
    "                    metrics=['accuracy'])\n",
    "        return model\n",
    "\n",
    "    def fit(self, hp, model, *args, **kwargs):\n",
    "        return model.fit(\n",
    "            *args,\n",
    "            batch_size=hp.Choice(\"batch_size\", [24, 32, 40, 48]),\n",
    "            epochs=hp.Choice(\"epochs\", [15, 20, 30, 50, 100]),\n",
    "            **kwargs,\n",
    "        )"
   ]
  },
  {
   "cell_type": "code",
   "execution_count": 252,
   "metadata": {},
   "outputs": [
    {
     "name": "stdout",
     "output_type": "stream",
     "text": [
      "Trial 15 Complete [00h 00m 38s]\n",
      "val_accuracy: 0.5686274766921997\n",
      "\n",
      "Best val_accuracy So Far: 0.673202633857727\n",
      "Total elapsed time: 00h 11m 54s\n"
     ]
    }
   ],
   "source": [
    "tuner = kt.BayesianOptimization(\n",
    "    CNNHyperModel(X_train.shape[1:]),\n",
    "    objective='val_accuracy',\n",
    "    max_trials=15,\n",
    "    executions_per_trial=2,\n",
    "    directory='my_dir',\n",
    "    project_name='cnn_tuning'\n",
    ")\n",
    "\n",
    "tuner.search(\n",
    "    X_train, y_train,\n",
    "    validation_data=(X_val, y_val)\n",
    ")"
   ]
  },
  {
   "cell_type": "code",
   "execution_count": 253,
   "metadata": {},
   "outputs": [],
   "source": [
    "best_hps = tuner.get_best_hyperparameters(num_trials=1)[0]"
   ]
  },
  {
   "cell_type": "code",
   "execution_count": 254,
   "metadata": {},
   "outputs": [
    {
     "name": "stdout",
     "output_type": "stream",
     "text": [
      "\n",
      "The hyperparameter search is complete. \n",
      "Best parameters:\n",
      "Filters: 192 and 64\n",
      "Dense Units: 96\n",
      "Dropout: 0.2, 0.2, 0.4\n",
      "Regularization: 0.001\n",
      "2nd convo layer: True\n",
      "Learning Rate: 0.001\n",
      "Batch Size: 40\n",
      "Epoch: 100\n",
      "\n"
     ]
    }
   ],
   "source": [
    "best_batch_size = best_hps.get('batch_size')\n",
    "best_epoch = best_hps.get('epochs')\n",
    "learning_rate = best_hps.get('learning_rate')\n",
    "print(f\"\"\"\n",
    "The hyperparameter search is complete. \n",
    "Best parameters:\n",
    "Filters: {best_hps.get('filters_1')} and {best_hps.get('filters_2')}\n",
    "Dense Units: {best_hps.get('dense_units')}\n",
    "Dropout: {best_hps.get('dropout_1')}, {best_hps.get('dropout_2')}, {best_hps.get('dropout_3')}\n",
    "Regularization: {best_hps.get('l2')}\n",
    "2nd convo layer: {best_hps.get('add_second_conv_layer')}\n",
    "Learning Rate: {learning_rate}\n",
    "Batch Size: {best_batch_size}\n",
    "Epoch: {best_epoch}\n",
    "\"\"\")\n"
   ]
  },
  {
   "cell_type": "code",
   "execution_count": 256,
   "metadata": {},
   "outputs": [
    {
     "name": "stdout",
     "output_type": "stream",
     "text": [
      "Epoch 1/100\n",
      "\u001b[1m31/31\u001b[0m \u001b[32m━━━━━━━━━━━━━━━━━━━━\u001b[0m\u001b[37m\u001b[0m \u001b[1m1s\u001b[0m 19ms/step - accuracy: 0.4559 - loss: 10.9610 - val_accuracy: 0.6078 - val_loss: 1.6054\n",
      "Epoch 2/100\n",
      "\u001b[1m31/31\u001b[0m \u001b[32m━━━━━━━━━━━━━━━━━━━━\u001b[0m\u001b[37m\u001b[0m \u001b[1m1s\u001b[0m 17ms/step - accuracy: 0.6122 - loss: 1.2392 - val_accuracy: 0.6144 - val_loss: 1.4423\n",
      "Epoch 3/100\n",
      "\u001b[1m31/31\u001b[0m \u001b[32m━━━━━━━━━━━━━━━━━━━━\u001b[0m\u001b[37m\u001b[0m \u001b[1m1s\u001b[0m 17ms/step - accuracy: 0.6492 - loss: 1.1190 - val_accuracy: 0.6340 - val_loss: 1.1563\n",
      "Epoch 4/100\n",
      "\u001b[1m31/31\u001b[0m \u001b[32m━━━━━━━━━━━━━━━━━━━━\u001b[0m\u001b[37m\u001b[0m \u001b[1m1s\u001b[0m 19ms/step - accuracy: 0.6961 - loss: 1.0683 - val_accuracy: 0.6209 - val_loss: 1.1972\n",
      "Epoch 5/100\n",
      "\u001b[1m31/31\u001b[0m \u001b[32m━━━━━━━━━━━━━━━━━━━━\u001b[0m\u001b[37m\u001b[0m \u001b[1m1s\u001b[0m 17ms/step - accuracy: 0.7139 - loss: 0.9834 - val_accuracy: 0.6144 - val_loss: 1.2317\n",
      "Epoch 6/100\n",
      "\u001b[1m31/31\u001b[0m \u001b[32m━━━━━━━━━━━━━━━━━━━━\u001b[0m\u001b[37m\u001b[0m \u001b[1m1s\u001b[0m 18ms/step - accuracy: 0.7430 - loss: 0.8866 - val_accuracy: 0.6078 - val_loss: 1.1615\n",
      "Epoch 7/100\n",
      "\u001b[1m31/31\u001b[0m \u001b[32m━━━━━━━━━━━━━━━━━━━━\u001b[0m\u001b[37m\u001b[0m \u001b[1m1s\u001b[0m 18ms/step - accuracy: 0.7817 - loss: 0.8486 - val_accuracy: 0.6078 - val_loss: 1.2264\n",
      "Epoch 8/100\n",
      "\u001b[1m31/31\u001b[0m \u001b[32m━━━━━━━━━━━━━━━━━━━━\u001b[0m\u001b[37m\u001b[0m \u001b[1m1s\u001b[0m 19ms/step - accuracy: 0.8108 - loss: 0.7886 - val_accuracy: 0.6078 - val_loss: 1.2370\n",
      "Epoch 9/100\n",
      "\u001b[1m31/31\u001b[0m \u001b[32m━━━━━━━━━━━━━━━━━━━━\u001b[0m\u001b[37m\u001b[0m \u001b[1m1s\u001b[0m 19ms/step - accuracy: 0.8383 - loss: 0.7120 - val_accuracy: 0.5948 - val_loss: 1.3283\n",
      "Epoch 10/100\n",
      "\u001b[1m31/31\u001b[0m \u001b[32m━━━━━━━━━━━━━━━━━━━━\u001b[0m\u001b[37m\u001b[0m \u001b[1m1s\u001b[0m 19ms/step - accuracy: 0.8478 - loss: 0.6515 - val_accuracy: 0.5882 - val_loss: 1.5380\n",
      "Epoch 11/100\n",
      "\u001b[1m31/31\u001b[0m \u001b[32m━━━━━━━━━━━━━━━━━━━━\u001b[0m\u001b[37m\u001b[0m \u001b[1m1s\u001b[0m 18ms/step - accuracy: 0.8521 - loss: 0.6618 - val_accuracy: 0.5948 - val_loss: 1.3842\n",
      "Epoch 12/100\n",
      "\u001b[1m31/31\u001b[0m \u001b[32m━━━━━━━━━━━━━━━━━━━━\u001b[0m\u001b[37m\u001b[0m \u001b[1m1s\u001b[0m 19ms/step - accuracy: 0.8896 - loss: 0.5938 - val_accuracy: 0.5882 - val_loss: 1.4108\n",
      "Epoch 13/100\n",
      "\u001b[1m31/31\u001b[0m \u001b[32m━━━━━━━━━━━━━━━━━━━━\u001b[0m\u001b[37m\u001b[0m \u001b[1m1s\u001b[0m 19ms/step - accuracy: 0.9066 - loss: 0.5193 - val_accuracy: 0.6209 - val_loss: 1.6103\n",
      "Epoch 14/100\n",
      "\u001b[1m31/31\u001b[0m \u001b[32m━━━━━━━━━━━━━━━━━━━━\u001b[0m\u001b[37m\u001b[0m \u001b[1m1s\u001b[0m 18ms/step - accuracy: 0.9210 - loss: 0.5019 - val_accuracy: 0.6013 - val_loss: 1.4043\n",
      "Epoch 15/100\n",
      "\u001b[1m31/31\u001b[0m \u001b[32m━━━━━━━━━━━━━━━━━━━━\u001b[0m\u001b[37m\u001b[0m \u001b[1m1s\u001b[0m 19ms/step - accuracy: 0.9224 - loss: 0.4763 - val_accuracy: 0.6209 - val_loss: 1.4782\n",
      "Epoch 16/100\n",
      "\u001b[1m31/31\u001b[0m \u001b[32m━━━━━━━━━━━━━━━━━━━━\u001b[0m\u001b[37m\u001b[0m \u001b[1m1s\u001b[0m 18ms/step - accuracy: 0.9434 - loss: 0.4429 - val_accuracy: 0.5686 - val_loss: 1.6946\n",
      "Epoch 17/100\n",
      "\u001b[1m31/31\u001b[0m \u001b[32m━━━━━━━━━━━━━━━━━━━━\u001b[0m\u001b[37m\u001b[0m \u001b[1m1s\u001b[0m 18ms/step - accuracy: 0.9218 - loss: 0.5150 - val_accuracy: 0.5882 - val_loss: 1.8438\n",
      "Epoch 18/100\n",
      "\u001b[1m31/31\u001b[0m \u001b[32m━━━━━━━━━━━━━━━━━━━━\u001b[0m\u001b[37m\u001b[0m \u001b[1m1s\u001b[0m 19ms/step - accuracy: 0.9247 - loss: 0.4832 - val_accuracy: 0.6013 - val_loss: 1.6586\n",
      "Epoch 19/100\n",
      "\u001b[1m31/31\u001b[0m \u001b[32m━━━━━━━━━━━━━━━━━━━━\u001b[0m\u001b[37m\u001b[0m \u001b[1m1s\u001b[0m 18ms/step - accuracy: 0.9525 - loss: 0.4257 - val_accuracy: 0.5948 - val_loss: 1.7155\n",
      "Epoch 20/100\n",
      "\u001b[1m31/31\u001b[0m \u001b[32m━━━━━━━━━━━━━━━━━━━━\u001b[0m\u001b[37m\u001b[0m \u001b[1m1s\u001b[0m 19ms/step - accuracy: 0.9386 - loss: 0.4514 - val_accuracy: 0.5948 - val_loss: 1.9541\n",
      "Epoch 21/100\n",
      "\u001b[1m31/31\u001b[0m \u001b[32m━━━━━━━━━━━━━━━━━━━━\u001b[0m\u001b[37m\u001b[0m \u001b[1m1s\u001b[0m 19ms/step - accuracy: 0.9541 - loss: 0.4113 - val_accuracy: 0.6209 - val_loss: 1.7642\n",
      "Epoch 22/100\n",
      "\u001b[1m31/31\u001b[0m \u001b[32m━━━━━━━━━━━━━━━━━━━━\u001b[0m\u001b[37m\u001b[0m \u001b[1m1s\u001b[0m 18ms/step - accuracy: 0.9631 - loss: 0.3910 - val_accuracy: 0.6209 - val_loss: 1.8286\n",
      "Epoch 23/100\n",
      "\u001b[1m31/31\u001b[0m \u001b[32m━━━━━━━━━━━━━━━━━━━━\u001b[0m\u001b[37m\u001b[0m \u001b[1m1s\u001b[0m 19ms/step - accuracy: 0.9562 - loss: 0.4086 - val_accuracy: 0.6144 - val_loss: 1.7946\n",
      "Epoch 24/100\n",
      "\u001b[1m31/31\u001b[0m \u001b[32m━━━━━━━━━━━━━━━━━━━━\u001b[0m\u001b[37m\u001b[0m \u001b[1m1s\u001b[0m 19ms/step - accuracy: 0.9531 - loss: 0.4110 - val_accuracy: 0.5948 - val_loss: 2.2579\n",
      "Epoch 25/100\n",
      "\u001b[1m31/31\u001b[0m \u001b[32m━━━━━━━━━━━━━━━━━━━━\u001b[0m\u001b[37m\u001b[0m \u001b[1m1s\u001b[0m 19ms/step - accuracy: 0.9406 - loss: 0.4487 - val_accuracy: 0.5882 - val_loss: 1.8601\n",
      "Epoch 26/100\n",
      "\u001b[1m31/31\u001b[0m \u001b[32m━━━━━━━━━━━━━━━━━━━━\u001b[0m\u001b[37m\u001b[0m \u001b[1m1s\u001b[0m 18ms/step - accuracy: 0.9573 - loss: 0.4046 - val_accuracy: 0.6013 - val_loss: 1.8071\n",
      "Epoch 27/100\n",
      "\u001b[1m31/31\u001b[0m \u001b[32m━━━━━━━━━━━━━━━━━━━━\u001b[0m\u001b[37m\u001b[0m \u001b[1m1s\u001b[0m 18ms/step - accuracy: 0.9461 - loss: 0.4221 - val_accuracy: 0.6013 - val_loss: 1.7329\n",
      "Epoch 28/100\n",
      "\u001b[1m31/31\u001b[0m \u001b[32m━━━━━━━━━━━━━━━━━━━━\u001b[0m\u001b[37m\u001b[0m \u001b[1m1s\u001b[0m 21ms/step - accuracy: 0.9696 - loss: 0.3745 - val_accuracy: 0.5948 - val_loss: 2.0398\n",
      "Epoch 29/100\n",
      "\u001b[1m31/31\u001b[0m \u001b[32m━━━━━━━━━━━━━━━━━━━━\u001b[0m\u001b[37m\u001b[0m \u001b[1m1s\u001b[0m 18ms/step - accuracy: 0.9616 - loss: 0.3842 - val_accuracy: 0.5882 - val_loss: 1.9523\n",
      "Epoch 30/100\n",
      "\u001b[1m31/31\u001b[0m \u001b[32m━━━━━━━━━━━━━━━━━━━━\u001b[0m\u001b[37m\u001b[0m \u001b[1m1s\u001b[0m 20ms/step - accuracy: 0.9633 - loss: 0.3778 - val_accuracy: 0.6209 - val_loss: 2.2813\n",
      "Epoch 31/100\n",
      "\u001b[1m31/31\u001b[0m \u001b[32m━━━━━━━━━━━━━━━━━━━━\u001b[0m\u001b[37m\u001b[0m \u001b[1m1s\u001b[0m 19ms/step - accuracy: 0.9506 - loss: 0.3905 - val_accuracy: 0.5686 - val_loss: 2.3443\n",
      "Epoch 32/100\n",
      "\u001b[1m31/31\u001b[0m \u001b[32m━━━━━━━━━━━━━━━━━━━━\u001b[0m\u001b[37m\u001b[0m \u001b[1m1s\u001b[0m 18ms/step - accuracy: 0.9569 - loss: 0.4049 - val_accuracy: 0.5686 - val_loss: 1.8127\n",
      "Epoch 33/100\n",
      "\u001b[1m31/31\u001b[0m \u001b[32m━━━━━━━━━━━━━━━━━━━━\u001b[0m\u001b[37m\u001b[0m \u001b[1m1s\u001b[0m 19ms/step - accuracy: 0.9694 - loss: 0.3839 - val_accuracy: 0.6013 - val_loss: 1.7774\n",
      "Epoch 34/100\n",
      "\u001b[1m31/31\u001b[0m \u001b[32m━━━━━━━━━━━━━━━━━━━━\u001b[0m\u001b[37m\u001b[0m \u001b[1m1s\u001b[0m 19ms/step - accuracy: 0.9660 - loss: 0.3783 - val_accuracy: 0.6078 - val_loss: 2.1454\n",
      "Epoch 35/100\n",
      "\u001b[1m31/31\u001b[0m \u001b[32m━━━━━━━━━━━━━━━━━━━━\u001b[0m\u001b[37m\u001b[0m \u001b[1m1s\u001b[0m 18ms/step - accuracy: 0.9751 - loss: 0.3450 - val_accuracy: 0.5817 - val_loss: 2.2996\n",
      "Epoch 36/100\n",
      "\u001b[1m31/31\u001b[0m \u001b[32m━━━━━━━━━━━━━━━━━━━━\u001b[0m\u001b[37m\u001b[0m \u001b[1m1s\u001b[0m 21ms/step - accuracy: 0.9672 - loss: 0.3629 - val_accuracy: 0.6078 - val_loss: 2.0894\n",
      "Epoch 37/100\n",
      "\u001b[1m31/31\u001b[0m \u001b[32m━━━━━━━━━━━━━━━━━━━━\u001b[0m\u001b[37m\u001b[0m \u001b[1m1s\u001b[0m 18ms/step - accuracy: 0.9633 - loss: 0.3817 - val_accuracy: 0.5948 - val_loss: 1.9468\n",
      "Epoch 38/100\n",
      "\u001b[1m31/31\u001b[0m \u001b[32m━━━━━━━━━━━━━━━━━━━━\u001b[0m\u001b[37m\u001b[0m \u001b[1m1s\u001b[0m 19ms/step - accuracy: 0.9719 - loss: 0.3437 - val_accuracy: 0.6275 - val_loss: 2.1465\n",
      "Epoch 39/100\n",
      "\u001b[1m31/31\u001b[0m \u001b[32m━━━━━━━━━━━━━━━━━━━━\u001b[0m\u001b[37m\u001b[0m \u001b[1m1s\u001b[0m 18ms/step - accuracy: 0.9727 - loss: 0.3550 - val_accuracy: 0.6013 - val_loss: 2.0433\n",
      "Epoch 40/100\n",
      "\u001b[1m31/31\u001b[0m \u001b[32m━━━━━━━━━━━━━━━━━━━━\u001b[0m\u001b[37m\u001b[0m \u001b[1m1s\u001b[0m 18ms/step - accuracy: 0.9733 - loss: 0.3382 - val_accuracy: 0.5948 - val_loss: 1.9875\n",
      "Epoch 41/100\n",
      "\u001b[1m31/31\u001b[0m \u001b[32m━━━━━━━━━━━━━━━━━━━━\u001b[0m\u001b[37m\u001b[0m \u001b[1m1s\u001b[0m 20ms/step - accuracy: 0.9787 - loss: 0.3402 - val_accuracy: 0.6275 - val_loss: 2.2556\n",
      "Epoch 42/100\n",
      "\u001b[1m31/31\u001b[0m \u001b[32m━━━━━━━━━━━━━━━━━━━━\u001b[0m\u001b[37m\u001b[0m \u001b[1m1s\u001b[0m 17ms/step - accuracy: 0.9689 - loss: 0.3616 - val_accuracy: 0.5882 - val_loss: 2.0936\n",
      "Epoch 43/100\n",
      "\u001b[1m31/31\u001b[0m \u001b[32m━━━━━━━━━━━━━━━━━━━━\u001b[0m\u001b[37m\u001b[0m \u001b[1m1s\u001b[0m 17ms/step - accuracy: 0.9659 - loss: 0.3597 - val_accuracy: 0.5882 - val_loss: 2.1302\n",
      "Epoch 44/100\n",
      "\u001b[1m31/31\u001b[0m \u001b[32m━━━━━━━━━━━━━━━━━━━━\u001b[0m\u001b[37m\u001b[0m \u001b[1m1s\u001b[0m 17ms/step - accuracy: 0.9710 - loss: 0.3806 - val_accuracy: 0.5882 - val_loss: 2.0206\n",
      "Epoch 45/100\n",
      "\u001b[1m31/31\u001b[0m \u001b[32m━━━━━━━━━━━━━━━━━━━━\u001b[0m\u001b[37m\u001b[0m \u001b[1m1s\u001b[0m 19ms/step - accuracy: 0.9804 - loss: 0.3370 - val_accuracy: 0.5686 - val_loss: 2.0100\n",
      "Epoch 46/100\n",
      "\u001b[1m31/31\u001b[0m \u001b[32m━━━━━━━━━━━━━━━━━━━━\u001b[0m\u001b[37m\u001b[0m \u001b[1m1s\u001b[0m 16ms/step - accuracy: 0.9862 - loss: 0.3092 - val_accuracy: 0.5882 - val_loss: 1.9677\n",
      "Epoch 47/100\n",
      "\u001b[1m31/31\u001b[0m \u001b[32m━━━━━━━━━━━━━━━━━━━━\u001b[0m\u001b[37m\u001b[0m \u001b[1m1s\u001b[0m 19ms/step - accuracy: 0.9846 - loss: 0.3119 - val_accuracy: 0.6340 - val_loss: 2.2906\n",
      "Epoch 48/100\n",
      "\u001b[1m31/31\u001b[0m \u001b[32m━━━━━━━━━━━━━━━━━━━━\u001b[0m\u001b[37m\u001b[0m \u001b[1m1s\u001b[0m 19ms/step - accuracy: 0.9816 - loss: 0.3186 - val_accuracy: 0.6209 - val_loss: 2.0029\n",
      "Epoch 49/100\n",
      "\u001b[1m31/31\u001b[0m \u001b[32m━━━━━━━━━━━━━━━━━━━━\u001b[0m\u001b[37m\u001b[0m \u001b[1m1s\u001b[0m 17ms/step - accuracy: 0.9679 - loss: 0.3531 - val_accuracy: 0.5817 - val_loss: 1.9063\n",
      "Epoch 50/100\n",
      "\u001b[1m31/31\u001b[0m \u001b[32m━━━━━━━━━━━━━━━━━━━━\u001b[0m\u001b[37m\u001b[0m \u001b[1m1s\u001b[0m 16ms/step - accuracy: 0.9811 - loss: 0.3277 - val_accuracy: 0.5686 - val_loss: 2.2216\n",
      "Epoch 51/100\n",
      "\u001b[1m31/31\u001b[0m \u001b[32m━━━━━━━━━━━━━━━━━━━━\u001b[0m\u001b[37m\u001b[0m \u001b[1m1s\u001b[0m 17ms/step - accuracy: 0.9715 - loss: 0.3424 - val_accuracy: 0.5948 - val_loss: 2.2797\n",
      "Epoch 52/100\n",
      "\u001b[1m31/31\u001b[0m \u001b[32m━━━━━━━━━━━━━━━━━━━━\u001b[0m\u001b[37m\u001b[0m \u001b[1m1s\u001b[0m 21ms/step - accuracy: 0.9809 - loss: 0.3161 - val_accuracy: 0.5882 - val_loss: 2.2813\n",
      "Epoch 53/100\n",
      "\u001b[1m31/31\u001b[0m \u001b[32m━━━━━━━━━━━━━━━━━━━━\u001b[0m\u001b[37m\u001b[0m \u001b[1m1s\u001b[0m 18ms/step - accuracy: 0.9826 - loss: 0.3303 - val_accuracy: 0.5817 - val_loss: 2.3884\n",
      "Epoch 54/100\n",
      "\u001b[1m31/31\u001b[0m \u001b[32m━━━━━━━━━━━━━━━━━━━━\u001b[0m\u001b[37m\u001b[0m \u001b[1m1s\u001b[0m 18ms/step - accuracy: 0.9815 - loss: 0.3288 - val_accuracy: 0.5948 - val_loss: 2.0197\n",
      "Epoch 55/100\n",
      "\u001b[1m31/31\u001b[0m \u001b[32m━━━━━━━━━━━━━━━━━━━━\u001b[0m\u001b[37m\u001b[0m \u001b[1m1s\u001b[0m 18ms/step - accuracy: 0.9810 - loss: 0.3147 - val_accuracy: 0.5752 - val_loss: 1.9438\n",
      "Epoch 56/100\n",
      "\u001b[1m31/31\u001b[0m \u001b[32m━━━━━━━━━━━━━━━━━━━━\u001b[0m\u001b[37m\u001b[0m \u001b[1m1s\u001b[0m 20ms/step - accuracy: 0.9861 - loss: 0.2957 - val_accuracy: 0.5752 - val_loss: 2.2176\n",
      "Epoch 57/100\n",
      "\u001b[1m31/31\u001b[0m \u001b[32m━━━━━━━━━━━━━━━━━━━━\u001b[0m\u001b[37m\u001b[0m \u001b[1m1s\u001b[0m 19ms/step - accuracy: 0.9816 - loss: 0.3176 - val_accuracy: 0.5556 - val_loss: 2.2568\n",
      "Epoch 58/100\n",
      "\u001b[1m31/31\u001b[0m \u001b[32m━━━━━━━━━━━━━━━━━━━━\u001b[0m\u001b[37m\u001b[0m \u001b[1m1s\u001b[0m 18ms/step - accuracy: 0.9863 - loss: 0.3061 - val_accuracy: 0.5817 - val_loss: 2.2838\n",
      "Epoch 59/100\n",
      "\u001b[1m31/31\u001b[0m \u001b[32m━━━━━━━━━━━━━━━━━━━━\u001b[0m\u001b[37m\u001b[0m \u001b[1m1s\u001b[0m 18ms/step - accuracy: 0.9701 - loss: 0.3353 - val_accuracy: 0.5621 - val_loss: 2.1106\n",
      "Epoch 60/100\n",
      "\u001b[1m31/31\u001b[0m \u001b[32m━━━━━━━━━━━━━━━━━━━━\u001b[0m\u001b[37m\u001b[0m \u001b[1m1s\u001b[0m 18ms/step - accuracy: 0.9794 - loss: 0.3156 - val_accuracy: 0.5882 - val_loss: 2.1961\n",
      "Epoch 61/100\n",
      "\u001b[1m31/31\u001b[0m \u001b[32m━━━━━━━━━━━━━━━━━━━━\u001b[0m\u001b[37m\u001b[0m \u001b[1m1s\u001b[0m 17ms/step - accuracy: 0.9788 - loss: 0.3016 - val_accuracy: 0.6078 - val_loss: 1.9771\n",
      "Epoch 62/100\n",
      "\u001b[1m31/31\u001b[0m \u001b[32m━━━━━━━━━━━━━━━━━━━━\u001b[0m\u001b[37m\u001b[0m \u001b[1m1s\u001b[0m 19ms/step - accuracy: 0.9807 - loss: 0.3706 - val_accuracy: 0.5817 - val_loss: 2.1597\n",
      "Epoch 63/100\n",
      "\u001b[1m31/31\u001b[0m \u001b[32m━━━━━━━━━━━━━━━━━━━━\u001b[0m\u001b[37m\u001b[0m \u001b[1m1s\u001b[0m 18ms/step - accuracy: 0.9799 - loss: 0.3368 - val_accuracy: 0.5817 - val_loss: 1.9523\n",
      "Epoch 64/100\n",
      "\u001b[1m31/31\u001b[0m \u001b[32m━━━━━━━━━━━━━━━━━━━━\u001b[0m\u001b[37m\u001b[0m \u001b[1m1s\u001b[0m 19ms/step - accuracy: 0.9869 - loss: 0.2966 - val_accuracy: 0.5686 - val_loss: 1.8567\n",
      "Epoch 65/100\n",
      "\u001b[1m31/31\u001b[0m \u001b[32m━━━━━━━━━━━━━━━━━━━━\u001b[0m\u001b[37m\u001b[0m \u001b[1m1s\u001b[0m 17ms/step - accuracy: 0.9802 - loss: 0.3011 - val_accuracy: 0.5686 - val_loss: 2.2673\n",
      "Epoch 66/100\n",
      "\u001b[1m31/31\u001b[0m \u001b[32m━━━━━━━━━━━━━━━━━━━━\u001b[0m\u001b[37m\u001b[0m \u001b[1m1s\u001b[0m 19ms/step - accuracy: 0.9815 - loss: 0.2938 - val_accuracy: 0.5686 - val_loss: 2.2564\n",
      "Epoch 67/100\n",
      "\u001b[1m31/31\u001b[0m \u001b[32m━━━━━━━━━━━━━━━━━━━━\u001b[0m\u001b[37m\u001b[0m \u001b[1m1s\u001b[0m 18ms/step - accuracy: 0.9858 - loss: 0.3000 - val_accuracy: 0.5882 - val_loss: 2.2730\n",
      "Epoch 68/100\n",
      "\u001b[1m31/31\u001b[0m \u001b[32m━━━━━━━━━━━━━━━━━━━━\u001b[0m\u001b[37m\u001b[0m \u001b[1m1s\u001b[0m 21ms/step - accuracy: 0.9843 - loss: 0.3315 - val_accuracy: 0.5948 - val_loss: 2.2916\n",
      "Epoch 69/100\n",
      "\u001b[1m31/31\u001b[0m \u001b[32m━━━━━━━━━━━━━━━━━━━━\u001b[0m\u001b[37m\u001b[0m \u001b[1m1s\u001b[0m 20ms/step - accuracy: 0.9760 - loss: 0.3181 - val_accuracy: 0.6013 - val_loss: 1.9794\n",
      "Epoch 70/100\n",
      "\u001b[1m31/31\u001b[0m \u001b[32m━━━━━━━━━━━━━━━━━━━━\u001b[0m\u001b[37m\u001b[0m \u001b[1m1s\u001b[0m 22ms/step - accuracy: 0.9753 - loss: 0.2919 - val_accuracy: 0.5948 - val_loss: 1.9103\n",
      "Epoch 71/100\n",
      "\u001b[1m31/31\u001b[0m \u001b[32m━━━━━━━━━━━━━━━━━━━━\u001b[0m\u001b[37m\u001b[0m \u001b[1m1s\u001b[0m 19ms/step - accuracy: 0.9768 - loss: 0.3072 - val_accuracy: 0.5948 - val_loss: 2.2398\n",
      "Epoch 72/100\n",
      "\u001b[1m31/31\u001b[0m \u001b[32m━━━━━━━━━━━━━━━━━━━━\u001b[0m\u001b[37m\u001b[0m \u001b[1m1s\u001b[0m 19ms/step - accuracy: 0.9857 - loss: 0.2784 - val_accuracy: 0.6078 - val_loss: 2.2092\n",
      "Epoch 73/100\n",
      "\u001b[1m31/31\u001b[0m \u001b[32m━━━━━━━━━━━━━━━━━━━━\u001b[0m\u001b[37m\u001b[0m \u001b[1m1s\u001b[0m 19ms/step - accuracy: 0.9830 - loss: 0.2962 - val_accuracy: 0.5948 - val_loss: 2.2393\n",
      "Epoch 74/100\n",
      "\u001b[1m31/31\u001b[0m \u001b[32m━━━━━━━━━━━━━━━━━━━━\u001b[0m\u001b[37m\u001b[0m \u001b[1m1s\u001b[0m 17ms/step - accuracy: 0.9677 - loss: 0.3264 - val_accuracy: 0.6340 - val_loss: 2.2752\n",
      "Epoch 75/100\n",
      "\u001b[1m31/31\u001b[0m \u001b[32m━━━━━━━━━━━━━━━━━━━━\u001b[0m\u001b[37m\u001b[0m \u001b[1m1s\u001b[0m 18ms/step - accuracy: 0.9777 - loss: 0.3055 - val_accuracy: 0.6144 - val_loss: 2.3016\n",
      "Epoch 76/100\n",
      "\u001b[1m31/31\u001b[0m \u001b[32m━━━━━━━━━━━━━━━━━━━━\u001b[0m\u001b[37m\u001b[0m \u001b[1m1s\u001b[0m 20ms/step - accuracy: 0.9838 - loss: 0.2842 - val_accuracy: 0.6209 - val_loss: 2.2929\n",
      "Epoch 77/100\n",
      "\u001b[1m31/31\u001b[0m \u001b[32m━━━━━━━━━━━━━━━━━━━━\u001b[0m\u001b[37m\u001b[0m \u001b[1m1s\u001b[0m 18ms/step - accuracy: 0.9780 - loss: 0.3021 - val_accuracy: 0.6144 - val_loss: 2.2261\n",
      "Epoch 78/100\n",
      "\u001b[1m31/31\u001b[0m \u001b[32m━━━━━━━━━━━━━━━━━━━━\u001b[0m\u001b[37m\u001b[0m \u001b[1m1s\u001b[0m 18ms/step - accuracy: 0.9809 - loss: 0.2979 - val_accuracy: 0.6013 - val_loss: 2.3750\n",
      "Epoch 79/100\n",
      "\u001b[1m31/31\u001b[0m \u001b[32m━━━━━━━━━━━━━━━━━━━━\u001b[0m\u001b[37m\u001b[0m \u001b[1m1s\u001b[0m 20ms/step - accuracy: 0.9837 - loss: 0.2809 - val_accuracy: 0.6013 - val_loss: 2.5824\n",
      "Epoch 80/100\n",
      "\u001b[1m31/31\u001b[0m \u001b[32m━━━━━━━━━━━━━━━━━━━━\u001b[0m\u001b[37m\u001b[0m \u001b[1m1s\u001b[0m 19ms/step - accuracy: 0.9842 - loss: 0.2828 - val_accuracy: 0.6013 - val_loss: 2.4598\n",
      "Epoch 81/100\n",
      "\u001b[1m31/31\u001b[0m \u001b[32m━━━━━━━━━━━━━━━━━━━━\u001b[0m\u001b[37m\u001b[0m \u001b[1m1s\u001b[0m 19ms/step - accuracy: 0.9852 - loss: 0.2838 - val_accuracy: 0.6144 - val_loss: 2.2908\n",
      "Epoch 82/100\n",
      "\u001b[1m31/31\u001b[0m \u001b[32m━━━━━━━━━━━━━━━━━━━━\u001b[0m\u001b[37m\u001b[0m \u001b[1m1s\u001b[0m 18ms/step - accuracy: 0.9863 - loss: 0.2901 - val_accuracy: 0.6340 - val_loss: 1.7738\n",
      "Epoch 83/100\n",
      "\u001b[1m31/31\u001b[0m \u001b[32m━━━━━━━━━━━━━━━━━━━━\u001b[0m\u001b[37m\u001b[0m \u001b[1m1s\u001b[0m 18ms/step - accuracy: 0.9902 - loss: 0.2835 - val_accuracy: 0.6340 - val_loss: 1.9756\n",
      "Epoch 84/100\n",
      "\u001b[1m31/31\u001b[0m \u001b[32m━━━━━━━━━━━━━━━━━━━━\u001b[0m\u001b[37m\u001b[0m \u001b[1m1s\u001b[0m 19ms/step - accuracy: 0.9842 - loss: 0.2732 - val_accuracy: 0.6340 - val_loss: 2.0919\n",
      "Epoch 85/100\n",
      "\u001b[1m31/31\u001b[0m \u001b[32m━━━━━━━━━━━━━━━━━━━━\u001b[0m\u001b[37m\u001b[0m \u001b[1m1s\u001b[0m 19ms/step - accuracy: 0.9818 - loss: 0.2964 - val_accuracy: 0.6013 - val_loss: 2.5662\n",
      "Epoch 86/100\n",
      "\u001b[1m31/31\u001b[0m \u001b[32m━━━━━━━━━━━━━━━━━━━━\u001b[0m\u001b[37m\u001b[0m \u001b[1m1s\u001b[0m 18ms/step - accuracy: 0.9843 - loss: 0.2728 - val_accuracy: 0.6209 - val_loss: 2.0496\n",
      "Epoch 87/100\n",
      "\u001b[1m31/31\u001b[0m \u001b[32m━━━━━━━━━━━━━━━━━━━━\u001b[0m\u001b[37m\u001b[0m \u001b[1m1s\u001b[0m 18ms/step - accuracy: 0.9778 - loss: 0.2919 - val_accuracy: 0.6209 - val_loss: 2.7351\n",
      "Epoch 88/100\n",
      "\u001b[1m31/31\u001b[0m \u001b[32m━━━━━━━━━━━━━━━━━━━━\u001b[0m\u001b[37m\u001b[0m \u001b[1m1s\u001b[0m 20ms/step - accuracy: 0.9735 - loss: 0.3352 - val_accuracy: 0.6340 - val_loss: 1.9139\n",
      "Epoch 89/100\n",
      "\u001b[1m31/31\u001b[0m \u001b[32m━━━━━━━━━━━━━━━━━━━━\u001b[0m\u001b[37m\u001b[0m \u001b[1m1s\u001b[0m 18ms/step - accuracy: 0.9792 - loss: 0.2838 - val_accuracy: 0.5948 - val_loss: 2.1546\n",
      "Epoch 90/100\n",
      "\u001b[1m31/31\u001b[0m \u001b[32m━━━━━━━━━━━━━━━━━━━━\u001b[0m\u001b[37m\u001b[0m \u001b[1m1s\u001b[0m 19ms/step - accuracy: 0.9776 - loss: 0.2892 - val_accuracy: 0.5948 - val_loss: 2.4153\n",
      "Epoch 91/100\n",
      "\u001b[1m31/31\u001b[0m \u001b[32m━━━━━━━━━━━━━━━━━━━━\u001b[0m\u001b[37m\u001b[0m \u001b[1m1s\u001b[0m 20ms/step - accuracy: 0.9799 - loss: 0.3044 - val_accuracy: 0.6209 - val_loss: 1.9774\n",
      "Epoch 92/100\n",
      "\u001b[1m31/31\u001b[0m \u001b[32m━━━━━━━━━━━━━━━━━━━━\u001b[0m\u001b[37m\u001b[0m \u001b[1m1s\u001b[0m 18ms/step - accuracy: 0.9639 - loss: 0.3485 - val_accuracy: 0.6275 - val_loss: 2.0162\n",
      "Epoch 93/100\n",
      "\u001b[1m31/31\u001b[0m \u001b[32m━━━━━━━━━━━━━━━━━━━━\u001b[0m\u001b[37m\u001b[0m \u001b[1m1s\u001b[0m 17ms/step - accuracy: 0.9829 - loss: 0.2730 - val_accuracy: 0.6144 - val_loss: 2.5560\n",
      "Epoch 94/100\n",
      "\u001b[1m31/31\u001b[0m \u001b[32m━━━━━━━━━━━━━━━━━━━━\u001b[0m\u001b[37m\u001b[0m \u001b[1m1s\u001b[0m 22ms/step - accuracy: 0.9859 - loss: 0.2900 - val_accuracy: 0.6340 - val_loss: 2.2326\n",
      "Epoch 95/100\n",
      "\u001b[1m31/31\u001b[0m \u001b[32m━━━━━━━━━━━━━━━━━━━━\u001b[0m\u001b[37m\u001b[0m \u001b[1m1s\u001b[0m 21ms/step - accuracy: 0.9808 - loss: 0.2953 - val_accuracy: 0.6471 - val_loss: 2.0805\n",
      "Epoch 96/100\n",
      "\u001b[1m31/31\u001b[0m \u001b[32m━━━━━━━━━━━━━━━━━━━━\u001b[0m\u001b[37m\u001b[0m \u001b[1m1s\u001b[0m 21ms/step - accuracy: 0.9840 - loss: 0.2858 - val_accuracy: 0.6275 - val_loss: 1.8808\n",
      "Epoch 97/100\n",
      "\u001b[1m31/31\u001b[0m \u001b[32m━━━━━━━━━━━━━━━━━━━━\u001b[0m\u001b[37m\u001b[0m \u001b[1m1s\u001b[0m 19ms/step - accuracy: 0.9883 - loss: 0.2700 - val_accuracy: 0.6078 - val_loss: 2.0983\n",
      "Epoch 98/100\n",
      "\u001b[1m31/31\u001b[0m \u001b[32m━━━━━━━━━━━━━━━━━━━━\u001b[0m\u001b[37m\u001b[0m \u001b[1m1s\u001b[0m 19ms/step - accuracy: 0.9861 - loss: 0.2745 - val_accuracy: 0.6144 - val_loss: 2.2719\n",
      "Epoch 99/100\n",
      "\u001b[1m31/31\u001b[0m \u001b[32m━━━━━━━━━━━━━━━━━━━━\u001b[0m\u001b[37m\u001b[0m \u001b[1m1s\u001b[0m 20ms/step - accuracy: 0.9823 - loss: 0.2857 - val_accuracy: 0.6144 - val_loss: 2.3849\n",
      "Epoch 100/100\n",
      "\u001b[1m31/31\u001b[0m \u001b[32m━━━━━━━━━━━━━━━━━━━━\u001b[0m\u001b[37m\u001b[0m \u001b[1m1s\u001b[0m 18ms/step - accuracy: 0.9859 - loss: 0.2679 - val_accuracy: 0.5948 - val_loss: 2.2828\n"
     ]
    }
   ],
   "source": [
    "# Train the model with the best hyperparameters\n",
    "model = tuner.hypermodel.build(best_hps)\n",
    "\n",
    "history = model.fit(X_train, y_train, validation_data=(X_val, y_val), epochs=best_epoch, batch_size=best_batch_size)"
   ]
  },
  {
   "cell_type": "markdown",
   "metadata": {},
   "source": [
    "### Running experiments"
   ]
  },
  {
   "cell_type": "markdown",
   "metadata": {},
   "source": [
    "- First running without SMOTE\n",
    "    Epochs 20\n",
    "    batch size 32\n",
    "    Features Note Pitch and Chords (No Tempo)\n",
    "    Zero padding to 1000"
   ]
  },
  {
   "cell_type": "code",
   "execution_count": 257,
   "metadata": {},
   "outputs": [
    {
     "name": "stdout",
     "output_type": "stream",
     "text": [
      "5/5 - 0s - 6ms/step - accuracy: 0.6209 - loss: 2.7548\n",
      "Test accuracy: 0.6209150552749634\n"
     ]
    }
   ],
   "source": [
    "test_loss, test_acc = model.evaluate(X_test, y_test, verbose=2)\n",
    "print(f'Test accuracy: {test_acc}')"
   ]
  },
  {
   "cell_type": "code",
   "execution_count": 258,
   "metadata": {},
   "outputs": [
    {
     "name": "stdout",
     "output_type": "stream",
     "text": [
      "\u001b[1m1/5\u001b[0m \u001b[32m━━━━\u001b[0m\u001b[37m━━━━━━━━━━━━━━━━\u001b[0m \u001b[1m0s\u001b[0m 40ms/stepWARNING:tensorflow:5 out of the last 16 calls to <function TensorFlowTrainer.make_predict_function.<locals>.one_step_on_data_distributed at 0x71eeb7560> triggered tf.function retracing. Tracing is expensive and the excessive number of tracings could be due to (1) creating @tf.function repeatedly in a loop, (2) passing tensors with different shapes, (3) passing Python objects instead of tensors. For (1), please define your @tf.function outside of the loop. For (2), @tf.function has reduce_retracing=True option that can avoid unnecessary retracing. For (3), please refer to https://www.tensorflow.org/guide/function#controlling_retracing and https://www.tensorflow.org/api_docs/python/tf/function for  more details.\n",
      "\u001b[1m5/5\u001b[0m \u001b[32m━━━━━━━━━━━━━━━━━━━━\u001b[0m\u001b[37m\u001b[0m \u001b[1m0s\u001b[0m 9ms/step \n",
      "              precision    recall  f1-score   support\n",
      "\n",
      "        Bach       0.75      0.87      0.80        87\n",
      "   Beethoven       0.42      0.44      0.43        25\n",
      "      Chopin       0.17      0.10      0.12        10\n",
      "      Mozart       0.37      0.23      0.28        31\n",
      "\n",
      "    accuracy                           0.62       153\n",
      "   macro avg       0.43      0.41      0.41       153\n",
      "weighted avg       0.58      0.62      0.59       153\n",
      "\n"
     ]
    }
   ],
   "source": [
    "y_pred = model.predict(X_test)\n",
    "y_pred_classes = np.argmax(y_pred, axis=1)\n",
    "y_true = np.argmax(y_test, axis=1)\n",
    "\n",
    "print(classification_report(y_true, y_pred_classes, target_names=label_encoder.classes_))"
   ]
  },
  {
   "cell_type": "code",
   "execution_count": 259,
   "metadata": {},
   "outputs": [
    {
     "data": {
      "image/png": "[encoded data removed]",
      "text/plain": [
       "<Figure size 1200x400 with 2 Axes>"
      ]
     },
     "metadata": {
      "image/png": {
       "height": 392,
       "width": 1001
      }
     },
     "output_type": "display_data"
    }
   ],
   "source": [
    "import matplotlib.pyplot as plt\n",
    "\n",
    "# Plotting the training and validation accuracy\n",
    "plt.figure(figsize=(12, 4))\n",
    "\n",
    "# Accuracy plot\n",
    "plt.subplot(1, 2, 1)\n",
    "plt.plot(history.history['accuracy'], label='Training Accuracy')\n",
    "plt.plot(history.history['val_accuracy'], label='Validation Accuracy')\n",
    "plt.title('Training and Validation Accuracy')\n",
    "plt.xlabel('Epochs')\n",
    "plt.ylabel('Accuracy')\n",
    "plt.legend()\n",
    "\n",
    "# Loss plot\n",
    "plt.subplot(1, 2, 2)\n",
    "plt.plot(history.history['loss'], label='Training Loss')\n",
    "plt.plot(history.history['val_loss'], label='Validation Loss')\n",
    "plt.title('Training and Validation Loss')\n",
    "plt.xlabel('Epochs')\n",
    "plt.ylabel('Loss')\n",
    "plt.legend()\n",
    "\n",
    "# Show the plots\n",
    "plt.show()\n"
   ]
  },
  {
   "cell_type": "markdown",
   "metadata": {},
   "source": [
    "```The hyperparameter search is complete. \n",
    "Parameters:\n",
    "Filters: 128 and 192\n",
    "Dense Units: 64\n",
    "Dropout: 0.3, 0.3, 0.4\n",
    "Regularization: 0.001\n",
    "Optimizer: adam\n",
    "Activation: relu\n",
    "Batch Size: 32\n",
    "Epoch: 25\n",
    "\n",
    "20/20 - 0s - loss: 0.9036 - accuracy: 0.6095 - 245ms/epoch - 12ms/step\n",
    "Test accuracy: 0.6094771027565002\n"
   ]
  },
  {
   "cell_type": "markdown",
   "metadata": {},
   "source": []
  },
  {
   "cell_type": "markdown",
   "metadata": {},
   "source": [
    "- Then running with SMOTE"
   ]
  },
  {
   "cell_type": "markdown",
   "metadata": {},
   "source": [
    "```The hyperparameter search is complete. \n",
    "Best parameters:\n",
    "Filters: 192 and 128\n",
    "Dense Units: 128\n",
    "Dropout: 0.4, 0.4, 0.3\n",
    "Regularization: 0.001\n",
    "Activation: tanh\n",
    "Batch Size: 48\n",
    "Epoch: 30\n",
    "\n",
    "\n",
    "5/5 - 0s - loss: 1.5005 - accuracy: 0.6667 - 94ms/epoch - 19ms/step\n",
    "Test accuracy: 0.6666666865348816"
   ]
  },
  {
   "cell_type": "markdown",
   "metadata": {},
   "source": [
    "* Adding Tempo to the features"
   ]
  },
  {
   "cell_type": "markdown",
   "metadata": {},
   "source": [
    "Looking with new features and first + last notes:\n",
    "\n",
    "```The hyperparameter search is complete. \n",
    "Best parameters:\n",
    "Filters: 192 and 128\n",
    "Dense Units: 64\n",
    "Dropout: 0.4, 0.3, 0.3\n",
    "Regularization: 0.0001\n",
    "Activation: tanh\n",
    "Batch Size: 48\n",
    "Epoch: 100\n",
    "\n",
    "Test accuracy: 0.647826075553894\n"
   ]
  },
  {
   "cell_type": "markdown",
   "metadata": {},
   "source": [
    "## new\n",
    "max tokens 500\n",
    "\n",
    "```\n",
    "The hyperparameter search is complete. \n",
    "Best parameters:\n",
    "Filters: 64 and 64\n",
    "Dense Units: 128\n",
    "Dropout: 0.4, 0.3, 0.3\n",
    "Regularization: 0.001\n",
    "Activation: relu\n",
    "Batch Size: 32\n",
    "Epoch: 30\n",
    "\n",
    "Test accuracy: 0.6209150552749634\n"
   ]
  },
  {
   "cell_type": "markdown",
   "metadata": {},
   "source": [
    "* New with smote 500 tokens\n",
    "\n",
    "```The hyperparameter search is complete. \n",
    "Best parameters:\n",
    "Filters: 64 and 192\n",
    "Dense Units: 256\n",
    "Dropout: 0.4, 0.3, 0.5\n",
    "Regularization: 0.0001\n",
    "Activation: relu\n",
    "Batch Size: 24\n",
    "Epoch: 100\n",
    "\n",
    "Test accuracy: 0.6601307392120361"
   ]
  },
  {
   "cell_type": "markdown",
   "metadata": {},
   "source": [
    "* New smote 200 tokens\n",
    "\n",
    "```The hyperparameter search is complete. \n",
    "Best parameters:\n",
    "Filters: 128 and 128\n",
    "Dense Units: 64\n",
    "Dropout: 0.3, 0.3, 0.5\n",
    "Regularization: 0.0001\n",
    "Activation: tanh\n",
    "Batch Size: 24\n",
    "Epoch: 15\n",
    "Test accuracy: 0.6535947918891907\n"
   ]
  }
 ],
 "metadata": {
  "kernelspec": {
   "display_name": "Python 3 (ipykernel)",
   "language": "python",
   "name": "python3"
  },
  "language_info": {
   "codemirror_mode": {
    "name": "ipython",
    "version": 3
   },
   "file_extension": ".py",
   "mimetype": "text/x-python",
   "name": "python",
   "nbconvert_exporter": "python",
   "pygments_lexer": "ipython3",
   "version": "3.12.4"
  }
 },
 "nbformat": 4,
 "nbformat_minor": 4
}
