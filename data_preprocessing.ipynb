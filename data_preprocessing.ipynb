{
 "cells": [
  {
   "cell_type": "code",
   "execution_count": 16,
   "metadata": {},
   "outputs": [
    {
     "name": "stdout",
     "output_type": "stream",
     "text": [
      "Requirement already satisfied: music21 in /Users/I523193/anaconda3/lib/python3.11/site-packages (9.1.0)\n",
      "Requirement already satisfied: chardet in /Users/I523193/anaconda3/lib/python3.11/site-packages (from music21) (4.0.0)\n",
      "Requirement already satisfied: joblib in /Users/I523193/anaconda3/lib/python3.11/site-packages (from music21) (1.2.0)\n",
      "Requirement already satisfied: jsonpickle in /Users/I523193/anaconda3/lib/python3.11/site-packages (from music21) (3.2.2)\n",
      "Requirement already satisfied: matplotlib in /Users/I523193/anaconda3/lib/python3.11/site-packages (from music21) (3.7.1)\n",
      "Requirement already satisfied: more-itertools in /Users/I523193/anaconda3/lib/python3.11/site-packages (from music21) (8.12.0)\n",
      "Requirement already satisfied: numpy in /Users/I523193/anaconda3/lib/python3.11/site-packages (from music21) (1.24.3)\n",
      "Requirement already satisfied: requests in /Users/I523193/anaconda3/lib/python3.11/site-packages (from music21) (2.31.0)\n",
      "Requirement already satisfied: webcolors>=1.5 in /Users/I523193/anaconda3/lib/python3.11/site-packages (from music21) (1.13)\n",
      "Requirement already satisfied: contourpy>=1.0.1 in /Users/I523193/anaconda3/lib/python3.11/site-packages (from matplotlib->music21) (1.0.5)\n",
      "Requirement already satisfied: cycler>=0.10 in /Users/I523193/anaconda3/lib/python3.11/site-packages (from matplotlib->music21) (0.11.0)\n",
      "Requirement already satisfied: fonttools>=4.22.0 in /Users/I523193/anaconda3/lib/python3.11/site-packages (from matplotlib->music21) (4.25.0)\n",
      "Requirement already satisfied: kiwisolver>=1.0.1 in /Users/I523193/anaconda3/lib/python3.11/site-packages (from matplotlib->music21) (1.4.4)\n",
      "Requirement already satisfied: packaging>=20.0 in /Users/I523193/anaconda3/lib/python3.11/site-packages (from matplotlib->music21) (23.0)\n",
      "Requirement already satisfied: pillow>=6.2.0 in /Users/I523193/anaconda3/lib/python3.11/site-packages (from matplotlib->music21) (9.4.0)\n",
      "Requirement already satisfied: pyparsing>=2.3.1 in /Users/I523193/anaconda3/lib/python3.11/site-packages (from matplotlib->music21) (3.0.9)\n",
      "Requirement already satisfied: python-dateutil>=2.7 in /Users/I523193/anaconda3/lib/python3.11/site-packages (from matplotlib->music21) (2.8.2)\n",
      "Requirement already satisfied: charset-normalizer<4,>=2 in /Users/I523193/anaconda3/lib/python3.11/site-packages (from requests->music21) (2.0.4)\n",
      "Requirement already satisfied: idna<4,>=2.5 in /Users/I523193/anaconda3/lib/python3.11/site-packages (from requests->music21) (3.4)\n",
      "Requirement already satisfied: urllib3<3,>=1.21.1 in /Users/I523193/anaconda3/lib/python3.11/site-packages (from requests->music21) (1.26.16)\n",
      "Requirement already satisfied: certifi>=2017.4.17 in /Users/I523193/anaconda3/lib/python3.11/site-packages (from requests->music21) (2023.7.22)\n",
      "Requirement already satisfied: six>=1.5 in /Users/I523193/anaconda3/lib/python3.11/site-packages (from python-dateutil>=2.7->matplotlib->music21) (1.16.0)\n",
      "Note: you may need to restart the kernel to use updated packages.\n",
      "Collecting pretty_midi\n",
      "  Downloading pretty_midi-0.2.10.tar.gz (5.6 MB)\n",
      "\u001b[2K     \u001b[90m━━━━━━━━━━━━━━━━━━━━━━━━━━━━━━━━━━━━━━━━\u001b[0m \u001b[32m5.6/5.6 MB\u001b[0m \u001b[31m32.8 MB/s\u001b[0m eta \u001b[36m0:00:00\u001b[0ma \u001b[36m0:00:01\u001b[0m\n",
      "\u001b[?25h  Preparing metadata (setup.py) ... \u001b[?25ldone\n",
      "\u001b[?25hRequirement already satisfied: numpy>=1.7.0 in /Users/I523193/anaconda3/lib/python3.11/site-packages (from pretty_midi) (1.24.3)\n",
      "Collecting mido>=1.1.16 (from pretty_midi)\n",
      "  Obtaining dependency information for mido>=1.1.16 from https://files.pythonhosted.org/packages/39/2c/df005c4b310dde2c834431032139bf2c3924f81798013feb052d1afd543b/mido-1.3.2-py3-none-any.whl.metadata\n",
      "  Downloading mido-1.3.2-py3-none-any.whl.metadata (6.4 kB)\n",
      "Requirement already satisfied: six in /Users/I523193/anaconda3/lib/python3.11/site-packages (from pretty_midi) (1.16.0)\n",
      "Collecting packaging~=23.1 (from mido>=1.1.16->pretty_midi)\n",
      "  Obtaining dependency information for packaging~=23.1 from https://files.pythonhosted.org/packages/ec/1a/610693ac4ee14fcdf2d9bf3c493370e4f2ef7ae2e19217d7a237ff42367d/packaging-23.2-py3-none-any.whl.metadata\n",
      "  Downloading packaging-23.2-py3-none-any.whl.metadata (3.2 kB)\n",
      "Downloading mido-1.3.2-py3-none-any.whl (54 kB)\n",
      "\u001b[2K   \u001b[90m━━━━━━━━━━━━━━━━━━━━━━━━━━━━━━━━━━━━━━━━\u001b[0m \u001b[32m54.6/54.6 kB\u001b[0m \u001b[31m3.8 MB/s\u001b[0m eta \u001b[36m0:00:00\u001b[0m\n",
      "\u001b[?25hDownloading packaging-23.2-py3-none-any.whl (53 kB)\n",
      "\u001b[2K   \u001b[90m━━━━━━━━━━━━━━━━━━━━━━━━━━━━━━━━━━━━━━━━\u001b[0m \u001b[32m53.0/53.0 kB\u001b[0m \u001b[31m5.1 MB/s\u001b[0m eta \u001b[36m0:00:00\u001b[0m\n",
      "\u001b[?25hBuilding wheels for collected packages: pretty_midi\n",
      "  Building wheel for pretty_midi (setup.py) ... \u001b[?25ldone\n",
      "\u001b[?25h  Created wheel for pretty_midi: filename=pretty_midi-0.2.10-py3-none-any.whl size=5592288 sha256=40b43b1ddd80a42ae0f338570e4039e11f000f7f4e45e866ab638d6dfbf15bfd\n",
      "  Stored in directory: /Users/I523193/Library/Caches/pip/wheels/e6/95/ac/15ceaeb2823b04d8e638fd1495357adb8d26c00ccac9d7782e\n",
      "Successfully built pretty_midi\n",
      "Installing collected packages: packaging, mido, pretty_midi\n",
      "  Attempting uninstall: packaging\n",
      "    Found existing installation: packaging 23.0\n",
      "    Uninstalling packaging-23.0:\n",
      "      Successfully uninstalled packaging-23.0\n",
      "\u001b[31mERROR: pip's dependency resolver does not currently take into account all the packages that are installed. This behaviour is the source of the following dependency conflicts.\n",
      "tables 3.8.0 requires blosc2~=2.0.0, which is not installed.\n",
      "tables 3.8.0 requires cython>=0.29.21, which is not installed.\n",
      "spyder 5.4.3 requires pyqt5<5.16, which is not installed.\n",
      "spyder 5.4.3 requires pyqtwebengine<5.16, which is not installed.\n",
      "python-lsp-black 1.2.1 requires black>=22.3.0, but you have black 0.0 which is incompatible.\u001b[0m\u001b[31m\n",
      "\u001b[0mSuccessfully installed mido-1.3.2 packaging-23.2 pretty_midi-0.2.10\n",
      "Note: you may need to restart the kernel to use updated packages.\n"
     ]
    }
   ],
   "source": [
    "%pip install pretty_midi"
   ]
  },
  {
   "cell_type": "code",
   "execution_count": 17,
   "metadata": {},
   "outputs": [],
   "source": [
    "from mpl_toolkits.mplot3d import Axes3D\n",
    "from sklearn.preprocessing import StandardScaler\n",
    "import matplotlib.pyplot as plt \n",
    "import numpy as np \n",
    "import os \n",
    "import pandas as pd \n",
    "\n",
    "import pretty_midi"
   ]
  },
  {
   "cell_type": "markdown",
   "metadata": {},
   "source": [
    "## Data preprocessing"
   ]
  },
  {
   "cell_type": "code",
   "execution_count": 40,
   "metadata": {},
   "outputs": [],
   "source": [
    "composer_list = ['Bach', 'Beethoven', 'Chopin', 'Mozart']\n",
    "data = []"
   ]
  },
  {
   "cell_type": "code",
   "execution_count": 41,
   "metadata": {},
   "outputs": [],
   "source": [
    "def midi_to_piano_roll(midi_path):\n",
    "    midi_data = pretty_midi.PrettyMIDI(midi_path)\n",
    "    piano_roll = midi_data.get_piano_roll(fs=100)  # fs is the sampling frequency\n",
    "    return piano_roll"
   ]
  },
  {
   "cell_type": "code",
   "execution_count": 42,
   "metadata": {},
   "outputs": [
    {
     "name": "stdout",
     "output_type": "stream",
     "text": [
      "Error converting ./data/Beethoven/Anhang 14-3.mid to piano roll\n",
      "Error converting ./data/Mozart/Piano Sonatas/Nueva carpeta/K281 Piano Sonata n03 3mov.mid to piano roll\n"
     ]
    }
   ],
   "source": [
    "for composer in composer_list:\n",
    "    for dirname, _, filenames in os.walk(f'./data/{composer}/'):\n",
    "        for filename in filenames:\n",
    "            if filename.endswith('.mid'):\n",
    "                midi_path = os.path.join(dirname, filename)\n",
    "                piano_roll_file = filename.replace('.mid', '.npy')\n",
    "                piano_roll_path = os.path.join(dirname, piano_roll_file)\n",
    "                \n",
    "                # only create piano roll if it doesn't exist\n",
    "                if not os.path.exists(piano_roll_path):\n",
    "                    # Convert to piano roll\n",
    "                    try: \n",
    "                        piano_roll = midi_to_piano_roll(midi_path)\n",
    "                        np.save(piano_roll_path, piano_roll)\n",
    "                    except:\n",
    "                        print(f'Error converting {midi_path} to piano roll')\n",
    "                        piano_roll_path = None \n",
    "\n",
    "                data.append({\n",
    "                    'midi_file': filename,\n",
    "                    'path': dirname,\n",
    "                    'composer': composer,\n",
    "                    'piano_roll_file': piano_roll_file\n",
    "                })\n"
   ]
  },
  {
   "cell_type": "markdown",
   "metadata": {},
   "source": []
  },
  {
   "cell_type": "code",
   "execution_count": 47,
   "metadata": {},
   "outputs": [
    {
     "data": {
      "text/html": [
       "<div>\n",
       "<style scoped>\n",
       "    .dataframe tbody tr th:only-of-type {\n",
       "        vertical-align: middle;\n",
       "    }\n",
       "\n",
       "    .dataframe tbody tr th {\n",
       "        vertical-align: top;\n",
       "    }\n",
       "\n",
       "    .dataframe thead th {\n",
       "        text-align: right;\n",
       "    }\n",
       "</style>\n",
       "<table border=\"1\" class=\"dataframe\">\n",
       "  <thead>\n",
       "    <tr style=\"text-align: right;\">\n",
       "      <th></th>\n",
       "      <th>midi_file</th>\n",
       "      <th>path</th>\n",
       "      <th>composer</th>\n",
       "      <th>piano_roll_file</th>\n",
       "    </tr>\n",
       "  </thead>\n",
       "  <tbody>\n",
       "    <tr>\n",
       "      <th>0</th>\n",
       "      <td>Bwv0997 Partita for Lute 1mov.mid</td>\n",
       "      <td>./data/Bach/</td>\n",
       "      <td>Bach</td>\n",
       "      <td>Bwv0997 Partita for Lute 1mov.npy</td>\n",
       "    </tr>\n",
       "    <tr>\n",
       "      <th>1</th>\n",
       "      <td>Bwv0535 Prelude and Fugue.mid</td>\n",
       "      <td>./data/Bach/</td>\n",
       "      <td>Bach</td>\n",
       "      <td>Bwv0535 Prelude and Fugue.npy</td>\n",
       "    </tr>\n",
       "    <tr>\n",
       "      <th>2</th>\n",
       "      <td>Bwv0806 English Suite n1 05mov.mid</td>\n",
       "      <td>./data/Bach/</td>\n",
       "      <td>Bach</td>\n",
       "      <td>Bwv0806 English Suite n1 05mov.npy</td>\n",
       "    </tr>\n",
       "    <tr>\n",
       "      <th>3</th>\n",
       "      <td>Bwv0998 Prelude Fugue Allegro for Lute 3mov.mid</td>\n",
       "      <td>./data/Bach/</td>\n",
       "      <td>Bach</td>\n",
       "      <td>Bwv0998 Prelude Fugue Allegro for Lute 3mov.npy</td>\n",
       "    </tr>\n",
       "    <tr>\n",
       "      <th>4</th>\n",
       "      <td>Jesu Joy of Man Desiring.mid</td>\n",
       "      <td>./data/Bach/</td>\n",
       "      <td>Bach</td>\n",
       "      <td>Jesu Joy of Man Desiring.npy</td>\n",
       "    </tr>\n",
       "  </tbody>\n",
       "</table>\n",
       "</div>"
      ],
      "text/plain": [
       "                                         midi_file          path composer  \\\n",
       "0                Bwv0997 Partita for Lute 1mov.mid  ./data/Bach/     Bach   \n",
       "1                    Bwv0535 Prelude and Fugue.mid  ./data/Bach/     Bach   \n",
       "2               Bwv0806 English Suite n1 05mov.mid  ./data/Bach/     Bach   \n",
       "3  Bwv0998 Prelude Fugue Allegro for Lute 3mov.mid  ./data/Bach/     Bach   \n",
       "4                     Jesu Joy of Man Desiring.mid  ./data/Bach/     Bach   \n",
       "\n",
       "                                   piano_roll_file  \n",
       "0                Bwv0997 Partita for Lute 1mov.npy  \n",
       "1                    Bwv0535 Prelude and Fugue.npy  \n",
       "2               Bwv0806 English Suite n1 05mov.npy  \n",
       "3  Bwv0998 Prelude Fugue Allegro for Lute 3mov.npy  \n",
       "4                     Jesu Joy of Man Desiring.npy  "
      ]
     },
     "execution_count": 47,
     "metadata": {},
     "output_type": "execute_result"
    }
   ],
   "source": [
    "df = pd.DataFrame(data)\n",
    "df.head()"
   ]
  },
  {
   "cell_type": "code",
   "execution_count": 50,
   "metadata": {},
   "outputs": [
    {
     "name": "stdout",
     "output_type": "stream",
     "text": [
      "(1530, 4)\n",
      "midi_file          0\n",
      "path               0\n",
      "composer           0\n",
      "piano_roll_file    0\n",
      "dtype: int64\n"
     ]
    }
   ],
   "source": [
    "print(df.shape)\n",
    "print(df.isna().sum())"
   ]
  },
  {
   "cell_type": "code",
   "execution_count": 51,
   "metadata": {},
   "outputs": [
    {
     "name": "stdout",
     "output_type": "stream",
     "text": [
      "(1530, 4)\n"
     ]
    }
   ],
   "source": [
    "# Dropping the midi files that could not be converted to piano rolls\n",
    "df.dropna(inplace=True)\n",
    "print(df.shape)"
   ]
  },
  {
   "cell_type": "code",
   "execution_count": 52,
   "metadata": {},
   "outputs": [
    {
     "data": {
      "text/plain": [
       "<Axes: >"
      ]
     },
     "execution_count": 52,
     "metadata": {},
     "output_type": "execute_result"
    },
    {
     "data": {
      "image/png": "[encoded data removed]",
      "text/plain": [
       "<Figure size 640x480 with 1 Axes>"
      ]
     },
     "metadata": {},
     "output_type": "display_data"
    }
   ],
   "source": [
    "df['composer'].value_counts().plot(kind='bar')"
   ]
  },
  {
   "cell_type": "code",
   "execution_count": 53,
   "metadata": {},
   "outputs": [
    {
     "name": "stdout",
     "output_type": "stream",
     "text": [
      "<class 'pandas.core.frame.DataFrame'>\n",
      "RangeIndex: 1530 entries, 0 to 1529\n",
      "Data columns (total 4 columns):\n",
      " #   Column           Non-Null Count  Dtype \n",
      "---  ------           --------------  ----- \n",
      " 0   midi_file        1530 non-null   object\n",
      " 1   path             1530 non-null   object\n",
      " 2   composer         1530 non-null   object\n",
      " 3   piano_roll_file  1530 non-null   object\n",
      "dtypes: object(4)\n",
      "memory usage: 47.9+ KB\n"
     ]
    }
   ],
   "source": [
    "df.info()"
   ]
  },
  {
   "cell_type": "code",
   "execution_count": 56,
   "metadata": {},
   "outputs": [],
   "source": [
    "df.to_csv('./data/preprocessed_data_with_piano_rolls.csv', index=False)"
   ]
  }
 ],
 "metadata": {
  "kernelspec": {
   "display_name": "Python 3 (ipykernel)",
   "language": "python",
   "name": "python3"
  },
  "language_info": {
   "codemirror_mode": {
    "name": "ipython",
    "version": 3
   },
   "file_extension": ".py",
   "mimetype": "text/x-python",
   "name": "python",
   "nbconvert_exporter": "python",
   "pygments_lexer": "ipython3",
   "version": "3.11.4"
  }
 },
 "nbformat": 4,
 "nbformat_minor": 2
}
