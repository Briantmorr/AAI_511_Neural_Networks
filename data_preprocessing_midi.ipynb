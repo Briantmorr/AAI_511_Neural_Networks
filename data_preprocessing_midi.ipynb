{
 "cells": [
  {
   "cell_type": "code",
   "execution_count": 1,
   "metadata": {},
   "outputs": [
    {
     "name": "stdout",
     "output_type": "stream",
     "text": [
      "Requirement already satisfied: music21 in /Users/I523193/anaconda3/lib/python3.11/site-packages (9.1.0)\n",
      "Requirement already satisfied: chardet in /Users/I523193/anaconda3/lib/python3.11/site-packages (from music21) (4.0.0)\n",
      "Requirement already satisfied: joblib in /Users/I523193/anaconda3/lib/python3.11/site-packages (from music21) (1.2.0)\n",
      "Requirement already satisfied: jsonpickle in /Users/I523193/anaconda3/lib/python3.11/site-packages (from music21) (3.2.2)\n",
      "Requirement already satisfied: matplotlib in /Users/I523193/anaconda3/lib/python3.11/site-packages (from music21) (3.7.1)\n",
      "Requirement already satisfied: more-itertools in /Users/I523193/anaconda3/lib/python3.11/site-packages (from music21) (8.12.0)\n",
      "Requirement already satisfied: numpy in /Users/I523193/anaconda3/lib/python3.11/site-packages (from music21) (1.24.3)\n",
      "Requirement already satisfied: requests in /Users/I523193/anaconda3/lib/python3.11/site-packages (from music21) (2.31.0)\n",
      "Requirement already satisfied: webcolors>=1.5 in /Users/I523193/anaconda3/lib/python3.11/site-packages (from music21) (1.13)\n",
      "Requirement already satisfied: contourpy>=1.0.1 in /Users/I523193/anaconda3/lib/python3.11/site-packages (from matplotlib->music21) (1.0.5)\n",
      "Requirement already satisfied: cycler>=0.10 in /Users/I523193/anaconda3/lib/python3.11/site-packages (from matplotlib->music21) (0.11.0)\n",
      "Requirement already satisfied: fonttools>=4.22.0 in /Users/I523193/anaconda3/lib/python3.11/site-packages (from matplotlib->music21) (4.25.0)\n",
      "Requirement already satisfied: kiwisolver>=1.0.1 in /Users/I523193/anaconda3/lib/python3.11/site-packages (from matplotlib->music21) (1.4.4)\n",
      "Requirement already satisfied: packaging>=20.0 in /Users/I523193/anaconda3/lib/python3.11/site-packages (from matplotlib->music21) (23.2)\n",
      "Requirement already satisfied: pillow>=6.2.0 in /Users/I523193/anaconda3/lib/python3.11/site-packages (from matplotlib->music21) (9.4.0)\n",
      "Requirement already satisfied: pyparsing>=2.3.1 in /Users/I523193/anaconda3/lib/python3.11/site-packages (from matplotlib->music21) (3.0.9)\n",
      "Requirement already satisfied: python-dateutil>=2.7 in /Users/I523193/anaconda3/lib/python3.11/site-packages (from matplotlib->music21) (2.8.2)\n",
      "Requirement already satisfied: charset-normalizer<4,>=2 in /Users/I523193/anaconda3/lib/python3.11/site-packages (from requests->music21) (2.0.4)\n",
      "Requirement already satisfied: idna<4,>=2.5 in /Users/I523193/anaconda3/lib/python3.11/site-packages (from requests->music21) (3.4)\n",
      "Requirement already satisfied: urllib3<3,>=1.21.1 in /Users/I523193/anaconda3/lib/python3.11/site-packages (from requests->music21) (1.26.16)\n",
      "Requirement already satisfied: certifi>=2017.4.17 in /Users/I523193/anaconda3/lib/python3.11/site-packages (from requests->music21) (2023.7.22)\n",
      "Requirement already satisfied: six>=1.5 in /Users/I523193/anaconda3/lib/python3.11/site-packages (from python-dateutil>=2.7->matplotlib->music21) (1.16.0)\n",
      "Note: you may need to restart the kernel to use updated packages.\n"
     ]
    }
   ],
   "source": [
    "%pip install music21"
   ]
  },
  {
   "cell_type": "code",
   "execution_count": 2,
   "metadata": {},
   "outputs": [],
   "source": [
    "import numpy as np \n",
    "import os \n",
    "import pandas as pd \n",
    "import music21"
   ]
  },
  {
   "cell_type": "markdown",
   "metadata": {},
   "source": [
    "## Data preprocessing"
   ]
  },
  {
   "cell_type": "code",
   "execution_count": 3,
   "metadata": {},
   "outputs": [],
   "source": [
    "composer_list = ['Bach', 'Beethoven', 'Chopin', 'Mozart']\n",
    "data = []"
   ]
  },
  {
   "cell_type": "code",
   "execution_count": 4,
   "metadata": {},
   "outputs": [],
   "source": [
    "def extract_features(midi_file):\n",
    "    midi = music21.converter.parse(midi_file)\n",
    "    \n",
    "    notes = []\n",
    "    chords = []\n",
    "    tempos = []\n",
    "    \n",
    "    for element in midi.flat.notes:\n",
    "        if isinstance(element, music21.note.Note):\n",
    "            notes.append(str(element.pitch))\n",
    "        elif isinstance(element, music21.chord.Chord):\n",
    "            chords.append('.'.join(str(n) for n in element.normalOrder))\n",
    "    \n",
    "    for tempo in midi.flat.getElementsByClass(music21.tempo.MetronomeMark):\n",
    "        tempos.append(tempo.number)\n",
    "    \n",
    "    return notes, chords, tempos"
   ]
  },
  {
   "cell_type": "code",
   "execution_count": 5,
   "metadata": {},
   "outputs": [],
   "source": [
    "def process_midi_files(df):\n",
    "    data = []\n",
    "\n",
    "    for _, row in df.iterrows():\n",
    "        midi_path = os.path.join(row['path'], row['midi_file'])\n",
    "        notes, chords, tempos = extract_features(midi_path)\n",
    "        data.append({\n",
    "            'filename': row['midi_file'],\n",
    "            'composer': row['composer'],\n",
    "            'notes': notes,\n",
    "            'chords': chords,\n",
    "            'tempos': tempos\n",
    "        })\n",
    "    \n",
    "    return pd.DataFrame(data)"
   ]
  },
  {
   "cell_type": "code",
   "execution_count": 6,
   "metadata": {},
   "outputs": [
    {
     "name": "stderr",
     "output_type": "stream",
     "text": [
      "/Users/I523193/anaconda3/lib/python3.11/site-packages/music21/stream/base.py:3694: Music21DeprecationWarning: .flat is deprecated.  Call .flatten() instead\n",
      "  return self.iter().getElementsByClass(classFilterList)\n",
      "/Users/I523193/anaconda3/lib/python3.11/site-packages/music21/midi/translate.py:874: TranslateWarning: Unable to determine instrument from <music21.midi.MidiEvent SEQUENCE_TRACK_NAME, track=0, channel=None, data=b'Preludiul nr.3 \\xeen re minor, BWV 935'>; getting generic Instrument\n",
      "  warnings.warn(\n",
      "/Users/I523193/anaconda3/lib/python3.11/site-packages/music21/midi/translate.py:874: TranslateWarning: Unable to determine instrument from <music21.midi.MidiEvent SEQUENCE_TRACK_NAME, track=0, channel=None, data=b'Preludiul nr.6 \\xeen mi minor, BWV 938'>; getting generic Instrument\n",
      "  warnings.warn(\n",
      "/Users/I523193/anaconda3/lib/python3.11/site-packages/music21/midi/translate.py:874: TranslateWarning: Unable to determine instrument from <music21.midi.MidiEvent SEQUENCE_TRACK_NAME, track=0, channel=None, data=b'J.S.Bach 2\\x82\\xc2\\x82\\xcc\\x83\\x94\\x83@\\x83C\\x83I\\x83\\x8a\\x83\\x93\\x82\\xcc\\x82\\xbd\\x82\\xdf\\x82\\xcc\\x8b\\xa6\\x91t\\x8b\\xc8 \\x83j\\x92Z\\x92\\xb2 BWV1043 1.Vivace'>; getting generic Instrument\n",
      "  warnings.warn(\n",
      "/Users/I523193/anaconda3/lib/python3.11/site-packages/music21/midi/translate.py:874: TranslateWarning: Unable to determine instrument from <music21.midi.MidiEvent SEQUENCE_TRACK_NAME, track=0, channel=None, data=b'J.S.Bach 2\\x82\\xc2\\x82\\xcc\\x83\\x94\\x83@\\x83C\\x83I\\x83\\x8a\\x83\\x93\\x82\\xcc\\x82\\xbd\\x82\\xdf\\x82\\xcc\\x8b\\xa6\\x91t\\x8b\\xc8 \\x83j\\x92Z\\x92\\xb2 BWV1043 3.Allegro'>; getting generic Instrument\n",
      "  warnings.warn(\n",
      "/Users/I523193/anaconda3/lib/python3.11/site-packages/music21/midi/translate.py:874: TranslateWarning: Unable to determine instrument from <music21.midi.MidiEvent SEQUENCE_TRACK_NAME, track=6, channel=None, data=b'Recorder (Fl\\xfbte \\xe0 bec)'>; getting generic Instrument\n",
      "  warnings.warn(\n",
      "/Users/I523193/anaconda3/lib/python3.11/site-packages/music21/midi/translate.py:874: TranslateWarning: Unable to determine instrument from <music21.midi.MidiEvent SEQUENCE_TRACK_NAME, track=5, channel=None, data=b' DEO SOLI GLORIA PER S\\xc6CULA S\\xc6CULORUM!!!'>; getting generic Instrument\n",
      "  warnings.warn(\n",
      "/Users/I523193/anaconda3/lib/python3.11/site-packages/music21/midi/translate.py:874: TranslateWarning: Unable to determine instrument from <music21.midi.MidiEvent SEQUENCE_TRACK_NAME, track=1, channel=None, data=b'6th Movement - Bourr\\xe9e I and II'>; getting generic Instrument\n",
      "  warnings.warn(\n",
      "/Users/I523193/anaconda3/lib/python3.11/site-packages/music21/midi/translate.py:874: TranslateWarning: Unable to determine instrument from <music21.midi.MidiEvent SEQUENCE_TRACK_NAME, track=13, channel=None, data=b'Johann Sebastian Bach - Orchestral Suite No. 1 in C Major, BWV1066 - No. 6 Bourr\\xe9e I and II'>; getting generic Instrument\n",
      "  warnings.warn(\n",
      "/Users/I523193/anaconda3/lib/python3.11/site-packages/music21/midi/translate.py:874: TranslateWarning: Unable to determine instrument from <music21.midi.MidiEvent SEQUENCE_TRACK_NAME, track=1, channel=None, data=b'2nd Movement - Bourr\\xe9e I and II'>; getting generic Instrument\n",
      "  warnings.warn(\n",
      "/Users/I523193/anaconda3/lib/python3.11/site-packages/music21/midi/translate.py:874: TranslateWarning: Unable to determine instrument from <music21.midi.MidiEvent SEQUENCE_TRACK_NAME, track=18, channel=None, data=b'Johann Sebastian Bach - Orchestral Suite No. 4 in D Major, BWV1069 - No. 2 Bourr\\xe9e I and II'>; getting generic Instrument\n",
      "  warnings.warn(\n",
      "/Users/I523193/anaconda3/lib/python3.11/site-packages/music21/midi/translate.py:874: TranslateWarning: Unable to determine instrument from <music21.midi.MidiEvent SEQUENCE_TRACK_NAME, track=1, channel=None, data=b'4th Movement - Bourr\\xe9e I and II'>; getting generic Instrument\n",
      "  warnings.warn(\n",
      "/Users/I523193/anaconda3/lib/python3.11/site-packages/music21/midi/translate.py:874: TranslateWarning: Unable to determine instrument from <music21.midi.MidiEvent SEQUENCE_TRACK_NAME, track=12, channel=None, data=b'Johann Sebastian Bach - Orchestral Suite No. 2 in B minor, BWV1067 - No. 4 Bourr\\xe9e I and II'>; getting generic Instrument\n",
      "  warnings.warn(\n",
      "/Users/I523193/anaconda3/lib/python3.11/site-packages/music21/midi/translate.py:874: TranslateWarning: Unable to determine instrument from <music21.midi.MidiEvent SEQUENCE_TRACK_NAME, track=1, channel=None, data=b'4th Movement - Bourr\\xe9e'>; getting generic Instrument\n",
      "  warnings.warn(\n",
      "/Users/I523193/anaconda3/lib/python3.11/site-packages/music21/midi/translate.py:874: TranslateWarning: Unable to determine instrument from <music21.midi.MidiEvent SEQUENCE_TRACK_NAME, track=16, channel=None, data=b'Johann Sebastian Bach - Orchestral Suite No. 3 in D Major, BWV1068 - No. 4 Bourr\\xe9e'>; getting generic Instrument\n",
      "  warnings.warn(\n",
      "/Users/I523193/anaconda3/lib/python3.11/site-packages/music21/midi/translate.py:874: TranslateWarning: Unable to determine instrument from <music21.midi.MidiEvent SEQUENCE_TRACK_NAME, track=1, channel=None, data=b'5th Movement - R\\xe9jouissance'>; getting generic Instrument\n",
      "  warnings.warn(\n",
      "/Users/I523193/anaconda3/lib/python3.11/site-packages/music21/midi/translate.py:874: TranslateWarning: Unable to determine instrument from <music21.midi.MidiEvent SEQUENCE_TRACK_NAME, track=18, channel=None, data=b'Johann Sebastian Bach - Orchestral Suite No. 4 in D Major, BWV1069 - No. 5 R\\xe9jouissance'>; getting generic Instrument\n",
      "  warnings.warn(\n",
      "/Users/I523193/anaconda3/lib/python3.11/site-packages/music21/midi/translate.py:874: TranslateWarning: Unable to determine instrument from <music21.midi.MidiEvent SEQUENCE_TRACK_NAME, track=9, channel=None, data=b'Sequenced by Ken Whitcomb \\xa91998'>; getting generic Instrument\n",
      "  warnings.warn(\n",
      "/Users/I523193/anaconda3/lib/python3.11/site-packages/music21/midi/translate.py:874: TranslateWarning: Unable to determine instrument from <music21.midi.MidiEvent SEQUENCE_TRACK_NAME, track=16, channel=None, data=b'Sequenced by Ken Whitcomb \\xa91997'>; getting generic Instrument\n",
      "  warnings.warn(\n",
      "/Users/I523193/anaconda3/lib/python3.11/site-packages/music21/midi/translate.py:874: TranslateWarning: Unable to determine instrument from <music21.midi.MidiEvent SEQUENCE_TRACK_NAME, track=19, channel=None, data=b'Tr\\xe4nen nieder\" from'>; getting generic Instrument\n",
      "  warnings.warn(\n",
      "/Users/I523193/anaconda3/lib/python3.11/site-packages/music21/midi/translate.py:874: TranslateWarning: Unable to determine instrument from <music21.midi.MidiEvent SEQUENCE_TRACK_NAME, track=22, channel=None, data=b'Sequenced by Ken Whitcomb \\xa91998'>; getting generic Instrument\n",
      "  warnings.warn(\n",
      "/Users/I523193/anaconda3/lib/python3.11/site-packages/music21/midi/translate.py:874: TranslateWarning: Unable to determine instrument from <music21.midi.MidiEvent SEQUENCE_TRACK_NAME, track=12, channel=None, data=b'Sequenced by Ken Whitcomb \\xa91997'>; getting generic Instrument\n",
      "  warnings.warn(\n",
      "/Users/I523193/anaconda3/lib/python3.11/site-packages/music21/midi/translate.py:874: TranslateWarning: Unable to determine instrument from <music21.midi.MidiEvent SEQUENCE_TRACK_NAME, track=14, channel=None, data=b'Sequenced by Ken Whitcomb \\xa91998'>; getting generic Instrument\n",
      "  warnings.warn(\n",
      "/Users/I523193/anaconda3/lib/python3.11/site-packages/music21/midi/translate.py:874: TranslateWarning: Unable to determine instrument from <music21.midi.MidiEvent SEQUENCE_TRACK_NAME, track=11, channel=None, data=b'\"K\\xf6nnen Tr\\xe4nen meiner'>; getting generic Instrument\n",
      "  warnings.warn(\n",
      "/Users/I523193/anaconda3/lib/python3.11/site-packages/music21/midi/translate.py:874: TranslateWarning: Unable to determine instrument from <music21.midi.MidiEvent SEQUENCE_TRACK_NAME, track=15, channel=None, data=b'Sequenced by Ken Whitcomb \\xa91998'>; getting generic Instrument\n",
      "  warnings.warn(\n",
      "/Users/I523193/anaconda3/lib/python3.11/site-packages/music21/midi/translate.py:874: TranslateWarning: Unable to determine instrument from <music21.midi.MidiEvent SEQUENCE_TRACK_NAME, track=14, channel=None, data=b'Sequenced by Ken Whitcomb \\xa91997'>; getting generic Instrument\n",
      "  warnings.warn(\n",
      "/Users/I523193/anaconda3/lib/python3.11/site-packages/music21/midi/translate.py:874: TranslateWarning: Unable to determine instrument from <music21.midi.MidiEvent SEQUENCE_TRACK_NAME, track=0, channel=None, data=b'Concerto pour violon et orchestre en R\\xe9 majeur'>; getting generic Instrument\n",
      "  warnings.warn(\n",
      "/Users/I523193/anaconda3/lib/python3.11/site-packages/music21/midi/translate.py:874: TranslateWarning: Unable to determine instrument from <music21.midi.MidiEvent SEQUENCE_TRACK_NAME, track=0, channel=None, data=b'Second mouvement : Larghetto - troisi\\xe8me mouvement : Rondo - Allegro'>; getting generic Instrument\n",
      "  warnings.warn(\n",
      "/Users/I523193/anaconda3/lib/python3.11/site-packages/music21/midi/translate.py:874: TranslateWarning: Unable to determine instrument from <music21.midi.MidiEvent SEQUENCE_TRACK_NAME, track=0, channel=None, data=b'\\x83s\\x83A\\x83m\\x83\\\\\\x83i\\x83^ \\x91\\xe6\\x82Q\\x82X\\x94\\xd4 \\x81u\\x83n\\x83\\x93\\x83}\\x81[\\x83N\\x83\\x89\\x83\\x94\\x83B\\x83A\\x81v \\x91\\xe6\\x82Q\\x8ay\\x8f\\xcd'>; getting generic Instrument\n",
      "  warnings.warn(\n",
      "/Users/I523193/anaconda3/lib/python3.11/site-packages/music21/midi/translate.py:874: TranslateWarning: Unable to determine instrument from <music21.midi.MidiEvent SEQUENCE_TRACK_NAME, track=0, channel=None, data=b'Rond\\xf2 in C WoO 48  (1783)'>; getting generic Instrument\n",
      "  warnings.warn(\n",
      "/Users/I523193/anaconda3/lib/python3.11/site-packages/music21/midi/translate.py:874: TranslateWarning: Unable to determine instrument from <music21.midi.MidiEvent SEQUENCE_TRACK_NAME, track=16, channel=None, data=b'\\xa9 July 2003'>; getting generic Instrument\n",
      "  warnings.warn(\n",
      "/Users/I523193/anaconda3/lib/python3.11/site-packages/music21/midi/translate.py:874: TranslateWarning: Unable to determine instrument from <music21.midi.MidiEvent SEQUENCE_TRACK_NAME, track=19, channel=None, data=b'\\xa9 October 2001'>; getting generic Instrument\n",
      "  warnings.warn(\n",
      "/Users/I523193/anaconda3/lib/python3.11/site-packages/music21/midi/translate.py:874: TranslateWarning: Unable to determine instrument from <music21.midi.MidiEvent SEQUENCE_TRACK_NAME, track=0, channel=None, data=b'Second mouvement : Adagio un poco mosso - troisi\\xe8me mouvement : Rondo - Allegro'>; getting generic Instrument\n",
      "  warnings.warn(\n",
      "/Users/I523193/anaconda3/lib/python3.11/site-packages/music21/midi/translate.py:874: TranslateWarning: Unable to determine instrument from <music21.midi.MidiEvent SEQUENCE_TRACK_NAME, track=19, channel=None, data=b'\\xa9 September 1998'>; getting generic Instrument\n",
      "  warnings.warn(\n",
      "/Users/I523193/anaconda3/lib/python3.11/site-packages/music21/midi/translate.py:874: TranslateWarning: Unable to determine instrument from <music21.midi.MidiEvent SEQUENCE_TRACK_NAME, track=17, channel=None, data=b'\\xa9  September 1998'>; getting generic Instrument\n",
      "  warnings.warn(\n",
      "/Users/I523193/anaconda3/lib/python3.11/site-packages/music21/midi/translate.py:874: TranslateWarning: Unable to determine instrument from <music21.midi.MidiEvent SEQUENCE_TRACK_NAME, track=0, channel=None, data=b'Ouverture N\\xb02 for Fidelio'>; getting generic Instrument\n",
      "  warnings.warn(\n",
      "/Users/I523193/anaconda3/lib/python3.11/site-packages/music21/midi/translate.py:874: TranslateWarning: Unable to determine instrument from <music21.midi.MidiEvent SEQUENCE_TRACK_NAME, track=23, channel=None, data=b'\\xa9 October 2001'>; getting generic Instrument\n",
      "  warnings.warn(\n",
      "/Users/I523193/anaconda3/lib/python3.11/site-packages/music21/midi/translate.py:874: TranslateWarning: Unable to determine instrument from <music21.midi.MidiEvent SEQUENCE_TRACK_NAME, track=24, channel=None, data=b'Beethoven -  Ouverture Leonore n\\xb0 2'>; getting generic Instrument\n",
      "  warnings.warn(\n",
      "/Users/I523193/anaconda3/lib/python3.11/site-packages/music21/midi/translate.py:874: TranslateWarning: Unable to determine instrument from <music21.midi.MidiEvent SEQUENCE_TRACK_NAME, track=0, channel=None, data=b'Ouverture N\\xb03 for Fidelio'>; getting generic Instrument\n",
      "  warnings.warn(\n",
      "/Users/I523193/anaconda3/lib/python3.11/site-packages/music21/midi/translate.py:874: TranslateWarning: Unable to determine instrument from <music21.midi.MidiEvent SEQUENCE_TRACK_NAME, track=22, channel=None, data=b'\\xa9 October 2001'>; getting generic Instrument\n",
      "  warnings.warn(\n",
      "/Users/I523193/anaconda3/lib/python3.11/site-packages/music21/midi/translate.py:874: TranslateWarning: Unable to determine instrument from <music21.midi.MidiEvent SEQUENCE_TRACK_NAME, track=23, channel=None, data=b'Beethoven -  Ouverture Leonore n\\xb0 3'>; getting generic Instrument\n",
      "  warnings.warn(\n",
      "/Users/I523193/anaconda3/lib/python3.11/site-packages/music21/midi/translate.py:874: TranslateWarning: Unable to determine instrument from <music21.midi.MidiEvent SEQUENCE_TRACK_NAME, track=0, channel=None, data=b'Ouverture N\\xb01 for Fidelio'>; getting generic Instrument\n",
      "  warnings.warn(\n",
      "/Users/I523193/anaconda3/lib/python3.11/site-packages/music21/midi/translate.py:874: TranslateWarning: Unable to determine instrument from <music21.midi.MidiEvent SEQUENCE_TRACK_NAME, track=17, channel=None, data=b'\\xa9 October 2001'>; getting generic Instrument\n",
      "  warnings.warn(\n",
      "/Users/I523193/anaconda3/lib/python3.11/site-packages/music21/midi/translate.py:874: TranslateWarning: Unable to determine instrument from <music21.midi.MidiEvent SEQUENCE_TRACK_NAME, track=18, channel=None, data=b'Beethoven -  Ouverture Leonore n\\xb0 1'>; getting generic Instrument\n",
      "  warnings.warn(\n",
      "/Users/I523193/anaconda3/lib/python3.11/site-packages/music21/midi/translate.py:874: TranslateWarning: Unable to determine instrument from <music21.midi.MidiEvent SEQUENCE_TRACK_NAME, track=0, channel=None, data=b' Anhang 6 Rond\\xf2 per pianoforte'>; getting generic Instrument\n",
      "  warnings.warn(\n",
      "/Users/I523193/anaconda3/lib/python3.11/site-packages/music21/midi/translate.py:874: TranslateWarning: Unable to determine instrument from <music21.midi.MidiEvent SEQUENCE_TRACK_NAME, track=1, channel=None, data=b'1 main droite m\\xe9lodie'>; getting generic Instrument\n",
      "  warnings.warn(\n",
      "/Users/I523193/anaconda3/lib/python3.11/site-packages/music21/midi/translate.py:874: TranslateWarning: Unable to determine instrument from <music21.midi.MidiEvent SEQUENCE_TRACK_NAME, track=0, channel=None, data=b'Symphony n\\xb0 8 in F major'>; getting generic Instrument\n",
      "  warnings.warn(\n",
      "/Users/I523193/anaconda3/lib/python3.11/site-packages/music21/midi/translate.py:874: TranslateWarning: Unable to determine instrument from <music21.midi.MidiEvent SEQUENCE_TRACK_NAME, track=17, channel=None, data=b'\\xa9 September 2000'>; getting generic Instrument\n",
      "  warnings.warn(\n",
      "/Users/I523193/anaconda3/lib/python3.11/site-packages/music21/midi/translate.py:874: TranslateWarning: Unable to determine instrument from <music21.midi.MidiEvent SEQUENCE_TRACK_NAME, track=0, channel=None, data=b\"Symphonie n\\xb0 6 en fa majeur 'Pastorale' op 68\">; getting generic Instrument\n",
      "  warnings.warn(\n",
      "/Users/I523193/anaconda3/lib/python3.11/site-packages/music21/midi/translate.py:874: TranslateWarning: Unable to determine instrument from <music21.midi.MidiEvent SEQUENCE_TRACK_NAME, track=15, channel=None, data=b'\\xa9 January 2003'>; getting generic Instrument\n",
      "  warnings.warn(\n",
      "/Users/I523193/anaconda3/lib/python3.11/site-packages/music21/midi/translate.py:874: TranslateWarning: Unable to determine instrument from <music21.midi.MidiEvent SEQUENCE_TRACK_NAME, track=0, channel=None, data=b'Symphony n\\xb0 1 in C major'>; getting generic Instrument\n",
      "  warnings.warn(\n",
      "/Users/I523193/anaconda3/lib/python3.11/site-packages/music21/midi/translate.py:874: TranslateWarning: Unable to determine instrument from <music21.midi.MidiEvent SEQUENCE_TRACK_NAME, track=17, channel=None, data=b'\\xa9 Juni 2001'>; getting generic Instrument\n",
      "  warnings.warn(\n",
      "/Users/I523193/anaconda3/lib/python3.11/site-packages/music21/midi/translate.py:874: TranslateWarning: Unable to determine instrument from <music21.midi.MidiEvent SEQUENCE_TRACK_NAME, track=0, channel=None, data=b'Symphony n\\xb0 2 in D major'>; getting generic Instrument\n",
      "  warnings.warn(\n",
      "/Users/I523193/anaconda3/lib/python3.11/site-packages/music21/midi/translate.py:874: TranslateWarning: Unable to determine instrument from <music21.midi.MidiEvent SEQUENCE_TRACK_NAME, track=17, channel=None, data=b'\\xa9 January 2001'>; getting generic Instrument\n",
      "  warnings.warn(\n",
      "/Users/I523193/anaconda3/lib/python3.11/site-packages/music21/midi/translate.py:874: TranslateWarning: Unable to determine instrument from <music21.midi.MidiEvent SEQUENCE_TRACK_NAME, track=15, channel=None, data=b'\\xa9 September 2000'>; getting generic Instrument\n",
      "  warnings.warn(\n",
      "/Users/I523193/anaconda3/lib/python3.11/site-packages/music21/midi/translate.py:874: TranslateWarning: Unable to determine instrument from <music21.midi.MidiEvent SEQUENCE_TRACK_NAME, track=20, channel=None, data=b'\\xa9 January 2003'>; getting generic Instrument\n",
      "  warnings.warn(\n",
      "/Users/I523193/anaconda3/lib/python3.11/site-packages/music21/midi/translate.py:874: TranslateWarning: Unable to determine instrument from <music21.midi.MidiEvent SEQUENCE_TRACK_NAME, track=0, channel=None, data=b'[SC55]\\x8c\\xf0\\x8b\\xbf\\x8b\\xc8\\x91\\xe6\\x82X\\x94\\xd4\\x83j\\x92Z\\x92\\xb2\\x91\\xe6\\x93\\xf1\\x8ay\\x8f\\xcd Beethoven       by \\x92\\x8f'>; getting generic Instrument\n",
      "  warnings.warn(\n",
      "/Users/I523193/anaconda3/lib/python3.11/site-packages/music21/midi/translate.py:874: TranslateWarning: Unable to determine instrument from <music21.midi.MidiEvent SEQUENCE_TRACK_NAME, track=16, channel=None, data=b'Tempo,Exclusiv\\x81i\\x93k\\x98J(;_;)\\x81j'>; getting generic Instrument\n",
      "  warnings.warn(\n",
      "/Users/I523193/anaconda3/lib/python3.11/site-packages/music21/midi/translate.py:874: TranslateWarning: Unable to determine instrument from <music21.midi.MidiEvent SEQUENCE_TRACK_NAME, track=0, channel=None, data=b'\\x83x\\x81[\\x83g\\x81[\\x83x\\x83\\x93\\x81@\\x8c\\xf0\\x8b\\xbf\\x8b\\xc8\\x91\\xe6\\x82V\\x94\\xd4\\x81@\\x91\\xe6\\x82Q\\x8ay\\x8f\\xcd                            '>; getting generic Instrument\n",
      "  warnings.warn(\n",
      "/Users/I523193/anaconda3/lib/python3.11/site-packages/music21/midi/translate.py:874: TranslateWarning: Unable to determine instrument from <music21.midi.MidiEvent SEQUENCE_TRACK_NAME, track=16, channel=None, data=b'\\xa9 January 2003'>; getting generic Instrument\n",
      "  warnings.warn(\n",
      "/Users/I523193/anaconda3/lib/python3.11/site-packages/music21/midi/translate.py:874: TranslateWarning: Unable to determine instrument from <music21.midi.MidiEvent SEQUENCE_TRACK_NAME, track=4, channel=None, data=b'Copyright \\xa9 2003 by Bernd Krueger'>; getting generic Instrument\n",
      "  warnings.warn(\n",
      "/Users/I523193/anaconda3/lib/python3.11/site-packages/music21/midi/translate.py:874: TranslateWarning: Unable to determine instrument from <music21.midi.MidiEvent SEQUENCE_TRACK_NAME, track=4, channel=None, data=b'Copyright \\xa9 2001 by Bernd Kr\\xfcger'>; getting generic Instrument\n",
      "  warnings.warn(\n",
      "/Users/I523193/anaconda3/lib/python3.11/site-packages/music21/midi/translate.py:874: TranslateWarning: Unable to determine instrument from <music21.midi.MidiEvent SEQUENCE_TRACK_NAME, track=0, channel=None, data=b'Mondscheinsonate; der Gr\\xe4fin Giulietta Guiccardi gewidmet'>; getting generic Instrument\n",
      "  warnings.warn(\n",
      "/Users/I523193/anaconda3/lib/python3.11/site-packages/music21/midi/translate.py:874: TranslateWarning: Unable to determine instrument from <music21.midi.MidiEvent SEQUENCE_TRACK_NAME, track=5, channel=None, data=b'Copyright \\xa9 1998 by Bernd Krueger'>; getting generic Instrument\n",
      "  warnings.warn(\n",
      "/Users/I523193/anaconda3/lib/python3.11/site-packages/music21/midi/translate.py:874: TranslateWarning: Unable to determine instrument from <music21.midi.MidiEvent SEQUENCE_TRACK_NAME, track=4, channel=None, data=b'Copyright \\xa9 1998 by Bernd Krueger'>; getting generic Instrument\n",
      "  warnings.warn(\n",
      "/Users/I523193/anaconda3/lib/python3.11/site-packages/music21/midi/translate.py:874: TranslateWarning: Unable to determine instrument from <music21.midi.MidiEvent SEQUENCE_TRACK_NAME, track=5, channel=None, data=b'Copyright \\xa9 2003 by Bernd Krueger'>; getting generic Instrument\n",
      "  warnings.warn(\n",
      "/Users/I523193/anaconda3/lib/python3.11/site-packages/music21/midi/translate.py:874: TranslateWarning: Unable to determine instrument from <music21.midi.MidiEvent SEQUENCE_TRACK_NAME, track=4, channel=None, data=b'Copyright \\xa9 1997 by Bernd Krueger'>; getting generic Instrument\n",
      "  warnings.warn(\n",
      "/Users/I523193/anaconda3/lib/python3.11/site-packages/music21/midi/translate.py:874: TranslateWarning: Unable to determine instrument from <music21.midi.MidiEvent SEQUENCE_TRACK_NAME, track=6, channel=None, data=b'Copyright \\xa9 July 1997 by'>; getting generic Instrument\n",
      "  warnings.warn(\n",
      "/Users/I523193/anaconda3/lib/python3.11/site-packages/music21/midi/translate.py:874: TranslateWarning: Unable to determine instrument from <music21.midi.MidiEvent SEQUENCE_TRACK_NAME, track=4, channel=None, data=b'Copyright \\xa9 2002 by Bernd Krueger'>; getting generic Instrument\n",
      "  warnings.warn(\n",
      "/Users/I523193/anaconda3/lib/python3.11/site-packages/music21/midi/translate.py:874: TranslateWarning: Unable to determine instrument from <music21.midi.MidiEvent SEQUENCE_TRACK_NAME, track=3, channel=None, data=b'\\xa9 1996'>; getting generic Instrument\n",
      "  warnings.warn(\n",
      "/Users/I523193/anaconda3/lib/python3.11/site-packages/music21/midi/translate.py:874: TranslateWarning: Unable to determine instrument from <music21.midi.MidiEvent SEQUENCE_TRACK_NAME, track=4, channel=None, data=b'Copyright \\xa9 2002 by Bernd Kr\\xfcger'>; getting generic Instrument\n",
      "  warnings.warn(\n",
      "/Users/I523193/anaconda3/lib/python3.11/site-packages/music21/midi/translate.py:874: TranslateWarning: Unable to determine instrument from <music21.midi.MidiEvent SEQUENCE_TRACK_NAME, track=0, channel=None, data=b'F.F.Chopin  Nocturne No.11 in G minor Op.37-1 \\x81@'>; getting generic Instrument\n",
      "  warnings.warn(\n",
      "/Users/I523193/anaconda3/lib/python3.11/site-packages/music21/midi/translate.py:874: TranslateWarning: Unable to determine instrument from <music21.midi.MidiEvent SEQUENCE_TRACK_NAME, track=4, channel=None, data=b'Copyright \\xa9 1997 by Bernd Kr\\xfcger'>; getting generic Instrument\n",
      "  warnings.warn(\n",
      "/Users/I523193/anaconda3/lib/python3.11/site-packages/music21/midi/translate.py:874: TranslateWarning: Unable to determine instrument from <music21.midi.MidiEvent SEQUENCE_TRACK_NAME, track=0, channel=None, data=b'Et\\xfcde Opus 10 No. 5'>; getting generic Instrument\n",
      "  warnings.warn(\n",
      "/Users/I523193/anaconda3/lib/python3.11/site-packages/music21/midi/translate.py:874: TranslateWarning: Unable to determine instrument from <music21.midi.MidiEvent SEQUENCE_TRACK_NAME, track=0, channel=None, data=b'Schwarze-Tasten-Et\\xfcde'>; getting generic Instrument\n",
      "  warnings.warn(\n",
      "/Users/I523193/anaconda3/lib/python3.11/site-packages/music21/midi/translate.py:874: TranslateWarning: Unable to determine instrument from <music21.midi.MidiEvent SEQUENCE_TRACK_NAME, track=4, channel=None, data=b'Copyright \\xa9 1999 by Bernd Kr\\xfcger'>; getting generic Instrument\n",
      "  warnings.warn(\n",
      "/Users/I523193/anaconda3/lib/python3.11/site-packages/music21/midi/translate.py:874: TranslateWarning: Unable to determine instrument from <music21.midi.MidiEvent SEQUENCE_TRACK_NAME, track=5, channel=None, data=b'Copyright \\xa9 2002 by Bernd Krueger'>; getting generic Instrument\n",
      "  warnings.warn(\n",
      "/Users/I523193/anaconda3/lib/python3.11/site-packages/music21/midi/translate.py:874: TranslateWarning: Unable to determine instrument from <music21.midi.MidiEvent SEQUENCE_TRACK_NAME, track=0, channel=None, data=b'Scherzo n\\xb01 in Si minore, Op.20'>; getting generic Instrument\n",
      "  warnings.warn(\n",
      "/Users/I523193/anaconda3/lib/python3.11/site-packages/music21/midi/translate.py:874: TranslateWarning: Unable to determine instrument from <music21.midi.MidiEvent SEQUENCE_TRACK_NAME, track=3, channel=None, data=b'Copyright \\xa9 2003 by Dario Galimberti'>; getting generic Instrument\n",
      "  warnings.warn(\n",
      "/Users/I523193/anaconda3/lib/python3.11/site-packages/music21/midi/translate.py:874: TranslateWarning: Unable to determine instrument from <music21.midi.MidiEvent SEQUENCE_TRACK_NAME, track=5, channel=None, data=b'Copyright \\xa9 1997 by Bernd Krueger'>; getting generic Instrument\n",
      "  warnings.warn(\n",
      "/Users/I523193/anaconda3/lib/python3.11/site-packages/music21/midi/translate.py:874: TranslateWarning: Unable to determine instrument from <music21.midi.MidiEvent SEQUENCE_TRACK_NAME, track=0, channel=None, data=b'Et\\xfcde Nr. 12'>; getting generic Instrument\n",
      "  warnings.warn(\n",
      "/Users/I523193/anaconda3/lib/python3.11/site-packages/music21/midi/translate.py:874: TranslateWarning: Unable to determine instrument from <music21.midi.MidiEvent SEQUENCE_TRACK_NAME, track=0, channel=None, data=b'Et\\xfcde Opus 25, No. 11'>; getting generic Instrument\n",
      "  warnings.warn(\n",
      "/Users/I523193/anaconda3/lib/python3.11/site-packages/music21/midi/translate.py:874: TranslateWarning: Unable to determine instrument from <music21.midi.MidiEvent SEQUENCE_TRACK_NAME, track=0, channel=None, data=b'Sturmet\\xfcde'>; getting generic Instrument\n",
      "  warnings.warn(\n",
      "/Users/I523193/anaconda3/lib/python3.11/site-packages/music21/midi/translate.py:874: TranslateWarning: Unable to determine instrument from <music21.midi.MidiEvent SEQUENCE_TRACK_NAME, track=0, channel=None, data=b'Fl\\xf6te-Konzert Nr. 2'>; getting generic Instrument\n",
      "  warnings.warn(\n",
      "/Users/I523193/anaconda3/lib/python3.11/site-packages/music21/midi/translate.py:874: TranslateWarning: Unable to determine instrument from <music21.midi.MidiEvent SEQUENCE_TRACK_NAME, track=11, channel=None, data=b'\\xa9 June 2000'>; getting generic Instrument\n",
      "  warnings.warn(\n",
      "/Users/I523193/anaconda3/lib/python3.11/site-packages/music21/midi/translate.py:874: TranslateWarning: Unable to determine instrument from <music21.midi.MidiEvent SEQUENCE_TRACK_NAME, track=0, channel=None, data=b'f\\xfcr Sopran, Chor und Orchester'>; getting generic Instrument\n",
      "  warnings.warn(\n",
      "/Users/I523193/anaconda3/lib/python3.11/site-packages/music21/midi/translate.py:874: TranslateWarning: Unable to determine instrument from <music21.midi.MidiEvent SEQUENCE_TRACK_NAME, track=8, channel=None, data=b'Ba\\xdf'>; getting generic Instrument\n",
      "  warnings.warn(\n",
      "/Users/I523193/anaconda3/lib/python3.11/site-packages/music21/midi/translate.py:874: TranslateWarning: Unable to determine instrument from <music21.midi.MidiEvent SEQUENCE_TRACK_NAME, track=4, channel=None, data=b'Title: Ein St\\xfcck F\\xfcr Orgelwerk In Einer Uhr (K. 594, 1790)'>; getting generic Instrument\n",
      "  warnings.warn(\n",
      "/Users/I523193/anaconda3/lib/python3.11/site-packages/music21/midi/translate.py:874: TranslateWarning: Unable to determine instrument from <music21.midi.MidiEvent SEQUENCE_TRACK_NAME, track=0, channel=None, data=b'\\x8b\\xc8\\x82\\xcc\\x95\\\\\\x91\\xe8'>; getting generic Instrument\n",
      "  warnings.warn(\n",
      "/Users/I523193/anaconda3/lib/python3.11/site-packages/music21/midi/translate.py:874: TranslateWarning: Unable to determine instrument from <music21.midi.MidiEvent SEQUENCE_TRACK_NAME, track=4, channel=None, data=b'Title: Ein Orgel-St\\xfcck F\\xfcr Ein Uhr in Abmaj (K. 608, 1791)'>; getting generic Instrument\n",
      "  warnings.warn(\n",
      "/Users/I523193/anaconda3/lib/python3.11/site-packages/music21/midi/translate.py:874: TranslateWarning: Unable to determine instrument from <music21.midi.MidiEvent SEQUENCE_TRACK_NAME, track=0, channel=None, data=b'                                \\x82v.\\x82`.\\x82lOZART                                                 \\x81u\\x83s\\x83A\\x83m\\x83\\\\\\x83i\\x83^\\x91\\xe612\\x94\\xd4\\x81v             Kv.332, F Dur                   \\x91\\xe6\\x82R\\x8ay\\x8f\\xcd                    Allegro assai                                              for piano solo         ----------------------------            Roland GS                by MOCLIN(GBA02512)     '>; getting generic Instrument\n",
      "  warnings.warn(\n",
      "/Users/I523193/anaconda3/lib/python3.11/site-packages/music21/midi/translate.py:874: TranslateWarning: Unable to determine instrument from <music21.midi.MidiEvent SEQUENCE_TRACK_NAME, track=0, channel=None, data=b'                                \\x82v.\\x82`.\\x82lOZART                                                 \\x81u\\x83s\\x83A\\x83m\\x83\\\\\\x83i\\x83^\\x91\\xe612\\x94\\xd4\\x81v             Kv.332, F Dur                   \\x91\\xe6\\x82P\\x8ay\\x8f\\xcd                       Allegro                                                 for piano solo         ----------------------------            Roland GS                by MOCLIN(GBA02512)     '>; getting generic Instrument\n",
      "  warnings.warn(\n",
      "/Users/I523193/anaconda3/lib/python3.11/site-packages/music21/midi/translate.py:874: TranslateWarning: Unable to determine instrument from <music21.midi.MidiEvent SEQUENCE_TRACK_NAME, track=0, channel=None, data=b'                                \\x82v.\\x82`.\\x82lOZART                                                 \\x81u\\x83s\\x83A\\x83m\\x83\\\\\\x83i\\x83^\\x91\\xe612\\x94\\xd4\\x81v             Kv.332, F Dur                   \\x91\\xe6\\x82Q\\x8ay\\x8f\\xcd                       Adagio                                                  for piano solo         ----------------------------            Roland GS                by MOCLIN(GBA02512)'>; getting generic Instrument\n",
      "  warnings.warn(\n",
      "/Users/I523193/anaconda3/lib/python3.11/site-packages/music21/midi/translate.py:874: TranslateWarning: Unable to determine instrument from <music21.midi.MidiEvent SEQUENCE_TRACK_NAME, track=0, channel=None, data=b'\\x83\\x82\\x81[\\x83c\\x83A\\x83\\x8b\\x83g\\x83s\\x83A\\x83m\\x8b\\xa6\\x91t\\x8b\\xc8\\x91\\xe6\\x82Q\\x82U\\x94\\xd4\\x91\\xe6\\x82Q\\x8ay\\x8f\\xcd'>; getting generic Instrument\n",
      "  warnings.warn(\n",
      "/Users/I523193/anaconda3/lib/python3.11/site-packages/music21/midi/translate.py:874: TranslateWarning: Unable to determine instrument from <music21.midi.MidiEvent SEQUENCE_TRACK_NAME, track=0, channel=None, data=b'\\x83\\x82\\x81[\\x83c\\x83A\\x83\\x8b\\x83g\\x83s\\x83A\\x83m\\x8b\\xa6\\x91t\\x8b\\xc8\\x91\\xe6\\x82Q\\x82U\\x94\\xd4\\x81u\\x91\\xd5\\x8a\\xa5\\x8e\\xae\\x81v\\x91\\xe6\\x82R\\x8ay\\x8f\\xcd'>; getting generic Instrument\n",
      "  warnings.warn(\n",
      "/Users/I523193/anaconda3/lib/python3.11/site-packages/music21/midi/translate.py:874: TranslateWarning: Unable to determine instrument from <music21.midi.MidiEvent SEQUENCE_TRACK_NAME, track=0, channel=None, data=b'\\x83s\\x83A\\x83m\\x8b\\xa6\\x91t\\x8b\\xc8\\x91\\xe6\\x82Q\\x82U\\x94\\xd4\\x81u\\x91\\xd5\\x8a\\xa5\\x8e\\xae\\x81v\\x91\\xe6\\x82P\\x8ay\\x8f\\xcd'>; getting generic Instrument\n",
      "  warnings.warn(\n"
     ]
    }
   ],
   "source": [
    "for composer in composer_list:\n",
    "    for dirname, _, filenames in os.walk(f'./data/{composer}/'):\n",
    "        for filename in filenames:\n",
    "            if filename.endswith('.mid'):\n",
    "                midi_path = os.path.join(dirname, filename)\n",
    "                notes, chords, tempos = extract_features(midi_path)\n",
    "                data.append({\n",
    "                    'midi_file': filename,\n",
    "                    'composer': composer,\n",
    "                    'path': dirname,\n",
    "                    'notes': notes,\n",
    "                    'chords': chords,\n",
    "                    'tempos': tempos\n",
    "                })\n"
   ]
  },
  {
   "cell_type": "markdown",
   "metadata": {},
   "source": []
  },
  {
   "cell_type": "code",
   "execution_count": 7,
   "metadata": {},
   "outputs": [
    {
     "data": {
      "text/html": [
       "<div>\n",
       "<style scoped>\n",
       "    .dataframe tbody tr th:only-of-type {\n",
       "        vertical-align: middle;\n",
       "    }\n",
       "\n",
       "    .dataframe tbody tr th {\n",
       "        vertical-align: top;\n",
       "    }\n",
       "\n",
       "    .dataframe thead th {\n",
       "        text-align: right;\n",
       "    }\n",
       "</style>\n",
       "<table border=\"1\" class=\"dataframe\">\n",
       "  <thead>\n",
       "    <tr style=\"text-align: right;\">\n",
       "      <th></th>\n",
       "      <th>midi_file</th>\n",
       "      <th>composer</th>\n",
       "      <th>path</th>\n",
       "      <th>notes</th>\n",
       "      <th>chords</th>\n",
       "      <th>tempos</th>\n",
       "    </tr>\n",
       "  </thead>\n",
       "  <tbody>\n",
       "    <tr>\n",
       "      <th>0</th>\n",
       "      <td>Bwv0997 Partita for Lute 1mov.mid</td>\n",
       "      <td>Bach</td>\n",
       "      <td>./data/Bach/</td>\n",
       "      <td>[C3, C5, D5, E-5, G5, B5, C6, B-2, C6, G#2, C5...</td>\n",
       "      <td>[9.10, 7.8, 6.9, 0.3, 0.6, 2, 7.11, 2.5, 3.7, ...</td>\n",
       "      <td>[80, 80, 60, 60, 120, 120, 60, 60, 80, 80]</td>\n",
       "    </tr>\n",
       "    <tr>\n",
       "      <th>1</th>\n",
       "      <td>Bwv0535 Prelude and Fugue.mid</td>\n",
       "      <td>Bach</td>\n",
       "      <td>./data/Bach/</td>\n",
       "      <td>[G3, D3, B-2, D3, G2, A3, B-3, C4, B-3, G3, D3...</td>\n",
       "      <td>[2.7, 0.6, 7.10, 9, 7.10, 7.11, 7.0, 7.0, 2.6,...</td>\n",
       "      <td>[80, 80, 80, 50, 50, 50, 65, 65, 65, 60, 60, 6...</td>\n",
       "    </tr>\n",
       "    <tr>\n",
       "      <th>2</th>\n",
       "      <td>Bwv0806 English Suite n1 05mov.mid</td>\n",
       "      <td>Bach</td>\n",
       "      <td>./data/Bach/</td>\n",
       "      <td>[A4, A4, A2, E4, C#4, A3, G#3, F#3, E3, F#3, D...</td>\n",
       "      <td>[5.6, 1.2, 11.4, 1.2, 4.6, 2.4, 4.6, 4.6, 4.6,...</td>\n",
       "      <td>[144, 144]</td>\n",
       "    </tr>\n",
       "    <tr>\n",
       "      <th>3</th>\n",
       "      <td>Bwv0998 Prelude Fugue Allegro for Lute 3mov.mid</td>\n",
       "      <td>Bach</td>\n",
       "      <td>./data/Bach/</td>\n",
       "      <td>[E-2, E-4, D4, C4, B-3, G#3, G3, E-3, C4, B-3,...</td>\n",
       "      <td>[2.5, 7.8, 7.10, 4.7, 5.8]</td>\n",
       "      <td>[100, 100, 100, 8, 8, 8]</td>\n",
       "    </tr>\n",
       "    <tr>\n",
       "      <th>4</th>\n",
       "      <td>Jesu Joy of Man Desiring.mid</td>\n",
       "      <td>Bach</td>\n",
       "      <td>./data/Bach/</td>\n",
       "      <td>[G2, G1, G1, G4, G4, A4, A4, B4, B4, G4, D4, G...</td>\n",
       "      <td>[11.0, 11.0, 11.0, 11.0, 11.0, 11.0, 11.0, 9.1...</td>\n",
       "      <td>[65, 65, 65, 65, 65, 65, 65, 65, 65, 65, 65, 6...</td>\n",
       "    </tr>\n",
       "  </tbody>\n",
       "</table>\n",
       "</div>"
      ],
      "text/plain": [
       "                                         midi_file composer          path  \\\n",
       "0                Bwv0997 Partita for Lute 1mov.mid     Bach  ./data/Bach/   \n",
       "1                    Bwv0535 Prelude and Fugue.mid     Bach  ./data/Bach/   \n",
       "2               Bwv0806 English Suite n1 05mov.mid     Bach  ./data/Bach/   \n",
       "3  Bwv0998 Prelude Fugue Allegro for Lute 3mov.mid     Bach  ./data/Bach/   \n",
       "4                     Jesu Joy of Man Desiring.mid     Bach  ./data/Bach/   \n",
       "\n",
       "                                               notes  \\\n",
       "0  [C3, C5, D5, E-5, G5, B5, C6, B-2, C6, G#2, C5...   \n",
       "1  [G3, D3, B-2, D3, G2, A3, B-3, C4, B-3, G3, D3...   \n",
       "2  [A4, A4, A2, E4, C#4, A3, G#3, F#3, E3, F#3, D...   \n",
       "3  [E-2, E-4, D4, C4, B-3, G#3, G3, E-3, C4, B-3,...   \n",
       "4  [G2, G1, G1, G4, G4, A4, A4, B4, B4, G4, D4, G...   \n",
       "\n",
       "                                              chords  \\\n",
       "0  [9.10, 7.8, 6.9, 0.3, 0.6, 2, 7.11, 2.5, 3.7, ...   \n",
       "1  [2.7, 0.6, 7.10, 9, 7.10, 7.11, 7.0, 7.0, 2.6,...   \n",
       "2  [5.6, 1.2, 11.4, 1.2, 4.6, 2.4, 4.6, 4.6, 4.6,...   \n",
       "3                         [2.5, 7.8, 7.10, 4.7, 5.8]   \n",
       "4  [11.0, 11.0, 11.0, 11.0, 11.0, 11.0, 11.0, 9.1...   \n",
       "\n",
       "                                              tempos  \n",
       "0         [80, 80, 60, 60, 120, 120, 60, 60, 80, 80]  \n",
       "1  [80, 80, 80, 50, 50, 50, 65, 65, 65, 60, 60, 6...  \n",
       "2                                         [144, 144]  \n",
       "3                           [100, 100, 100, 8, 8, 8]  \n",
       "4  [65, 65, 65, 65, 65, 65, 65, 65, 65, 65, 65, 6...  "
      ]
     },
     "execution_count": 7,
     "metadata": {},
     "output_type": "execute_result"
    }
   ],
   "source": [
    "df = pd.DataFrame(data)\n",
    "df.head()"
   ]
  },
  {
   "cell_type": "code",
   "execution_count": 9,
   "metadata": {},
   "outputs": [
    {
     "name": "stdout",
     "output_type": "stream",
     "text": [
      "(1530, 6)\n",
      "midi_file    0\n",
      "composer     0\n",
      "path         0\n",
      "notes        0\n",
      "chords       0\n",
      "tempos       0\n",
      "dtype: int64\n"
     ]
    }
   ],
   "source": [
    "print(df.shape)\n",
    "print(df.isna().sum())"
   ]
  },
  {
   "cell_type": "code",
   "execution_count": 10,
   "metadata": {},
   "outputs": [
    {
     "data": {
      "text/plain": [
       "<Axes: >"
      ]
     },
     "execution_count": 10,
     "metadata": {},
     "output_type": "execute_result"
    },
    {
     "data": {
      "image/png": "[encoded data removed]",
      "text/plain": [
       "<Figure size 640x480 with 1 Axes>"
      ]
     },
     "metadata": {
      "image/png": {
       "height": 474,
       "width": 552
      }
     },
     "output_type": "display_data"
    }
   ],
   "source": [
    "df['composer'].value_counts().plot(kind='bar')"
   ]
  },
  {
   "cell_type": "code",
   "execution_count": 11,
   "metadata": {},
   "outputs": [
    {
     "data": {
      "text/plain": [
       "Bach         925\n",
       "Mozart       257\n",
       "Beethoven    212\n",
       "Chopin       136\n",
       "Name: composer, dtype: int64"
      ]
     },
     "execution_count": 11,
     "metadata": {},
     "output_type": "execute_result"
    }
   ],
   "source": [
    "df['composer'].value_counts()"
   ]
  },
  {
   "cell_type": "code",
   "execution_count": 12,
   "metadata": {},
   "outputs": [
    {
     "name": "stdout",
     "output_type": "stream",
     "text": [
      "<class 'pandas.core.frame.DataFrame'>\n",
      "RangeIndex: 1530 entries, 0 to 1529\n",
      "Data columns (total 6 columns):\n",
      " #   Column     Non-Null Count  Dtype \n",
      "---  ------     --------------  ----- \n",
      " 0   midi_file  1530 non-null   object\n",
      " 1   composer   1530 non-null   object\n",
      " 2   path       1530 non-null   object\n",
      " 3   notes      1530 non-null   object\n",
      " 4   chords     1530 non-null   object\n",
      " 5   tempos     1530 non-null   object\n",
      "dtypes: object(6)\n",
      "memory usage: 71.8+ KB\n"
     ]
    }
   ],
   "source": [
    "df.info()"
   ]
  },
  {
   "cell_type": "code",
   "execution_count": 13,
   "metadata": {},
   "outputs": [],
   "source": [
    "df.to_csv('./data/preprocessed_data_with_midi.csv', index=False)"
   ]
  },
  {
   "cell_type": "code",
   "execution_count": null,
   "metadata": {},
   "outputs": [],
   "source": []
  }
 ],
 "metadata": {
  "kernelspec": {
   "display_name": "Python 3 (ipykernel)",
   "language": "python",
   "name": "python3"
  },
  "language_info": {
   "codemirror_mode": {
    "name": "ipython",
    "version": 3
   },
   "file_extension": ".py",
   "mimetype": "text/x-python",
   "name": "python",
   "nbconvert_exporter": "python",
   "pygments_lexer": "ipython3",
   "version": "3.11.4"
  }
 },
 "nbformat": 4,
 "nbformat_minor": 2
}
