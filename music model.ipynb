{
 "cells": [
  {
   "cell_type": "code",
   "execution_count": 2,
   "id": "ead94035-22dd-4ad1-ac3d-b701930b80e9",
   "metadata": {},
   "outputs": [
    {
     "name": "stdout",
     "output_type": "stream",
     "text": [
      "Collecting pretty_midi\n",
      "  Downloading pretty_midi-0.2.10.tar.gz (5.6 MB)\n",
      "\u001b[2K     \u001b[90m━━━━━━━━━━━━━━━━━━━━━━━━━━━━━━━━━━━━━━━━\u001b[0m \u001b[32m5.6/5.6 MB\u001b[0m \u001b[31m2.5 MB/s\u001b[0m eta \u001b[36m0:00:00\u001b[0m00:01\u001b[0m00:01\u001b[0m0m\n",
      "\u001b[?25h  Preparing metadata (setup.py) ... \u001b[?25ldone\n",
      "\u001b[?25hRequirement already satisfied: numpy>=1.7.0 in /opt/anaconda3/lib/python3.11/site-packages (from pretty_midi) (1.24.4)\n",
      "Collecting mido>=1.1.16 (from pretty_midi)\n",
      "  Downloading mido-1.3.2-py3-none-any.whl.metadata (6.4 kB)\n",
      "Requirement already satisfied: six in /opt/anaconda3/lib/python3.11/site-packages (from pretty_midi) (1.16.0)\n",
      "Requirement already satisfied: packaging~=23.1 in /opt/anaconda3/lib/python3.11/site-packages (from mido>=1.1.16->pretty_midi) (23.1)\n",
      "Downloading mido-1.3.2-py3-none-any.whl (54 kB)\n",
      "\u001b[2K   \u001b[90m━━━━━━━━━━━━━━━━━━━━━━━━━━━━━━━━━━━━━━━━\u001b[0m \u001b[32m54.6/54.6 kB\u001b[0m \u001b[31m2.2 MB/s\u001b[0m eta \u001b[36m0:00:00\u001b[0m\n",
      "\u001b[?25hBuilding wheels for collected packages: pretty_midi\n",
      "  Building wheel for pretty_midi (setup.py) ... \u001b[?25ldone\n",
      "\u001b[?25h  Created wheel for pretty_midi: filename=pretty_midi-0.2.10-py3-none-any.whl size=5592287 sha256=1b14f7ebbd41e6a9f4ebda282ecdae75e3fd00587eae10efbdfc9915c0c73c5f\n",
      "  Stored in directory: /Users/datascientist/Library/Caches/pip/wheels/e6/95/ac/15ceaeb2823b04d8e638fd1495357adb8d26c00ccac9d7782e\n",
      "Successfully built pretty_midi\n",
      "Installing collected packages: mido, pretty_midi\n",
      "Successfully installed mido-1.3.2 pretty_midi-0.2.10\n",
      "Note: you may need to restart the kernel to use updated packages.\n"
     ]
    }
   ],
   "source": [
    "pip install pretty_midi"
   ]
  },
  {
   "cell_type": "code",
   "execution_count": 1,
   "id": "ce6ec779-f053-4558-b6f2-4e05ec612c31",
   "metadata": {},
   "outputs": [],
   "source": [
    "import os\n",
    "import numpy as np\n",
    "import pretty_midi\n",
    "import tensorflow as tf\n",
    "from sklearn.model_selection import train_test_split\n",
    "from sklearn.preprocessing import LabelEncoder\n",
    "from tensorflow.keras.models import Sequential\n",
    "from tensorflow.keras.layers import LSTM, Dense, Conv1D, MaxPooling1D, Flatten, Dropout\n",
    "from tensorflow.keras.utils import to_categorical\n",
    "from tensorflow.keras.preprocessing.sequence import pad_sequences"
   ]
  },
  {
   "cell_type": "code",
   "execution_count": 2,
   "id": "bff457f9-4739-461e-b413-543584c6184d",
   "metadata": {},
   "outputs": [],
   "source": [
    "# Directory paths\n",
    "DATA_DIR = 'Composer_Dataset/NN_midi_files_extended'\n",
    "DEV_DIR = os.path.join(DATA_DIR, 'dev')\n",
    "TEST_DIR = os.path.join(DATA_DIR, 'test')\n",
    "TRAIN_DIR = os.path.join(DATA_DIR, 'train')"
   ]
  },
  {
   "cell_type": "code",
   "execution_count": 3,
   "id": "c3a3acec-b601-4281-b688-2dab533879ed",
   "metadata": {},
   "outputs": [],
   "source": [
    "# Load MIDI files and labels\n",
    "def load_midi_files(directory):\n",
    "    midi_files = []\n",
    "    labels = []\n",
    "    for composer in os.listdir(directory):\n",
    "        composer_dir = os.path.join(directory, composer)\n",
    "        if os.path.isdir(composer_dir):\n",
    "            for file in os.listdir(composer_dir):\n",
    "                if file.endswith('.mid') or file.endswith('.midi'):\n",
    "                    file_path = os.path.join(composer_dir, file)\n",
    "                    midi_data = pretty_midi.PrettyMIDI(file_path)\n",
    "                    midi_files.append(midi_data)\n",
    "                    labels.append(composer)\n",
    "    return midi_files, labels"
   ]
  },
  {
   "cell_type": "code",
   "execution_count": 4,
   "id": "dfb02383-6c39-42c2-96ad-8450ec1ce1ae",
   "metadata": {},
   "outputs": [
    {
     "name": "stderr",
     "output_type": "stream",
     "text": [
      "/opt/anaconda3/lib/python3.11/site-packages/pretty_midi/pretty_midi.py:100: RuntimeWarning: Tempo, Key or Time signature change events found on non-zero tracks.  This is not a valid type 0 or type 1 MIDI file.  Tempo, Key or Time Signature may be wrong.\n",
      "  warnings.warn(\n"
     ]
    }
   ],
   "source": [
    "train_midi_files, train_labels = load_midi_files(TRAIN_DIR)\n",
    "dev_midi_files, dev_labels = load_midi_files(DEV_DIR)\n",
    "test_midi_files, test_labels = load_midi_files(TEST_DIR)"
   ]
  },
  {
   "cell_type": "code",
   "execution_count": 5,
   "id": "5b3d9fc6-03b9-4039-9c6f-c551bcb01cf1",
   "metadata": {},
   "outputs": [],
   "source": [
    "# Data augmentation\n",
    "def augment_midi(midi_data):\n",
    "    for instrument in midi_data.instruments:\n",
    "        for note in instrument.notes:\n",
    "            note.pitch = note.pitch + np.random.choice([-1, 1])\n",
    "    return midi_data\n",
    "\n",
    "augmented_train_midi_files = [augment_midi(midi) for midi in train_midi_files]"
   ]
  },
  {
   "cell_type": "code",
   "execution_count": 6,
   "id": "77d2dcd0-d3cb-43d2-816f-ead8990b8c03",
   "metadata": {},
   "outputs": [],
   "source": [
    "# Extract features from MIDI files\n",
    "def extract_features(midi_files):\n",
    "    note_sequences = []\n",
    "    chord_sequences = []\n",
    "    tempo_sequences = []\n",
    "    \n",
    "    for midi in midi_files:\n",
    "        notes = [note.pitch for instrument in midi.instruments for note in instrument.notes]\n",
    "        chords = [note.start for instrument in midi.instruments for note in instrument.notes]\n",
    "        tempos = midi.get_tempo_changes()[1]\n",
    "        \n",
    "        note_sequences.append(notes)\n",
    "        chord_sequences.append(chords)\n",
    "        tempo_sequences.append(tempos)\n",
    "    \n",
    "    # Pad sequences\n",
    "    note_sequences_padded = pad_sequences(note_sequences, padding='post', maxlen=1000)\n",
    "    chord_sequences_padded = pad_sequences(chord_sequences, padding='post', maxlen=1000)\n",
    "    tempo_sequences_padded = pad_sequences(tempo_sequences, padding='post', maxlen=100)\n",
    "    \n",
    "    # Combine all features into a single feature array\n",
    "    features = np.concatenate([note_sequences_padded, chord_sequences_padded, tempo_sequences_padded], axis=1)\n",
    "    \n",
    "    return features"
   ]
  },
  {
   "cell_type": "code",
   "execution_count": 7,
   "id": "97a724dc-095c-458f-a00f-94834a70e2de",
   "metadata": {},
   "outputs": [],
   "source": [
    "train_features = extract_features(train_midi_files + augmented_train_midi_files)\n",
    "dev_features = extract_features(dev_midi_files)\n",
    "test_features = extract_features(test_midi_files)"
   ]
  },
  {
   "cell_type": "code",
   "execution_count": 8,
   "id": "dbf03571-10cf-429b-831f-a48ae8a23435",
   "metadata": {},
   "outputs": [],
   "source": [
    "# Encode labels\n",
    "label_encoder = LabelEncoder()\n",
    "train_labels_encoded = to_categorical(label_encoder.fit_transform(train_labels + train_labels))\n",
    "dev_labels_encoded = to_categorical(label_encoder.transform(dev_labels))\n",
    "test_labels_encoded = to_categorical(label_encoder.transform(test_labels))"
   ]
  },
  {
   "cell_type": "code",
   "execution_count": 9,
   "id": "ed608083-adb6-451f-b33f-5ec2acededb1",
   "metadata": {},
   "outputs": [],
   "source": [
    "# Define the LSTM model with dropout\n",
    "def create_lstm_model(input_shape, num_classes):\n",
    "    model = Sequential()\n",
    "    model.add(LSTM(128, input_shape=input_shape, return_sequences=True))\n",
    "    model.add(Dropout(0.5))\n",
    "    model.add(LSTM(128))\n",
    "    model.add(Dense(num_classes, activation='softmax'))\n",
    "    model.compile(optimizer='adam', loss='categorical_crossentropy', metrics=['accuracy'])\n",
    "    return model"
   ]
  },
  {
   "cell_type": "code",
   "execution_count": 10,
   "id": "b2021d05-9841-4956-814e-14e08a1a3377",
   "metadata": {},
   "outputs": [],
   "source": [
    "# Define the CNN model with dropout\n",
    "def create_cnn_model(input_shape, num_classes):\n",
    "    model = Sequential()\n",
    "    model.add(Conv1D(64, kernel_size=3, activation='relu', input_shape=input_shape))\n",
    "    model.add(MaxPooling1D(pool_size=2))\n",
    "    model.add(Dropout(0.5))\n",
    "    model.add(Flatten())\n",
    "    model.add(Dense(num_classes, activation='softmax'))\n",
    "    model.compile(optimizer='adam', loss='categorical_crossentropy', metrics=['accuracy'])\n",
    "    return model"
   ]
  },
  {
   "cell_type": "code",
   "execution_count": 11,
   "id": "85bb8ef2-5249-4ebb-a49f-62ef8942c29c",
   "metadata": {},
   "outputs": [],
   "source": [
    "# Input shape and number of classes\n",
    "input_shape = (train_features.shape[1], 1)\n",
    "num_classes = len(label_encoder.classes_)"
   ]
  },
  {
   "cell_type": "code",
   "execution_count": 12,
   "id": "7018839a-bfb3-4f7f-bbbc-1d955d1a783d",
   "metadata": {},
   "outputs": [],
   "source": [
    "# Reshape features for CNN model\n",
    "train_features_cnn = train_features.reshape(train_features.shape[0], train_features.shape[1], 1)\n",
    "dev_features_cnn = dev_features.reshape(dev_features.shape[0], dev_features.shape[1], 1)\n",
    "test_features_cnn = test_features.reshape(test_features.shape[0], test_features.shape[1], 1)"
   ]
  },
  {
   "cell_type": "code",
   "execution_count": 13,
   "id": "1711f6aa-1955-4e30-89a3-08c9520cc735",
   "metadata": {},
   "outputs": [
    {
     "name": "stderr",
     "output_type": "stream",
     "text": [
      "/opt/anaconda3/lib/python3.11/site-packages/keras/src/layers/rnn/rnn.py:204: UserWarning: Do not pass an `input_shape`/`input_dim` argument to a layer. When using Sequential models, prefer using an `Input(shape)` object as the first layer in the model instead.\n",
      "  super().__init__(**kwargs)\n",
      "/opt/anaconda3/lib/python3.11/site-packages/keras/src/layers/convolutional/base_conv.py:107: UserWarning: Do not pass an `input_shape`/`input_dim` argument to a layer. When using Sequential models, prefer using an `Input(shape)` object as the first layer in the model instead.\n",
      "  super().__init__(activity_regularizer=activity_regularizer, **kwargs)\n"
     ]
    }
   ],
   "source": [
    "# Create models\n",
    "lstm_model = create_lstm_model(input_shape, num_classes)\n",
    "cnn_model = create_cnn_model(input_shape, num_classes)"
   ]
  },
  {
   "cell_type": "code",
   "execution_count": 14,
   "id": "872387af-f0d0-4271-a170-546c4a9d0d66",
   "metadata": {
    "scrolled": true
   },
   "outputs": [
    {
     "name": "stdout",
     "output_type": "stream",
     "text": [
      "Epoch 1/30\n",
      "\u001b[1m12/12\u001b[0m \u001b[32m━━━━━━━━━━━━━━━━━━━━\u001b[0m\u001b[37m\u001b[0m \u001b[1m33s\u001b[0m 3s/step - accuracy: 0.1696 - loss: 2.1122 - val_accuracy: 0.2000 - val_loss: 2.0406\n",
      "Epoch 2/30\n",
      "\u001b[1m12/12\u001b[0m \u001b[32m━━━━━━━━━━━━━━━━━━━━\u001b[0m\u001b[37m\u001b[0m \u001b[1m32s\u001b[0m 3s/step - accuracy: 0.2398 - loss: 1.9532 - val_accuracy: 0.2000 - val_loss: 2.0762\n",
      "Epoch 3/30\n",
      "\u001b[1m12/12\u001b[0m \u001b[32m━━━━━━━━━━━━━━━━━━━━\u001b[0m\u001b[37m\u001b[0m \u001b[1m32s\u001b[0m 3s/step - accuracy: 0.2395 - loss: 1.9501 - val_accuracy: 0.2286 - val_loss: 2.0801\n",
      "Epoch 4/30\n",
      "\u001b[1m12/12\u001b[0m \u001b[32m━━━━━━━━━━━━━━━━━━━━\u001b[0m\u001b[37m\u001b[0m \u001b[1m32s\u001b[0m 3s/step - accuracy: 0.3055 - loss: 1.8195 - val_accuracy: 0.2571 - val_loss: 2.0732\n",
      "Epoch 5/30\n",
      "\u001b[1m12/12\u001b[0m \u001b[32m━━━━━━━━━━━━━━━━━━━━\u001b[0m\u001b[37m\u001b[0m \u001b[1m31s\u001b[0m 3s/step - accuracy: 0.2986 - loss: 1.8372 - val_accuracy: 0.2000 - val_loss: 2.0902\n",
      "Epoch 6/30\n",
      "\u001b[1m12/12\u001b[0m \u001b[32m━━━━━━━━━━━━━━━━━━━━\u001b[0m\u001b[37m\u001b[0m \u001b[1m45s\u001b[0m 4s/step - accuracy: 0.2608 - loss: 1.8613 - val_accuracy: 0.2571 - val_loss: 1.9837\n",
      "Epoch 7/30\n",
      "\u001b[1m12/12\u001b[0m \u001b[32m━━━━━━━━━━━━━━━━━━━━\u001b[0m\u001b[37m\u001b[0m \u001b[1m46s\u001b[0m 4s/step - accuracy: 0.3230 - loss: 1.7272 - val_accuracy: 0.2571 - val_loss: 2.0265\n",
      "Epoch 8/30\n",
      "\u001b[1m12/12\u001b[0m \u001b[32m━━━━━━━━━━━━━━━━━━━━\u001b[0m\u001b[37m\u001b[0m \u001b[1m37s\u001b[0m 3s/step - accuracy: 0.3260 - loss: 1.7143 - val_accuracy: 0.3143 - val_loss: 2.0226\n",
      "Epoch 9/30\n",
      "\u001b[1m12/12\u001b[0m \u001b[32m━━━━━━━━━━━━━━━━━━━━\u001b[0m\u001b[37m\u001b[0m \u001b[1m34s\u001b[0m 3s/step - accuracy: 0.3619 - loss: 1.6327 - val_accuracy: 0.3429 - val_loss: 1.9227\n",
      "Epoch 10/30\n",
      "\u001b[1m12/12\u001b[0m \u001b[32m━━━━━━━━━━━━━━━━━━━━\u001b[0m\u001b[37m\u001b[0m \u001b[1m40s\u001b[0m 3s/step - accuracy: 0.3482 - loss: 1.6658 - val_accuracy: 0.3714 - val_loss: 1.9391\n",
      "Epoch 11/30\n",
      "\u001b[1m12/12\u001b[0m \u001b[32m━━━━━━━━━━━━━━━━━━━━\u001b[0m\u001b[37m\u001b[0m \u001b[1m39s\u001b[0m 3s/step - accuracy: 0.3653 - loss: 1.6287 - val_accuracy: 0.2857 - val_loss: 1.9050\n",
      "Epoch 12/30\n",
      "\u001b[1m12/12\u001b[0m \u001b[32m━━━━━━━━━━━━━━━━━━━━\u001b[0m\u001b[37m\u001b[0m \u001b[1m41s\u001b[0m 3s/step - accuracy: 0.3695 - loss: 1.6303 - val_accuracy: 0.3143 - val_loss: 1.8605\n",
      "Epoch 13/30\n",
      "\u001b[1m12/12\u001b[0m \u001b[32m━━━━━━━━━━━━━━━━━━━━\u001b[0m\u001b[37m\u001b[0m \u001b[1m41s\u001b[0m 3s/step - accuracy: 0.4669 - loss: 1.5052 - val_accuracy: 0.4286 - val_loss: 1.7930\n",
      "Epoch 14/30\n",
      "\u001b[1m12/12\u001b[0m \u001b[32m━━━━━━━━━━━━━━━━━━━━\u001b[0m\u001b[37m\u001b[0m \u001b[1m40s\u001b[0m 3s/step - accuracy: 0.4147 - loss: 1.5016 - val_accuracy: 0.4286 - val_loss: 1.8415\n",
      "Epoch 15/30\n",
      "\u001b[1m12/12\u001b[0m \u001b[32m━━━━━━━━━━━━━━━━━━━━\u001b[0m\u001b[37m\u001b[0m \u001b[1m41s\u001b[0m 3s/step - accuracy: 0.4651 - loss: 1.4410 - val_accuracy: 0.4000 - val_loss: 1.8090\n",
      "Epoch 16/30\n",
      "\u001b[1m12/12\u001b[0m \u001b[32m━━━━━━━━━━━━━━━━━━━━\u001b[0m\u001b[37m\u001b[0m \u001b[1m41s\u001b[0m 3s/step - accuracy: 0.4398 - loss: 1.4060 - val_accuracy: 0.2571 - val_loss: 2.0473\n",
      "Epoch 17/30\n",
      "\u001b[1m12/12\u001b[0m \u001b[32m━━━━━━━━━━━━━━━━━━━━\u001b[0m\u001b[37m\u001b[0m \u001b[1m41s\u001b[0m 3s/step - accuracy: 0.4502 - loss: 1.4516 - val_accuracy: 0.3429 - val_loss: 1.8233\n",
      "Epoch 18/30\n",
      "\u001b[1m12/12\u001b[0m \u001b[32m━━━━━━━━━━━━━━━━━━━━\u001b[0m\u001b[37m\u001b[0m \u001b[1m42s\u001b[0m 3s/step - accuracy: 0.4786 - loss: 1.3677 - val_accuracy: 0.4286 - val_loss: 1.7419\n",
      "Epoch 19/30\n",
      "\u001b[1m12/12\u001b[0m \u001b[32m━━━━━━━━━━━━━━━━━━━━\u001b[0m\u001b[37m\u001b[0m \u001b[1m36s\u001b[0m 3s/step - accuracy: 0.4840 - loss: 1.3828 - val_accuracy: 0.4000 - val_loss: 1.8667\n",
      "Epoch 20/30\n",
      "\u001b[1m12/12\u001b[0m \u001b[32m━━━━━━━━━━━━━━━━━━━━\u001b[0m\u001b[37m\u001b[0m \u001b[1m32s\u001b[0m 3s/step - accuracy: 0.4797 - loss: 1.3564 - val_accuracy: 0.4000 - val_loss: 1.7766\n",
      "Epoch 21/30\n",
      "\u001b[1m12/12\u001b[0m \u001b[32m━━━━━━━━━━━━━━━━━━━━\u001b[0m\u001b[37m\u001b[0m \u001b[1m29s\u001b[0m 2s/step - accuracy: 0.5111 - loss: 1.3063 - val_accuracy: 0.3714 - val_loss: 1.9221\n",
      "Epoch 22/30\n",
      "\u001b[1m12/12\u001b[0m \u001b[32m━━━━━━━━━━━━━━━━━━━━\u001b[0m\u001b[37m\u001b[0m \u001b[1m31s\u001b[0m 3s/step - accuracy: 0.4835 - loss: 1.3821 - val_accuracy: 0.4286 - val_loss: 1.8691\n",
      "Epoch 23/30\n",
      "\u001b[1m12/12\u001b[0m \u001b[32m━━━━━━━━━━━━━━━━━━━━\u001b[0m\u001b[37m\u001b[0m \u001b[1m32s\u001b[0m 3s/step - accuracy: 0.5069 - loss: 1.3571 - val_accuracy: 0.3714 - val_loss: 1.7655\n",
      "Epoch 24/30\n",
      "\u001b[1m12/12\u001b[0m \u001b[32m━━━━━━━━━━━━━━━━━━━━\u001b[0m\u001b[37m\u001b[0m \u001b[1m34s\u001b[0m 3s/step - accuracy: 0.5123 - loss: 1.3296 - val_accuracy: 0.4286 - val_loss: 1.8451\n",
      "Epoch 25/30\n",
      "\u001b[1m12/12\u001b[0m \u001b[32m━━━━━━━━━━━━━━━━━━━━\u001b[0m\u001b[37m\u001b[0m \u001b[1m35s\u001b[0m 3s/step - accuracy: 0.5194 - loss: 1.2829 - val_accuracy: 0.4000 - val_loss: 1.8696\n",
      "Epoch 26/30\n",
      "\u001b[1m12/12\u001b[0m \u001b[32m━━━━━━━━━━━━━━━━━━━━\u001b[0m\u001b[37m\u001b[0m \u001b[1m37s\u001b[0m 3s/step - accuracy: 0.5168 - loss: 1.2651 - val_accuracy: 0.4571 - val_loss: 1.8278\n",
      "Epoch 27/30\n",
      "\u001b[1m12/12\u001b[0m \u001b[32m━━━━━━━━━━━━━━━━━━━━\u001b[0m\u001b[37m\u001b[0m \u001b[1m35s\u001b[0m 3s/step - accuracy: 0.5437 - loss: 1.2376 - val_accuracy: 0.4857 - val_loss: 1.9283\n",
      "Epoch 28/30\n",
      "\u001b[1m12/12\u001b[0m \u001b[32m━━━━━━━━━━━━━━━━━━━━\u001b[0m\u001b[37m\u001b[0m \u001b[1m38s\u001b[0m 3s/step - accuracy: 0.5390 - loss: 1.2731 - val_accuracy: 0.3714 - val_loss: 2.0539\n",
      "Epoch 29/30\n",
      "\u001b[1m12/12\u001b[0m \u001b[32m━━━━━━━━━━━━━━━━━━━━\u001b[0m\u001b[37m\u001b[0m \u001b[1m36s\u001b[0m 3s/step - accuracy: 0.5327 - loss: 1.2702 - val_accuracy: 0.4286 - val_loss: 1.8456\n",
      "Epoch 30/30\n",
      "\u001b[1m12/12\u001b[0m \u001b[32m━━━━━━━━━━━━━━━━━━━━\u001b[0m\u001b[37m\u001b[0m \u001b[1m35s\u001b[0m 3s/step - accuracy: 0.5105 - loss: 1.2855 - val_accuracy: 0.4286 - val_loss: 1.8693\n"
     ]
    },
    {
     "data": {
      "text/plain": [
       "<keras.src.callbacks.history.History at 0x36d6f0310>"
      ]
     },
     "execution_count": 14,
     "metadata": {},
     "output_type": "execute_result"
    }
   ],
   "source": [
    "# Train models\n",
    "lstm_model.fit(train_features, train_labels_encoded, validation_data=(dev_features, dev_labels_encoded), epochs=30, batch_size=64)"
   ]
  },
  {
   "cell_type": "code",
   "execution_count": 15,
   "id": "582f7e19-9962-4c61-bdd9-2fd38c2ccbdb",
   "metadata": {},
   "outputs": [
    {
     "name": "stdout",
     "output_type": "stream",
     "text": [
      "\u001b[1m2/2\u001b[0m \u001b[32m━━━━━━━━━━━━━━━━━━━━\u001b[0m\u001b[37m\u001b[0m \u001b[1m1s\u001b[0m 243ms/step - accuracy: 0.4905 - loss: 1.5268\n"
     ]
    }
   ],
   "source": [
    "# Evaluate models\n",
    "lstm_eval = lstm_model.evaluate(test_features, test_labels_encoded)"
   ]
  },
  {
   "cell_type": "code",
   "execution_count": 16,
   "id": "bc87de63-5ce4-47e2-a9ea-e01dbeb70a90",
   "metadata": {},
   "outputs": [
    {
     "name": "stdout",
     "output_type": "stream",
     "text": [
      "LSTM Model - Loss: 1.5501371622085571, Accuracy: 0.48571428656578064\n"
     ]
    }
   ],
   "source": [
    "print(f\"LSTM Model - Loss: {lstm_eval[0]}, Accuracy: {lstm_eval[1]}\")"
   ]
  },
  {
   "cell_type": "code",
   "execution_count": 17,
   "id": "888849ef-f621-40e0-9da8-5c041d712c84",
   "metadata": {},
   "outputs": [
    {
     "name": "stdout",
     "output_type": "stream",
     "text": [
      "Epoch 1/30\n",
      "\u001b[1m12/12\u001b[0m \u001b[32m━━━━━━━━━━━━━━━━━━━━\u001b[0m\u001b[37m\u001b[0m \u001b[1m1s\u001b[0m 33ms/step - accuracy: 0.1372 - loss: 347.1519 - val_accuracy: 0.1714 - val_loss: 394.4645\n",
      "Epoch 2/30\n",
      "\u001b[1m12/12\u001b[0m \u001b[32m━━━━━━━━━━━━━━━━━━━━\u001b[0m\u001b[37m\u001b[0m \u001b[1m0s\u001b[0m 27ms/step - accuracy: 0.1692 - loss: 288.0038 - val_accuracy: 0.2571 - val_loss: 127.5615\n",
      "Epoch 3/30\n",
      "\u001b[1m12/12\u001b[0m \u001b[32m━━━━━━━━━━━━━━━━━━━━\u001b[0m\u001b[37m\u001b[0m \u001b[1m0s\u001b[0m 28ms/step - accuracy: 0.2920 - loss: 90.5766 - val_accuracy: 0.4000 - val_loss: 50.4788\n",
      "Epoch 4/30\n",
      "\u001b[1m12/12\u001b[0m \u001b[32m━━━━━━━━━━━━━━━━━━━━\u001b[0m\u001b[37m\u001b[0m \u001b[1m0s\u001b[0m 29ms/step - accuracy: 0.4706 - loss: 35.5999 - val_accuracy: 0.4571 - val_loss: 38.2517\n",
      "Epoch 5/30\n",
      "\u001b[1m12/12\u001b[0m \u001b[32m━━━━━━━━━━━━━━━━━━━━\u001b[0m\u001b[37m\u001b[0m \u001b[1m0s\u001b[0m 29ms/step - accuracy: 0.5311 - loss: 28.0079 - val_accuracy: 0.3143 - val_loss: 35.3115\n",
      "Epoch 6/30\n",
      "\u001b[1m12/12\u001b[0m \u001b[32m━━━━━━━━━━━━━━━━━━━━\u001b[0m\u001b[37m\u001b[0m \u001b[1m0s\u001b[0m 30ms/step - accuracy: 0.6072 - loss: 22.8701 - val_accuracy: 0.4857 - val_loss: 24.5140\n",
      "Epoch 7/30\n",
      "\u001b[1m12/12\u001b[0m \u001b[32m━━━━━━━━━━━━━━━━━━━━\u001b[0m\u001b[37m\u001b[0m \u001b[1m0s\u001b[0m 31ms/step - accuracy: 0.6650 - loss: 16.2105 - val_accuracy: 0.5429 - val_loss: 33.8156\n",
      "Epoch 8/30\n",
      "\u001b[1m12/12\u001b[0m \u001b[32m━━━━━━━━━━━━━━━━━━━━\u001b[0m\u001b[37m\u001b[0m \u001b[1m0s\u001b[0m 32ms/step - accuracy: 0.6977 - loss: 15.6298 - val_accuracy: 0.4286 - val_loss: 24.5752\n",
      "Epoch 9/30\n",
      "\u001b[1m12/12\u001b[0m \u001b[32m━━━━━━━━━━━━━━━━━━━━\u001b[0m\u001b[37m\u001b[0m \u001b[1m0s\u001b[0m 35ms/step - accuracy: 0.7696 - loss: 6.9733 - val_accuracy: 0.5143 - val_loss: 18.0126\n",
      "Epoch 10/30\n",
      "\u001b[1m12/12\u001b[0m \u001b[32m━━━━━━━━━━━━━━━━━━━━\u001b[0m\u001b[37m\u001b[0m \u001b[1m0s\u001b[0m 33ms/step - accuracy: 0.8334 - loss: 8.6968 - val_accuracy: 0.4857 - val_loss: 17.6731\n",
      "Epoch 11/30\n",
      "\u001b[1m12/12\u001b[0m \u001b[32m━━━━━━━━━━━━━━━━━━━━\u001b[0m\u001b[37m\u001b[0m \u001b[1m0s\u001b[0m 30ms/step - accuracy: 0.8598 - loss: 3.8091 - val_accuracy: 0.5429 - val_loss: 15.1745\n",
      "Epoch 12/30\n",
      "\u001b[1m12/12\u001b[0m \u001b[32m━━━━━━━━━━━━━━━━━━━━\u001b[0m\u001b[37m\u001b[0m \u001b[1m0s\u001b[0m 30ms/step - accuracy: 0.9070 - loss: 2.7397 - val_accuracy: 0.4571 - val_loss: 16.6013\n",
      "Epoch 13/30\n",
      "\u001b[1m12/12\u001b[0m \u001b[32m━━━━━━━━━━━━━━━━━━━━\u001b[0m\u001b[37m\u001b[0m \u001b[1m0s\u001b[0m 31ms/step - accuracy: 0.8814 - loss: 6.4507 - val_accuracy: 0.5429 - val_loss: 14.3566\n",
      "Epoch 14/30\n",
      "\u001b[1m12/12\u001b[0m \u001b[32m━━━━━━━━━━━━━━━━━━━━\u001b[0m\u001b[37m\u001b[0m \u001b[1m0s\u001b[0m 34ms/step - accuracy: 0.8924 - loss: 3.2132 - val_accuracy: 0.4857 - val_loss: 13.0886\n",
      "Epoch 15/30\n",
      "\u001b[1m12/12\u001b[0m \u001b[32m━━━━━━━━━━━━━━━━━━━━\u001b[0m\u001b[37m\u001b[0m \u001b[1m0s\u001b[0m 33ms/step - accuracy: 0.9368 - loss: 2.2990 - val_accuracy: 0.5429 - val_loss: 10.4589\n",
      "Epoch 16/30\n",
      "\u001b[1m12/12\u001b[0m \u001b[32m━━━━━━━━━━━━━━━━━━━━\u001b[0m\u001b[37m\u001b[0m \u001b[1m0s\u001b[0m 33ms/step - accuracy: 0.9445 - loss: 1.6997 - val_accuracy: 0.5429 - val_loss: 8.5453\n",
      "Epoch 17/30\n",
      "\u001b[1m12/12\u001b[0m \u001b[32m━━━━━━━━━━━━━━━━━━━━\u001b[0m\u001b[37m\u001b[0m \u001b[1m1s\u001b[0m 42ms/step - accuracy: 0.9515 - loss: 1.3336 - val_accuracy: 0.6000 - val_loss: 9.3406\n",
      "Epoch 18/30\n",
      "\u001b[1m12/12\u001b[0m \u001b[32m━━━━━━━━━━━━━━━━━━━━\u001b[0m\u001b[37m\u001b[0m \u001b[1m1s\u001b[0m 47ms/step - accuracy: 0.9888 - loss: 0.1634 - val_accuracy: 0.5714 - val_loss: 9.0362\n",
      "Epoch 19/30\n",
      "\u001b[1m12/12\u001b[0m \u001b[32m━━━━━━━━━━━━━━━━━━━━\u001b[0m\u001b[37m\u001b[0m \u001b[1m0s\u001b[0m 38ms/step - accuracy: 0.9843 - loss: 0.2887 - val_accuracy: 0.5714 - val_loss: 10.3888\n",
      "Epoch 20/30\n",
      "\u001b[1m12/12\u001b[0m \u001b[32m━━━━━━━━━━━━━━━━━━━━\u001b[0m\u001b[37m\u001b[0m \u001b[1m0s\u001b[0m 34ms/step - accuracy: 0.9862 - loss: 0.8658 - val_accuracy: 0.4571 - val_loss: 10.9050\n",
      "Epoch 21/30\n",
      "\u001b[1m12/12\u001b[0m \u001b[32m━━━━━━━━━━━━━━━━━━━━\u001b[0m\u001b[37m\u001b[0m \u001b[1m0s\u001b[0m 35ms/step - accuracy: 0.9881 - loss: 0.0825 - val_accuracy: 0.6286 - val_loss: 8.0882\n",
      "Epoch 22/30\n",
      "\u001b[1m12/12\u001b[0m \u001b[32m━━━━━━━━━━━━━━━━━━━━\u001b[0m\u001b[37m\u001b[0m \u001b[1m0s\u001b[0m 36ms/step - accuracy: 0.9967 - loss: 0.0154 - val_accuracy: 0.6000 - val_loss: 9.3127\n",
      "Epoch 23/30\n",
      "\u001b[1m12/12\u001b[0m \u001b[32m━━━━━━━━━━━━━━━━━━━━\u001b[0m\u001b[37m\u001b[0m \u001b[1m0s\u001b[0m 39ms/step - accuracy: 0.9982 - loss: 0.0039 - val_accuracy: 0.5714 - val_loss: 9.5254\n",
      "Epoch 24/30\n",
      "\u001b[1m12/12\u001b[0m \u001b[32m━━━━━━━━━━━━━━━━━━━━\u001b[0m\u001b[37m\u001b[0m \u001b[1m0s\u001b[0m 37ms/step - accuracy: 0.9974 - loss: 0.0856 - val_accuracy: 0.5429 - val_loss: 11.9198\n",
      "Epoch 25/30\n",
      "\u001b[1m12/12\u001b[0m \u001b[32m━━━━━━━━━━━━━━━━━━━━\u001b[0m\u001b[37m\u001b[0m \u001b[1m0s\u001b[0m 38ms/step - accuracy: 0.9913 - loss: 0.3552 - val_accuracy: 0.4286 - val_loss: 12.2673\n",
      "Epoch 26/30\n",
      "\u001b[1m12/12\u001b[0m \u001b[32m━━━━━━━━━━━━━━━━━━━━\u001b[0m\u001b[37m\u001b[0m \u001b[1m0s\u001b[0m 36ms/step - accuracy: 0.9828 - loss: 0.4309 - val_accuracy: 0.5429 - val_loss: 9.0784\n",
      "Epoch 27/30\n",
      "\u001b[1m12/12\u001b[0m \u001b[32m━━━━━━━━━━━━━━━━━━━━\u001b[0m\u001b[37m\u001b[0m \u001b[1m0s\u001b[0m 37ms/step - accuracy: 0.9945 - loss: 0.0512 - val_accuracy: 0.5429 - val_loss: 11.7901\n",
      "Epoch 28/30\n",
      "\u001b[1m12/12\u001b[0m \u001b[32m━━━━━━━━━━━━━━━━━━━━\u001b[0m\u001b[37m\u001b[0m \u001b[1m0s\u001b[0m 37ms/step - accuracy: 0.9899 - loss: 0.1637 - val_accuracy: 0.5143 - val_loss: 10.4852\n",
      "Epoch 29/30\n",
      "\u001b[1m12/12\u001b[0m \u001b[32m━━━━━━━━━━━━━━━━━━━━\u001b[0m\u001b[37m\u001b[0m \u001b[1m0s\u001b[0m 37ms/step - accuracy: 0.9952 - loss: 0.0390 - val_accuracy: 0.5429 - val_loss: 9.4016\n",
      "Epoch 30/30\n",
      "\u001b[1m12/12\u001b[0m \u001b[32m━━━━━━━━━━━━━━━━━━━━\u001b[0m\u001b[37m\u001b[0m \u001b[1m0s\u001b[0m 39ms/step - accuracy: 0.9953 - loss: 0.0088 - val_accuracy: 0.4857 - val_loss: 11.1796\n"
     ]
    },
    {
     "data": {
      "text/plain": [
       "<keras.src.callbacks.history.History at 0x31080cf90>"
      ]
     },
     "execution_count": 17,
     "metadata": {},
     "output_type": "execute_result"
    }
   ],
   "source": [
    "cnn_model.fit(train_features_cnn, train_labels_encoded, validation_data=(dev_features_cnn, dev_labels_encoded), epochs=30, batch_size=64)"
   ]
  },
  {
   "cell_type": "code",
   "execution_count": 18,
   "id": "d4ab0d01-516a-41f5-acaf-2b69692d5a4e",
   "metadata": {},
   "outputs": [
    {
     "name": "stdout",
     "output_type": "stream",
     "text": [
      "\u001b[1m2/2\u001b[0m \u001b[32m━━━━━━━━━━━━━━━━━━━━\u001b[0m\u001b[37m\u001b[0m \u001b[1m0s\u001b[0m 3ms/step - accuracy: 0.3917 - loss: 23.6624 \n"
     ]
    }
   ],
   "source": [
    "# Evaluate models\n",
    "cnn_eval = cnn_model.evaluate(test_features_cnn, test_labels_encoded)"
   ]
  },
  {
   "cell_type": "code",
   "execution_count": 19,
   "id": "5e04311e-cfe6-4732-8034-4dcad3dbceeb",
   "metadata": {},
   "outputs": [
    {
     "name": "stdout",
     "output_type": "stream",
     "text": [
      "CNN Model - Loss: 23.7609806060791, Accuracy: 0.4000000059604645\n"
     ]
    }
   ],
   "source": [
    "print(f\"CNN Model - Loss: {cnn_eval[0]}, Accuracy: {cnn_eval[1]}\")"
   ]
  },
  {
   "cell_type": "code",
   "execution_count": null,
   "id": "e8ba2c8e-1084-4f1d-a8c5-d0e06cf4f9e7",
   "metadata": {},
   "outputs": [],
   "source": []
  }
 ],
 "metadata": {
  "kernelspec": {
   "display_name": "Python 3 (ipykernel)",
   "language": "python",
   "name": "python3"
  },
  "language_info": {
   "codemirror_mode": {
    "name": "ipython",
    "version": 3
   },
   "file_extension": ".py",
   "mimetype": "text/x-python",
   "name": "python",
   "nbconvert_exporter": "python",
   "pygments_lexer": "ipython3",
   "version": "3.11.7"
  }
 },
 "nbformat": 4,
 "nbformat_minor": 5
}
